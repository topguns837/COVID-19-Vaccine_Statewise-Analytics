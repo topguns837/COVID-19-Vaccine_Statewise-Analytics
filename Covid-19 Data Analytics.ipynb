{
 "cells": [
  {
   "cell_type": "code",
   "execution_count": 2,
   "id": "7245c0a8",
   "metadata": {},
   "outputs": [
    {
     "name": "stdout",
     "output_type": "stream",
     "text": [
      "Imported\n"
     ]
    }
   ],
   "source": [
    "import pandas as pd\n",
    "import numpy as np\n",
    "import seaborn as sns\n",
    "import matplotlib.pyplot as plt\n",
    "print(\"Imported\")"
   ]
  },
  {
   "cell_type": "code",
   "execution_count": 3,
   "id": "59516933",
   "metadata": {},
   "outputs": [
    {
     "name": "stdout",
     "output_type": "stream",
     "text": [
      "CSV read\n"
     ]
    }
   ],
   "source": [
    "df=pd.read_csv(\"C:/Users/Arjun K Haridas/Desktop/ML/COVID-19 Data/covid_vaccine_statewise.csv\")\n",
    "print(\"CSV read\")"
   ]
  },
  {
   "cell_type": "code",
   "execution_count": 4,
   "id": "c1da2cec",
   "metadata": {},
   "outputs": [
    {
     "data": {
      "text/html": [
       "<div>\n",
       "<style scoped>\n",
       "    .dataframe tbody tr th:only-of-type {\n",
       "        vertical-align: middle;\n",
       "    }\n",
       "\n",
       "    .dataframe tbody tr th {\n",
       "        vertical-align: top;\n",
       "    }\n",
       "\n",
       "    .dataframe thead th {\n",
       "        text-align: right;\n",
       "    }\n",
       "</style>\n",
       "<table border=\"1\" class=\"dataframe\">\n",
       "  <thead>\n",
       "    <tr style=\"text-align: right;\">\n",
       "      <th></th>\n",
       "      <th>Updated On</th>\n",
       "      <th>State</th>\n",
       "      <th>Total Doses Administered</th>\n",
       "      <th>Sessions</th>\n",
       "      <th>Sites</th>\n",
       "      <th>First Dose Administered</th>\n",
       "      <th>Second Dose Administered</th>\n",
       "      <th>Male (Doses Administered)</th>\n",
       "      <th>Female (Doses Administered)</th>\n",
       "      <th>Transgender (Doses Administered)</th>\n",
       "      <th>...</th>\n",
       "      <th>18-44 Years (Doses Administered)</th>\n",
       "      <th>45-60 Years (Doses Administered)</th>\n",
       "      <th>60+ Years (Doses Administered)</th>\n",
       "      <th>18-44 Years(Individuals Vaccinated)</th>\n",
       "      <th>45-60 Years(Individuals Vaccinated)</th>\n",
       "      <th>60+ Years(Individuals Vaccinated)</th>\n",
       "      <th>Male(Individuals Vaccinated)</th>\n",
       "      <th>Female(Individuals Vaccinated)</th>\n",
       "      <th>Transgender(Individuals Vaccinated)</th>\n",
       "      <th>Total Individuals Vaccinated</th>\n",
       "    </tr>\n",
       "  </thead>\n",
       "  <tbody>\n",
       "    <tr>\n",
       "      <th>0</th>\n",
       "      <td>16/01/2021</td>\n",
       "      <td>India</td>\n",
       "      <td>48276.0</td>\n",
       "      <td>3455.0</td>\n",
       "      <td>2957.0</td>\n",
       "      <td>48276.0</td>\n",
       "      <td>0.0</td>\n",
       "      <td>NaN</td>\n",
       "      <td>NaN</td>\n",
       "      <td>NaN</td>\n",
       "      <td>...</td>\n",
       "      <td>NaN</td>\n",
       "      <td>NaN</td>\n",
       "      <td>NaN</td>\n",
       "      <td>NaN</td>\n",
       "      <td>NaN</td>\n",
       "      <td>NaN</td>\n",
       "      <td>23757.0</td>\n",
       "      <td>24517.0</td>\n",
       "      <td>2.0</td>\n",
       "      <td>48276.0</td>\n",
       "    </tr>\n",
       "    <tr>\n",
       "      <th>1</th>\n",
       "      <td>17/01/2021</td>\n",
       "      <td>India</td>\n",
       "      <td>58604.0</td>\n",
       "      <td>8532.0</td>\n",
       "      <td>4954.0</td>\n",
       "      <td>58604.0</td>\n",
       "      <td>0.0</td>\n",
       "      <td>NaN</td>\n",
       "      <td>NaN</td>\n",
       "      <td>NaN</td>\n",
       "      <td>...</td>\n",
       "      <td>NaN</td>\n",
       "      <td>NaN</td>\n",
       "      <td>NaN</td>\n",
       "      <td>NaN</td>\n",
       "      <td>NaN</td>\n",
       "      <td>NaN</td>\n",
       "      <td>27348.0</td>\n",
       "      <td>31252.0</td>\n",
       "      <td>4.0</td>\n",
       "      <td>58604.0</td>\n",
       "    </tr>\n",
       "    <tr>\n",
       "      <th>2</th>\n",
       "      <td>18/01/2021</td>\n",
       "      <td>India</td>\n",
       "      <td>99449.0</td>\n",
       "      <td>13611.0</td>\n",
       "      <td>6583.0</td>\n",
       "      <td>99449.0</td>\n",
       "      <td>0.0</td>\n",
       "      <td>NaN</td>\n",
       "      <td>NaN</td>\n",
       "      <td>NaN</td>\n",
       "      <td>...</td>\n",
       "      <td>NaN</td>\n",
       "      <td>NaN</td>\n",
       "      <td>NaN</td>\n",
       "      <td>NaN</td>\n",
       "      <td>NaN</td>\n",
       "      <td>NaN</td>\n",
       "      <td>41361.0</td>\n",
       "      <td>58083.0</td>\n",
       "      <td>5.0</td>\n",
       "      <td>99449.0</td>\n",
       "    </tr>\n",
       "    <tr>\n",
       "      <th>3</th>\n",
       "      <td>19/01/2021</td>\n",
       "      <td>India</td>\n",
       "      <td>195525.0</td>\n",
       "      <td>17855.0</td>\n",
       "      <td>7951.0</td>\n",
       "      <td>195525.0</td>\n",
       "      <td>0.0</td>\n",
       "      <td>NaN</td>\n",
       "      <td>NaN</td>\n",
       "      <td>NaN</td>\n",
       "      <td>...</td>\n",
       "      <td>NaN</td>\n",
       "      <td>NaN</td>\n",
       "      <td>NaN</td>\n",
       "      <td>NaN</td>\n",
       "      <td>NaN</td>\n",
       "      <td>NaN</td>\n",
       "      <td>81901.0</td>\n",
       "      <td>113613.0</td>\n",
       "      <td>11.0</td>\n",
       "      <td>195525.0</td>\n",
       "    </tr>\n",
       "    <tr>\n",
       "      <th>4</th>\n",
       "      <td>20/01/2021</td>\n",
       "      <td>India</td>\n",
       "      <td>251280.0</td>\n",
       "      <td>25472.0</td>\n",
       "      <td>10504.0</td>\n",
       "      <td>251280.0</td>\n",
       "      <td>0.0</td>\n",
       "      <td>NaN</td>\n",
       "      <td>NaN</td>\n",
       "      <td>NaN</td>\n",
       "      <td>...</td>\n",
       "      <td>NaN</td>\n",
       "      <td>NaN</td>\n",
       "      <td>NaN</td>\n",
       "      <td>NaN</td>\n",
       "      <td>NaN</td>\n",
       "      <td>NaN</td>\n",
       "      <td>98111.0</td>\n",
       "      <td>153145.0</td>\n",
       "      <td>24.0</td>\n",
       "      <td>251280.0</td>\n",
       "    </tr>\n",
       "  </tbody>\n",
       "</table>\n",
       "<p>5 rows × 24 columns</p>\n",
       "</div>"
      ],
      "text/plain": [
       "   Updated On  State  Total Doses Administered  Sessions   Sites   \\\n",
       "0  16/01/2021  India                   48276.0    3455.0   2957.0   \n",
       "1  17/01/2021  India                   58604.0    8532.0   4954.0   \n",
       "2  18/01/2021  India                   99449.0   13611.0   6583.0   \n",
       "3  19/01/2021  India                  195525.0   17855.0   7951.0   \n",
       "4  20/01/2021  India                  251280.0   25472.0  10504.0   \n",
       "\n",
       "   First Dose Administered  Second Dose Administered  \\\n",
       "0                  48276.0                       0.0   \n",
       "1                  58604.0                       0.0   \n",
       "2                  99449.0                       0.0   \n",
       "3                 195525.0                       0.0   \n",
       "4                 251280.0                       0.0   \n",
       "\n",
       "   Male (Doses Administered)  Female (Doses Administered)  \\\n",
       "0                        NaN                          NaN   \n",
       "1                        NaN                          NaN   \n",
       "2                        NaN                          NaN   \n",
       "3                        NaN                          NaN   \n",
       "4                        NaN                          NaN   \n",
       "\n",
       "   Transgender (Doses Administered)  ...  18-44 Years (Doses Administered)  \\\n",
       "0                               NaN  ...                               NaN   \n",
       "1                               NaN  ...                               NaN   \n",
       "2                               NaN  ...                               NaN   \n",
       "3                               NaN  ...                               NaN   \n",
       "4                               NaN  ...                               NaN   \n",
       "\n",
       "   45-60 Years (Doses Administered)  60+ Years (Doses Administered)  \\\n",
       "0                               NaN                             NaN   \n",
       "1                               NaN                             NaN   \n",
       "2                               NaN                             NaN   \n",
       "3                               NaN                             NaN   \n",
       "4                               NaN                             NaN   \n",
       "\n",
       "   18-44 Years(Individuals Vaccinated)  45-60 Years(Individuals Vaccinated)  \\\n",
       "0                                  NaN                                  NaN   \n",
       "1                                  NaN                                  NaN   \n",
       "2                                  NaN                                  NaN   \n",
       "3                                  NaN                                  NaN   \n",
       "4                                  NaN                                  NaN   \n",
       "\n",
       "   60+ Years(Individuals Vaccinated)  Male(Individuals Vaccinated)  \\\n",
       "0                                NaN                       23757.0   \n",
       "1                                NaN                       27348.0   \n",
       "2                                NaN                       41361.0   \n",
       "3                                NaN                       81901.0   \n",
       "4                                NaN                       98111.0   \n",
       "\n",
       "   Female(Individuals Vaccinated)  Transgender(Individuals Vaccinated)  \\\n",
       "0                         24517.0                                  2.0   \n",
       "1                         31252.0                                  4.0   \n",
       "2                         58083.0                                  5.0   \n",
       "3                        113613.0                                 11.0   \n",
       "4                        153145.0                                 24.0   \n",
       "\n",
       "   Total Individuals Vaccinated  \n",
       "0                       48276.0  \n",
       "1                       58604.0  \n",
       "2                       99449.0  \n",
       "3                      195525.0  \n",
       "4                      251280.0  \n",
       "\n",
       "[5 rows x 24 columns]"
      ]
     },
     "execution_count": 4,
     "metadata": {},
     "output_type": "execute_result"
    }
   ],
   "source": [
    "df.head()"
   ]
  },
  {
   "cell_type": "code",
   "execution_count": 5,
   "id": "57aa8910",
   "metadata": {},
   "outputs": [
    {
     "data": {
      "text/plain": [
       "(7845, 24)"
      ]
     },
     "execution_count": 5,
     "metadata": {},
     "output_type": "execute_result"
    }
   ],
   "source": [
    "#We have 7845 rows and 24 columns\n",
    "df.shape"
   ]
  },
  {
   "cell_type": "code",
   "execution_count": 6,
   "id": "794469fe",
   "metadata": {},
   "outputs": [
    {
     "data": {
      "text/plain": [
       "Index(['Updated On', 'State', 'Total Doses Administered', 'Sessions',\n",
       "       ' Sites ', 'First Dose Administered', 'Second Dose Administered',\n",
       "       'Male (Doses Administered)', 'Female (Doses Administered)',\n",
       "       'Transgender (Doses Administered)', ' Covaxin (Doses Administered)',\n",
       "       'CoviShield (Doses Administered)', 'Sputnik V (Doses Administered)',\n",
       "       'AEFI', '18-44 Years (Doses Administered)',\n",
       "       '45-60 Years (Doses Administered)', '60+ Years (Doses Administered)',\n",
       "       '18-44 Years(Individuals Vaccinated)',\n",
       "       '45-60 Years(Individuals Vaccinated)',\n",
       "       '60+ Years(Individuals Vaccinated)', 'Male(Individuals Vaccinated)',\n",
       "       'Female(Individuals Vaccinated)', 'Transgender(Individuals Vaccinated)',\n",
       "       'Total Individuals Vaccinated'],\n",
       "      dtype='object')"
      ]
     },
     "execution_count": 6,
     "metadata": {},
     "output_type": "execute_result"
    }
   ],
   "source": [
    "df.columns"
   ]
  },
  {
   "cell_type": "code",
   "execution_count": 7,
   "id": "65e7c12a",
   "metadata": {},
   "outputs": [
    {
     "data": {
      "text/plain": [
       "Updated On                                0\n",
       "State                                     0\n",
       "Total Doses Administered                224\n",
       "Sessions                                224\n",
       " Sites                                  224\n",
       "First Dose Administered                 224\n",
       "Second Dose Administered                224\n",
       "Male (Doses Administered)               384\n",
       "Female (Doses Administered)             384\n",
       "Transgender (Doses Administered)        384\n",
       " Covaxin (Doses Administered)           224\n",
       "CoviShield (Doses Administered)         224\n",
       "Sputnik V (Doses Administered)         4850\n",
       "AEFI                                   2407\n",
       "18-44 Years (Doses Administered)       6143\n",
       "45-60 Years (Doses Administered)       6143\n",
       "60+ Years (Doses Administered)         6143\n",
       "18-44 Years(Individuals Vaccinated)    4112\n",
       "45-60 Years(Individuals Vaccinated)    4111\n",
       "60+ Years(Individuals Vaccinated)      4111\n",
       "Male(Individuals Vaccinated)           7685\n",
       "Female(Individuals Vaccinated)         7685\n",
       "Transgender(Individuals Vaccinated)    7685\n",
       "Total Individuals Vaccinated           1926\n",
       "dtype: int64"
      ]
     },
     "execution_count": 7,
     "metadata": {},
     "output_type": "execute_result"
    }
   ],
   "source": [
    "df.isnull().sum()"
   ]
  },
  {
   "cell_type": "code",
   "execution_count": 8,
   "id": "7381c56c",
   "metadata": {},
   "outputs": [],
   "source": [
    "null_features=[x for x in df.columns if df[x].isnull().sum()>=1]"
   ]
  },
  {
   "cell_type": "code",
   "execution_count": 9,
   "id": "17bacdb4",
   "metadata": {},
   "outputs": [
    {
     "name": "stdout",
     "output_type": "stream",
     "text": [
      "['Total Doses Administered', 'Sessions', ' Sites ', 'First Dose Administered', 'Second Dose Administered', 'Male (Doses Administered)', 'Female (Doses Administered)', 'Transgender (Doses Administered)', ' Covaxin (Doses Administered)', 'CoviShield (Doses Administered)', 'Sputnik V (Doses Administered)', 'AEFI', '18-44 Years (Doses Administered)', '45-60 Years (Doses Administered)', '60+ Years (Doses Administered)', '18-44 Years(Individuals Vaccinated)', '45-60 Years(Individuals Vaccinated)', '60+ Years(Individuals Vaccinated)', 'Male(Individuals Vaccinated)', 'Female(Individuals Vaccinated)', 'Transgender(Individuals Vaccinated)', 'Total Individuals Vaccinated']\n"
     ]
    }
   ],
   "source": [
    "#Every feature has null values except updates on and date\n",
    "print(null_features)"
   ]
  },
  {
   "cell_type": "code",
   "execution_count": 10,
   "id": "e7c6f3c9",
   "metadata": {},
   "outputs": [
    {
     "name": "stdout",
     "output_type": "stream",
     "text": [
      "Total Doses Administered has 2.86 % null features\n",
      "\n",
      "Sessions has 2.86 % null features\n",
      "\n",
      " Sites  has 2.86 % null features\n",
      "\n",
      "First Dose Administered has 2.86 % null features\n",
      "\n",
      "Second Dose Administered has 2.86 % null features\n",
      "\n",
      "Male (Doses Administered) has 4.89 % null features\n",
      "\n",
      "Female (Doses Administered) has 4.89 % null features\n",
      "\n",
      "Transgender (Doses Administered) has 4.89 % null features\n",
      "\n",
      " Covaxin (Doses Administered) has 2.86 % null features\n",
      "\n",
      "CoviShield (Doses Administered) has 2.86 % null features\n",
      "\n",
      "Sputnik V (Doses Administered) has 61.82 % null features\n",
      "\n",
      "AEFI has 30.68 % null features\n",
      "\n",
      "18-44 Years (Doses Administered) has 78.3 % null features\n",
      "\n",
      "45-60 Years (Doses Administered) has 78.3 % null features\n",
      "\n",
      "60+ Years (Doses Administered) has 78.3 % null features\n",
      "\n",
      "18-44 Years(Individuals Vaccinated) has 52.42 % null features\n",
      "\n",
      "45-60 Years(Individuals Vaccinated) has 52.4 % null features\n",
      "\n",
      "60+ Years(Individuals Vaccinated) has 52.4 % null features\n",
      "\n",
      "Male(Individuals Vaccinated) has 97.96 % null features\n",
      "\n",
      "Female(Individuals Vaccinated) has 97.96 % null features\n",
      "\n",
      "Transgender(Individuals Vaccinated) has 97.96 % null features\n",
      "\n",
      "Total Individuals Vaccinated has 24.55 % null features\n",
      "\n"
     ]
    }
   ],
   "source": [
    "for features in null_features:\n",
    "    print(\"{} has {} % null features\\n\".format(features,round((df[features].isnull().sum()/len(df)*100),2)))\n",
    "    "
   ]
  },
  {
   "cell_type": "code",
   "execution_count": 11,
   "id": "8c6370f1",
   "metadata": {},
   "outputs": [
    {
     "name": "stdout",
     "output_type": "stream",
     "text": [
      "<class 'pandas.core.frame.DataFrame'>\n",
      "RangeIndex: 7845 entries, 0 to 7844\n",
      "Data columns (total 24 columns):\n",
      " #   Column                               Non-Null Count  Dtype  \n",
      "---  ------                               --------------  -----  \n",
      " 0   Updated On                           7845 non-null   object \n",
      " 1   State                                7845 non-null   object \n",
      " 2   Total Doses Administered             7621 non-null   float64\n",
      " 3   Sessions                             7621 non-null   float64\n",
      " 4    Sites                               7621 non-null   float64\n",
      " 5   First Dose Administered              7621 non-null   float64\n",
      " 6   Second Dose Administered             7621 non-null   float64\n",
      " 7   Male (Doses Administered)            7461 non-null   float64\n",
      " 8   Female (Doses Administered)          7461 non-null   float64\n",
      " 9   Transgender (Doses Administered)     7461 non-null   float64\n",
      " 10   Covaxin (Doses Administered)        7621 non-null   float64\n",
      " 11  CoviShield (Doses Administered)      7621 non-null   float64\n",
      " 12  Sputnik V (Doses Administered)       2995 non-null   float64\n",
      " 13  AEFI                                 5438 non-null   float64\n",
      " 14  18-44 Years (Doses Administered)     1702 non-null   float64\n",
      " 15  45-60 Years (Doses Administered)     1702 non-null   float64\n",
      " 16  60+ Years (Doses Administered)       1702 non-null   float64\n",
      " 17  18-44 Years(Individuals Vaccinated)  3733 non-null   float64\n",
      " 18  45-60 Years(Individuals Vaccinated)  3734 non-null   float64\n",
      " 19  60+ Years(Individuals Vaccinated)    3734 non-null   float64\n",
      " 20  Male(Individuals Vaccinated)         160 non-null    float64\n",
      " 21  Female(Individuals Vaccinated)       160 non-null    float64\n",
      " 22  Transgender(Individuals Vaccinated)  160 non-null    float64\n",
      " 23  Total Individuals Vaccinated         5919 non-null   float64\n",
      "dtypes: float64(22), object(2)\n",
      "memory usage: 1.4+ MB\n"
     ]
    }
   ],
   "source": [
    "df.info()"
   ]
  },
  {
   "cell_type": "code",
   "execution_count": 12,
   "id": "0b4cca88",
   "metadata": {},
   "outputs": [],
   "source": [
    "null_percentage=[]\n",
    "null_excess_columns=[]\n",
    "for feature in df.columns:\n",
    "    ans=(df[feature].isnull().sum()/len(df))*100\n",
    "    if ans>20.00 :\n",
    "        null_excess_columns.append(feature)\n",
    "        null_percentage.append(ans)\n",
    "    "
   ]
  },
  {
   "cell_type": "code",
   "execution_count": 13,
   "id": "80730a50",
   "metadata": {},
   "outputs": [
    {
     "name": "stdout",
     "output_type": "stream",
     "text": [
      "12\n",
      "\n",
      "12\n"
     ]
    }
   ],
   "source": [
    "print(len(null_percentage),len(null_excess_columns),sep=\"\\n\\n\")"
   ]
  },
  {
   "cell_type": "code",
   "execution_count": 14,
   "id": "5727b325",
   "metadata": {},
   "outputs": [
    {
     "data": {
      "text/html": [
       "<div>\n",
       "<style scoped>\n",
       "    .dataframe tbody tr th:only-of-type {\n",
       "        vertical-align: middle;\n",
       "    }\n",
       "\n",
       "    .dataframe tbody tr th {\n",
       "        vertical-align: top;\n",
       "    }\n",
       "\n",
       "    .dataframe thead th {\n",
       "        text-align: right;\n",
       "    }\n",
       "</style>\n",
       "<table border=\"1\" class=\"dataframe\">\n",
       "  <thead>\n",
       "    <tr style=\"text-align: right;\">\n",
       "      <th></th>\n",
       "      <th>Columns</th>\n",
       "      <th>Percentage Null Values</th>\n",
       "    </tr>\n",
       "  </thead>\n",
       "  <tbody>\n",
       "    <tr>\n",
       "      <th>0</th>\n",
       "      <td>Sputnik V (Doses Administered)</td>\n",
       "      <td>61.822817</td>\n",
       "    </tr>\n",
       "    <tr>\n",
       "      <th>1</th>\n",
       "      <td>AEFI</td>\n",
       "      <td>30.681963</td>\n",
       "    </tr>\n",
       "    <tr>\n",
       "      <th>2</th>\n",
       "      <td>18-44 Years (Doses Administered)</td>\n",
       "      <td>78.304653</td>\n",
       "    </tr>\n",
       "    <tr>\n",
       "      <th>3</th>\n",
       "      <td>45-60 Years (Doses Administered)</td>\n",
       "      <td>78.304653</td>\n",
       "    </tr>\n",
       "    <tr>\n",
       "      <th>4</th>\n",
       "      <td>60+ Years (Doses Administered)</td>\n",
       "      <td>78.304653</td>\n",
       "    </tr>\n",
       "  </tbody>\n",
       "</table>\n",
       "</div>"
      ],
      "text/plain": [
       "                            Columns  Percentage Null Values\n",
       "0    Sputnik V (Doses Administered)               61.822817\n",
       "1                              AEFI               30.681963\n",
       "2  18-44 Years (Doses Administered)               78.304653\n",
       "3  45-60 Years (Doses Administered)               78.304653\n",
       "4    60+ Years (Doses Administered)               78.304653"
      ]
     },
     "execution_count": 14,
     "metadata": {},
     "output_type": "execute_result"
    }
   ],
   "source": [
    "barplot_data=pd.DataFrame({'Columns':null_excess_columns,\n",
    "                          \"Percentage Null Values\":null_percentage})\n",
    "barplot_data.head()"
   ]
  },
  {
   "cell_type": "code",
   "execution_count": 19,
   "id": "9a5fd2b4",
   "metadata": {},
   "outputs": [
    {
     "data": {
      "image/png": "[encoded data removed]",
      "text/plain": [
       "<Figure size 1440x576 with 1 Axes>"
      ]
     },
     "metadata": {
      "needs_background": "light"
     },
     "output_type": "display_data"
    }
   ],
   "source": [
    "fig,ax=plt.subplots(figsize=(20,8))\n",
    "bar=sns.barplot(x='Columns',y='Percentage Null Values',data=barplot_data,palette=\"plasma\")\n",
    "plt.xticks(rotation=45)\n",
    "bar.set_title(\"% of Null Values\",fontdict= { 'fontsize': 24, 'fontweight':'bold'})\n",
    "plt.show()"
   ]
  },
  {
   "cell_type": "code",
   "execution_count": 18,
   "id": "d822113b",
   "metadata": {},
   "outputs": [
    {
     "data": {
      "text/plain": [
       "<BarContainer object of 12 artists>"
      ]
     },
     "execution_count": 18,
     "metadata": {},
     "output_type": "execute_result"
    },
    {
     "data": {
      "image/png": "[encoded data removed]",
      "text/plain": [
       "<Figure size 432x288 with 1 Axes>"
      ]
     },
     "metadata": {
      "needs_background": "light"
     },
     "output_type": "display_data"
    }
   ],
   "source": [
    "plt.bar(null_percentage,null_excess_columns)"
   ]
  },
  {
   "cell_type": "code",
   "execution_count": 39,
   "id": "8877fa1d",
   "metadata": {},
   "outputs": [
    {
     "name": "stdout",
     "output_type": "stream",
     "text": [
      "['Andaman and Nicobar Islands', 'Andhra Pradesh', 'Arunachal Pradesh', 'Assam', 'Bihar', 'Chandigarh', 'Chhattisgarh', 'Dadra and Nagar Haveli and Daman and Diu', 'Delhi', 'Goa', 'Gujarat', 'Haryana', 'Himachal Pradesh', 'Jammu and Kashmir', 'Jharkhand', 'Karnataka', 'Kerala', 'Ladakh', 'Lakshadweep', 'Madhya Pradesh', 'Maharashtra', 'Manipur', 'Meghalaya', 'Mizoram', 'Nagaland', 'Odisha', 'Puducherry', 'Punjab', 'Rajasthan', 'Sikkim', 'Tamil Nadu', 'Telangana', 'Tripura', 'Uttar Pradesh', 'Uttarakhand', 'West Bengal']\n"
     ]
    }
   ],
   "source": [
    "states=list(df['State'].unique())\n",
    "states.remove('India')\n",
    "print(states)"
   ]
  },
  {
   "cell_type": "code",
   "execution_count": 40,
   "id": "59013ade",
   "metadata": {},
   "outputs": [],
   "source": [
    "#iterating through rows of the dataframe\n",
    "max_doses=[]\n",
    "for i in states:\n",
    "    max_dose=df['Total Doses Administered'].where(df['State']==i).max()\n",
    "    max_doses.append(max_dose)\n",
    "    "
   ]
  },
  {
   "cell_type": "code",
   "execution_count": 272,
   "id": "1a480659",
   "metadata": {},
   "outputs": [
    {
     "data": {
      "image/png": "[encoded data removed]",
      "text/plain": [
       "<Figure size 1440x576 with 1 Axes>"
      ]
     },
     "metadata": {},
     "output_type": "display_data"
    }
   ],
   "source": [
    "barplot_data=pd.DataFrame({\"State\":states,\n",
    "                          \"Max Doses\":max_doses})\n",
    "fig,ax=plt.subplots(figsize=(20,8))\n",
    "bar=sns.barplot(x='State',y='Max Doses',data=barplot_data,palette=\"plasma\")\n",
    "plt.xticks(rotation=90)\n",
    "\n",
    "bar.set_title(\"Statewise Distribution of Maximum Doses Administered in a Single Day\",fontdict= { 'fontsize': 24, 'fontweight':'bold'})\n",
    "plt.show()"
   ]
  },
  {
   "cell_type": "code",
   "execution_count": 51,
   "id": "42db3600",
   "metadata": {},
   "outputs": [
    {
     "data": {
      "text/html": [
       "<div>\n",
       "<style scoped>\n",
       "    .dataframe tbody tr th:only-of-type {\n",
       "        vertical-align: middle;\n",
       "    }\n",
       "\n",
       "    .dataframe tbody tr th {\n",
       "        vertical-align: top;\n",
       "    }\n",
       "\n",
       "    .dataframe thead th {\n",
       "        text-align: right;\n",
       "    }\n",
       "</style>\n",
       "<table border=\"1\" class=\"dataframe\">\n",
       "  <thead>\n",
       "    <tr style=\"text-align: right;\">\n",
       "      <th></th>\n",
       "      <th>State</th>\n",
       "      <th>Max Doses</th>\n",
       "    </tr>\n",
       "  </thead>\n",
       "  <tbody>\n",
       "    <tr>\n",
       "      <th>33</th>\n",
       "      <td>Uttar Pradesh</td>\n",
       "      <td>54447724.0</td>\n",
       "    </tr>\n",
       "    <tr>\n",
       "      <th>20</th>\n",
       "      <td>Maharashtra</td>\n",
       "      <td>47153366.0</td>\n",
       "    </tr>\n",
       "    <tr>\n",
       "      <th>10</th>\n",
       "      <td>Gujarat</td>\n",
       "      <td>37152375.0</td>\n",
       "    </tr>\n",
       "    <tr>\n",
       "      <th>19</th>\n",
       "      <td>Madhya Pradesh</td>\n",
       "      <td>35456676.0</td>\n",
       "    </tr>\n",
       "    <tr>\n",
       "      <th>28</th>\n",
       "      <td>Rajasthan</td>\n",
       "      <td>35383662.0</td>\n",
       "    </tr>\n",
       "  </tbody>\n",
       "</table>\n",
       "</div>"
      ],
      "text/plain": [
       "             State   Max Doses\n",
       "33   Uttar Pradesh  54447724.0\n",
       "20     Maharashtra  47153366.0\n",
       "10         Gujarat  37152375.0\n",
       "19  Madhya Pradesh  35456676.0\n",
       "28       Rajasthan  35383662.0"
      ]
     },
     "execution_count": 51,
     "metadata": {},
     "output_type": "execute_result"
    }
   ],
   "source": [
    "barplot_data.sort_values(by='Max Doses',ascending=0).head()"
   ]
  },
  {
   "cell_type": "code",
   "execution_count": 52,
   "id": "4da49810",
   "metadata": {},
   "outputs": [],
   "source": [
    "# States with highest no. of doses administered in a single day\n",
    "# 1. Uttar Pradesh\n",
    "#2. Maharashtra\n",
    "#3. Gujarat\n",
    "#4. Madhya Pradesh\n",
    "#5. Rajasthan"
   ]
  },
  {
   "cell_type": "code",
   "execution_count": null,
   "id": "65f00efe",
   "metadata": {},
   "outputs": [],
   "source": [
    "#Total doses given in a day"
   ]
  },
  {
   "cell_type": "code",
   "execution_count": 57,
   "id": "b0a13bd7",
   "metadata": {},
   "outputs": [
    {
     "name": "stdout",
     "output_type": "stream",
     "text": [
      "[133533.0, 11586263.0, 448592.0, 5387805.0, 13127210.0, 403380.0, 5739810.0, 312751.0, 5318124.0, 713714.0, 18826982.0, 6928225.0, 2773268.0, 3546680.0, 5275892.0, 17493598.0, 10258975.0, 167571.0, 45834.0, 16512594.0, 24046509.0, 515401.0, 565784.0, 465500.0, 386200.0, 9126091.0, 401988.0, 4929959.0, 19090259.0, 349190.0, 11658908.0, 8430040.0, 1834177.0, 24782239.0, 3274993.0, 15798841.0]\n"
     ]
    }
   ],
   "source": [
    "total_doses=[]\n",
    "for i in states:\n",
    "    total_dose=df['Total Individuals Vaccinated'].where(df['State']==i).max()\n",
    "    total_doses.append(total_dose)\n",
    "print(total_doses)    "
   ]
  },
  {
   "cell_type": "code",
   "execution_count": 271,
   "id": "c3574b40",
   "metadata": {},
   "outputs": [
    {
     "data": {
      "image/png": "[encoded data removed]",
      "text/plain": [
       "<Figure size 1440x576 with 1 Axes>"
      ]
     },
     "metadata": {},
     "output_type": "display_data"
    }
   ],
   "source": [
    "barplot_data=pd.DataFrame({\"State\":states,\n",
    "                          \"Total Doses\":total_doses})\n",
    "fig,ax=plt.subplots(figsize=(20,8))\n",
    "\n",
    "bar=sns.barplot(x='State',y='Total Doses',data=barplot_data,palette=\"Blues\")\n",
    "plt.xticks(rotation=90)\n",
    "\n",
    "bar.set_title(\"Statewise Distribution of Maximum Total Doses Given in a Single Day\",fontdict= { 'fontsize': 24, 'fontweight':'bold'})\n",
    "plt.show()"
   ]
  },
  {
   "cell_type": "code",
   "execution_count": 62,
   "id": "b91f36c4",
   "metadata": {},
   "outputs": [
    {
     "data": {
      "text/html": [
       "<div>\n",
       "<style scoped>\n",
       "    .dataframe tbody tr th:only-of-type {\n",
       "        vertical-align: middle;\n",
       "    }\n",
       "\n",
       "    .dataframe tbody tr th {\n",
       "        vertical-align: top;\n",
       "    }\n",
       "\n",
       "    .dataframe thead th {\n",
       "        text-align: right;\n",
       "    }\n",
       "</style>\n",
       "<table border=\"1\" class=\"dataframe\">\n",
       "  <thead>\n",
       "    <tr style=\"text-align: right;\">\n",
       "      <th></th>\n",
       "      <th>State</th>\n",
       "      <th>Total Doses</th>\n",
       "    </tr>\n",
       "  </thead>\n",
       "  <tbody>\n",
       "    <tr>\n",
       "      <th>33</th>\n",
       "      <td>Uttar Pradesh</td>\n",
       "      <td>24782239.0</td>\n",
       "    </tr>\n",
       "    <tr>\n",
       "      <th>20</th>\n",
       "      <td>Maharashtra</td>\n",
       "      <td>24046509.0</td>\n",
       "    </tr>\n",
       "    <tr>\n",
       "      <th>28</th>\n",
       "      <td>Rajasthan</td>\n",
       "      <td>19090259.0</td>\n",
       "    </tr>\n",
       "    <tr>\n",
       "      <th>10</th>\n",
       "      <td>Gujarat</td>\n",
       "      <td>18826982.0</td>\n",
       "    </tr>\n",
       "    <tr>\n",
       "      <th>15</th>\n",
       "      <td>Karnataka</td>\n",
       "      <td>17493598.0</td>\n",
       "    </tr>\n",
       "  </tbody>\n",
       "</table>\n",
       "</div>"
      ],
      "text/plain": [
       "            State  Total Doses\n",
       "33  Uttar Pradesh   24782239.0\n",
       "20    Maharashtra   24046509.0\n",
       "28      Rajasthan   19090259.0\n",
       "10        Gujarat   18826982.0\n",
       "15      Karnataka   17493598.0"
      ]
     },
     "execution_count": 62,
     "metadata": {},
     "output_type": "execute_result"
    }
   ],
   "source": [
    "barplot_data.sort_values(by='Total Doses',ascending=0).head()"
   ]
  },
  {
   "cell_type": "code",
   "execution_count": 63,
   "id": "5f0b3796",
   "metadata": {},
   "outputs": [],
   "source": [
    "# Top 5 states in Total Doses given in a single day\n",
    "#1. Uttar Pradesh\n",
    "#2. Maharashtra\n",
    "#3. Rajasthan\n",
    "#4. Gujarat\n",
    "#5. Karnataka"
   ]
  },
  {
   "cell_type": "code",
   "execution_count": 65,
   "id": "ce52fea6",
   "metadata": {},
   "outputs": [
    {
     "name": "stdout",
     "output_type": "stream",
     "text": [
      "[75.46626611590938, 70.30644311069234, 73.60960594970587, 77.80257416761803, 77.6271982371959, 74.08845510399392, 78.78571428571428, 77.98550009360268, 75.79947188934636, 78.254657231958, 74.42503750884009, 77.62706859585832, 72.71086593795756, 80.72834904965946, 75.32708333935963, 73.35822651657008, 76.15614011553774, 68.19483208787251, 71.32124352331606, 76.13900482738175, 78.7797259184458, 67.12593508013094, 71.76548967355096, 76.46918678526048, 72.59249064771605, 76.56344950708282, 78.39121515420162, 81.86435387918397, 78.13364739415293, 73.60103144854719, 72.98019970158755, 69.48792556309658, 65.8727209085147, 73.71517386033831, 73.68506333226107, 70.64717835136261]\n"
     ]
    }
   ],
   "source": [
    "given_per_administered=[]\n",
    "for i in states:\n",
    "    given_per=((df['Total Individuals Vaccinated']/df['Total Doses Administered'])*100).where(df['State']==i).min()\n",
    "    given_per_administered.append(given_per)\n",
    "print(given_per_administered) \n",
    "\n",
    "    "
   ]
  },
  {
   "cell_type": "code",
   "execution_count": 273,
   "id": "2ef9d1e1",
   "metadata": {},
   "outputs": [
    {
     "data": {
      "image/png": "[encoded data removed]",
      "text/plain": [
       "<Figure size 1440x576 with 1 Axes>"
      ]
     },
     "metadata": {},
     "output_type": "display_data"
    }
   ],
   "source": [
    "barplot_data=pd.DataFrame({\"State\":states,\n",
    "                          \"Efficiency\":given_per_administered})\n",
    "fig,ax=plt.subplots(figsize=(20,8))\n",
    "\n",
    "bar=sns.barplot(x='State',y='Efficiency',data=barplot_data,palette=\"coolwarm\")\n",
    "plt.xticks(rotation=90)\n",
    "\n",
    "bar.set_title(\"Min No. Of Doses Given Per 100 Doses Administered\",fontdict= { 'fontsize': 24, 'fontweight':'bold'})\n",
    "plt.show()"
   ]
  },
  {
   "cell_type": "code",
   "execution_count": 274,
   "id": "0c041b0c",
   "metadata": {},
   "outputs": [
    {
     "data": {
      "text/html": [
       "<div>\n",
       "<style scoped>\n",
       "    .dataframe tbody tr th:only-of-type {\n",
       "        vertical-align: middle;\n",
       "    }\n",
       "\n",
       "    .dataframe tbody tr th {\n",
       "        vertical-align: top;\n",
       "    }\n",
       "\n",
       "    .dataframe thead th {\n",
       "        text-align: right;\n",
       "    }\n",
       "</style>\n",
       "<table border=\"1\" class=\"dataframe\">\n",
       "  <thead>\n",
       "    <tr style=\"text-align: right;\">\n",
       "      <th></th>\n",
       "      <th>State</th>\n",
       "      <th>Efficiency</th>\n",
       "    </tr>\n",
       "  </thead>\n",
       "  <tbody>\n",
       "    <tr>\n",
       "      <th>32</th>\n",
       "      <td>Tripura</td>\n",
       "      <td>65.872721</td>\n",
       "    </tr>\n",
       "    <tr>\n",
       "      <th>21</th>\n",
       "      <td>Manipur</td>\n",
       "      <td>67.125935</td>\n",
       "    </tr>\n",
       "    <tr>\n",
       "      <th>17</th>\n",
       "      <td>Ladakh</td>\n",
       "      <td>68.194832</td>\n",
       "    </tr>\n",
       "    <tr>\n",
       "      <th>31</th>\n",
       "      <td>Telangana</td>\n",
       "      <td>69.487926</td>\n",
       "    </tr>\n",
       "    <tr>\n",
       "      <th>1</th>\n",
       "      <td>Andhra Pradesh</td>\n",
       "      <td>70.306443</td>\n",
       "    </tr>\n",
       "  </tbody>\n",
       "</table>\n",
       "</div>"
      ],
      "text/plain": [
       "             State  Efficiency\n",
       "32         Tripura   65.872721\n",
       "21         Manipur   67.125935\n",
       "17          Ladakh   68.194832\n",
       "31       Telangana   69.487926\n",
       "1   Andhra Pradesh   70.306443"
      ]
     },
     "execution_count": 274,
     "metadata": {},
     "output_type": "execute_result"
    }
   ],
   "source": [
    "barplot_data.sort_values(by='Efficiency',ascending=1).head()"
   ]
  },
  {
   "cell_type": "code",
   "execution_count": 74,
   "id": "1eb90827",
   "metadata": {},
   "outputs": [],
   "source": [
    "# On worst days , these states had the lower no. of doses given per 100 doses administered \n",
    "#1. Tripura\n",
    "#2. Manipur\n",
    "#3. Ladakh\n",
    "#4. Telengana\n",
    "#5. Andhra Pradesh"
   ]
  },
  {
   "cell_type": "code",
   "execution_count": 119,
   "id": "1e5ffed5",
   "metadata": {},
   "outputs": [],
   "source": [
    "total_men_doses,total_women_doses,total_transgender_doses=0,0,0\n",
    "\n",
    "for index,row in df.iterrows():\n",
    "    if row['State']=='India':\n",
    "        total_men_doses=df['Male(Individuals Vaccinated)'].sum()\n",
    "        total_women_doses=df['Female(Individuals Vaccinated)'].sum()\n",
    "        total_transgender_doses=df['Transgender(Individuals Vaccinated)'].sum()\n",
    "\n",
    "\n",
    "data_list=[total_men_doses,total_women_doses,total_transgender_doses]\n",
    "labels=['Total Men Vaccinated','Total Women Vaccinated','Total Transgenders Vaccinated']"
   ]
  },
  {
   "cell_type": "code",
   "execution_count": 120,
   "id": "c9dd1882",
   "metadata": {},
   "outputs": [
    {
     "name": "stdout",
     "output_type": "stream",
     "text": [
      "7138698858.0\n",
      "\n",
      "6321628736.0\n",
      "\n",
      "1979287.0\n"
     ]
    }
   ],
   "source": [
    "print(total_men_doses,total_women_doses,total_transgender_doses,sep=\"\\n\\n\")"
   ]
  },
  {
   "cell_type": "code",
   "execution_count": 121,
   "id": "0756b59f",
   "metadata": {},
   "outputs": [],
   "source": [
    "import plotly.express as px"
   ]
  },
  {
   "cell_type": "code",
   "execution_count": 122,
   "id": "1fd29f0d",
   "metadata": {},
   "outputs": [
    {
     "data": {
      "application/vnd.plotly.v1+json": {
       "config": {
        "plotlyServerURL": "https://plot.ly"
       },
       "data": [
        {
         "domain": {
          "x": [
           0,
           1
          ],
          "y": [
           0,
           1
          ]
         },
         "hovertemplate": "<b>%{hovertext}</b><br><br>label=%{label}<br>value=%{value}<extra></extra>",
         "hovertext": [
          "Total Men Vaccinated",
          "Total Women Vaccinated",
          "Total Transgenders Vaccinated"
         ],
         "labels": [
          "Total Men Vaccinated",
          "Total Women Vaccinated",
          "Total Transgenders Vaccinated"
         ],
         "legendgroup": "",
         "name": "",
         "showlegend": true,
         "type": "pie",
         "values": [
          7138698858,
          6321628736,
          1979287
         ]
        }
       ],
       "layout": {
        "legend": {
         "tracegroupgap": 0
        },
        "margin": {
         "t": 60
        },
        "template": {
         "data": {
          "bar": [
           {
            "error_x": {
             "color": "#2a3f5f"
            },
            "error_y": {
             "color": "#2a3f5f"
            },
            "marker": {
             "line": {
              "color": "#E5ECF6",
              "width": 0.5
             },
             "pattern": {
              "fillmode": "overlay",
              "size": 10,
              "solidity": 0.2
             }
            },
            "type": "bar"
           }
          ],
          "barpolar": [
           {
            "marker": {
             "line": {
              "color": "#E5ECF6",
              "width": 0.5
             },
             "pattern": {
              "fillmode": "overlay",
              "size": 10,
              "solidity": 0.2
             }
            },
            "type": "barpolar"
           }
          ],
          "carpet": [
           {
            "aaxis": {
             "endlinecolor": "#2a3f5f",
             "gridcolor": "white",
             "linecolor": "white",
             "minorgridcolor": "white",
             "startlinecolor": "#2a3f5f"
            },
            "baxis": {
             "endlinecolor": "#2a3f5f",
             "gridcolor": "white",
             "linecolor": "white",
             "minorgridcolor": "white",
             "startlinecolor": "#2a3f5f"
            },
            "type": "carpet"
           }
          ],
          "choropleth": [
           {
            "colorbar": {
             "outlinewidth": 0,
             "ticks": ""
            },
            "type": "choropleth"
           }
          ],
          "contour": [
           {
            "colorbar": {
             "outlinewidth": 0,
             "ticks": ""
            },
            "colorscale": [
             [
              0,
              "#0d0887"
             ],
             [
              0.1111111111111111,
              "#46039f"
             ],
             [
              0.2222222222222222,
              "#7201a8"
             ],
             [
              0.3333333333333333,
              "#9c179e"
             ],
             [
              0.4444444444444444,
              "#bd3786"
             ],
             [
              0.5555555555555556,
              "#d8576b"
             ],
             [
              0.6666666666666666,
              "#ed7953"
             ],
             [
              0.7777777777777778,
              "#fb9f3a"
             ],
             [
              0.8888888888888888,
              "#fdca26"
             ],
             [
              1,
              "#f0f921"
             ]
            ],
            "type": "contour"
           }
          ],
          "contourcarpet": [
           {
            "colorbar": {
             "outlinewidth": 0,
             "ticks": ""
            },
            "type": "contourcarpet"
           }
          ],
          "heatmap": [
           {
            "colorbar": {
             "outlinewidth": 0,
             "ticks": ""
            },
            "colorscale": [
             [
              0,
              "#0d0887"
             ],
             [
              0.1111111111111111,
              "#46039f"
             ],
             [
              0.2222222222222222,
              "#7201a8"
             ],
             [
              0.3333333333333333,
              "#9c179e"
             ],
             [
              0.4444444444444444,
              "#bd3786"
             ],
             [
              0.5555555555555556,
              "#d8576b"
             ],
             [
              0.6666666666666666,
              "#ed7953"
             ],
             [
              0.7777777777777778,
              "#fb9f3a"
             ],
             [
              0.8888888888888888,
              "#fdca26"
             ],
             [
              1,
              "#f0f921"
             ]
            ],
            "type": "heatmap"
           }
          ],
          "heatmapgl": [
           {
            "colorbar": {
             "outlinewidth": 0,
             "ticks": ""
            },
            "colorscale": [
             [
              0,
              "#0d0887"
             ],
             [
              0.1111111111111111,
              "#46039f"
             ],
             [
              0.2222222222222222,
              "#7201a8"
             ],
             [
              0.3333333333333333,
              "#9c179e"
             ],
             [
              0.4444444444444444,
              "#bd3786"
             ],
             [
              0.5555555555555556,
              "#d8576b"
             ],
             [
              0.6666666666666666,
              "#ed7953"
             ],
             [
              0.7777777777777778,
              "#fb9f3a"
             ],
             [
              0.8888888888888888,
              "#fdca26"
             ],
             [
              1,
              "#f0f921"
             ]
            ],
            "type": "heatmapgl"
           }
          ],
          "histogram": [
           {
            "marker": {
             "pattern": {
              "fillmode": "overlay",
              "size": 10,
              "solidity": 0.2
             }
            },
            "type": "histogram"
           }
          ],
          "histogram2d": [
           {
            "colorbar": {
             "outlinewidth": 0,
             "ticks": ""
            },
            "colorscale": [
             [
              0,
              "#0d0887"
             ],
             [
              0.1111111111111111,
              "#46039f"
             ],
             [
              0.2222222222222222,
              "#7201a8"
             ],
             [
              0.3333333333333333,
              "#9c179e"
             ],
             [
              0.4444444444444444,
              "#bd3786"
             ],
             [
              0.5555555555555556,
              "#d8576b"
             ],
             [
              0.6666666666666666,
              "#ed7953"
             ],
             [
              0.7777777777777778,
              "#fb9f3a"
             ],
             [
              0.8888888888888888,
              "#fdca26"
             ],
             [
              1,
              "#f0f921"
             ]
            ],
            "type": "histogram2d"
           }
          ],
          "histogram2dcontour": [
           {
            "colorbar": {
             "outlinewidth": 0,
             "ticks": ""
            },
            "colorscale": [
             [
              0,
              "#0d0887"
             ],
             [
              0.1111111111111111,
              "#46039f"
             ],
             [
              0.2222222222222222,
              "#7201a8"
             ],
             [
              0.3333333333333333,
              "#9c179e"
             ],
             [
              0.4444444444444444,
              "#bd3786"
             ],
             [
              0.5555555555555556,
              "#d8576b"
             ],
             [
              0.6666666666666666,
              "#ed7953"
             ],
             [
              0.7777777777777778,
              "#fb9f3a"
             ],
             [
              0.8888888888888888,
              "#fdca26"
             ],
             [
              1,
              "#f0f921"
             ]
            ],
            "type": "histogram2dcontour"
           }
          ],
          "mesh3d": [
           {
            "colorbar": {
             "outlinewidth": 0,
             "ticks": ""
            },
            "type": "mesh3d"
           }
          ],
          "parcoords": [
           {
            "line": {
             "colorbar": {
              "outlinewidth": 0,
              "ticks": ""
             }
            },
            "type": "parcoords"
           }
          ],
          "pie": [
           {
            "automargin": true,
            "type": "pie"
           }
          ],
          "scatter": [
           {
            "marker": {
             "colorbar": {
              "outlinewidth": 0,
              "ticks": ""
             }
            },
            "type": "scatter"
           }
          ],
          "scatter3d": [
           {
            "line": {
             "colorbar": {
              "outlinewidth": 0,
              "ticks": ""
             }
            },
            "marker": {
             "colorbar": {
              "outlinewidth": 0,
              "ticks": ""
             }
            },
            "type": "scatter3d"
           }
          ],
          "scattercarpet": [
           {
            "marker": {
             "colorbar": {
              "outlinewidth": 0,
              "ticks": ""
             }
            },
            "type": "scattercarpet"
           }
          ],
          "scattergeo": [
           {
            "marker": {
             "colorbar": {
              "outlinewidth": 0,
              "ticks": ""
             }
            },
            "type": "scattergeo"
           }
          ],
          "scattergl": [
           {
            "marker": {
             "colorbar": {
              "outlinewidth": 0,
              "ticks": ""
             }
            },
            "type": "scattergl"
           }
          ],
          "scattermapbox": [
           {
            "marker": {
             "colorbar": {
              "outlinewidth": 0,
              "ticks": ""
             }
            },
            "type": "scattermapbox"
           }
          ],
          "scatterpolar": [
           {
            "marker": {
             "colorbar": {
              "outlinewidth": 0,
              "ticks": ""
             }
            },
            "type": "scatterpolar"
           }
          ],
          "scatterpolargl": [
           {
            "marker": {
             "colorbar": {
              "outlinewidth": 0,
              "ticks": ""
             }
            },
            "type": "scatterpolargl"
           }
          ],
          "scatterternary": [
           {
            "marker": {
             "colorbar": {
              "outlinewidth": 0,
              "ticks": ""
             }
            },
            "type": "scatterternary"
           }
          ],
          "surface": [
           {
            "colorbar": {
             "outlinewidth": 0,
             "ticks": ""
            },
            "colorscale": [
             [
              0,
              "#0d0887"
             ],
             [
              0.1111111111111111,
              "#46039f"
             ],
             [
              0.2222222222222222,
              "#7201a8"
             ],
             [
              0.3333333333333333,
              "#9c179e"
             ],
             [
              0.4444444444444444,
              "#bd3786"
             ],
             [
              0.5555555555555556,
              "#d8576b"
             ],
             [
              0.6666666666666666,
              "#ed7953"
             ],
             [
              0.7777777777777778,
              "#fb9f3a"
             ],
             [
              0.8888888888888888,
              "#fdca26"
             ],
             [
              1,
              "#f0f921"
             ]
            ],
            "type": "surface"
           }
          ],
          "table": [
           {
            "cells": {
             "fill": {
              "color": "#EBF0F8"
             },
             "line": {
              "color": "white"
             }
            },
            "header": {
             "fill": {
              "color": "#C8D4E3"
             },
             "line": {
              "color": "white"
             }
            },
            "type": "table"
           }
          ]
         },
         "layout": {
          "annotationdefaults": {
           "arrowcolor": "#2a3f5f",
           "arrowhead": 0,
           "arrowwidth": 1
          },
          "autotypenumbers": "strict",
          "coloraxis": {
           "colorbar": {
            "outlinewidth": 0,
            "ticks": ""
           }
          },
          "colorscale": {
           "diverging": [
            [
             0,
             "#8e0152"
            ],
            [
             0.1,
             "#c51b7d"
            ],
            [
             0.2,
             "#de77ae"
            ],
            [
             0.3,
             "#f1b6da"
            ],
            [
             0.4,
             "#fde0ef"
            ],
            [
             0.5,
             "#f7f7f7"
            ],
            [
             0.6,
             "#e6f5d0"
            ],
            [
             0.7,
             "#b8e186"
            ],
            [
             0.8,
             "#7fbc41"
            ],
            [
             0.9,
             "#4d9221"
            ],
            [
             1,
             "#276419"
            ]
           ],
           "sequential": [
            [
             0,
             "#0d0887"
            ],
            [
             0.1111111111111111,
             "#46039f"
            ],
            [
             0.2222222222222222,
             "#7201a8"
            ],
            [
             0.3333333333333333,
             "#9c179e"
            ],
            [
             0.4444444444444444,
             "#bd3786"
            ],
            [
             0.5555555555555556,
             "#d8576b"
            ],
            [
             0.6666666666666666,
             "#ed7953"
            ],
            [
             0.7777777777777778,
             "#fb9f3a"
            ],
            [
             0.8888888888888888,
             "#fdca26"
            ],
            [
             1,
             "#f0f921"
            ]
           ],
           "sequentialminus": [
            [
             0,
             "#0d0887"
            ],
            [
             0.1111111111111111,
             "#46039f"
            ],
            [
             0.2222222222222222,
             "#7201a8"
            ],
            [
             0.3333333333333333,
             "#9c179e"
            ],
            [
             0.4444444444444444,
             "#bd3786"
            ],
            [
             0.5555555555555556,
             "#d8576b"
            ],
            [
             0.6666666666666666,
             "#ed7953"
            ],
            [
             0.7777777777777778,
             "#fb9f3a"
            ],
            [
             0.8888888888888888,
             "#fdca26"
            ],
            [
             1,
             "#f0f921"
            ]
           ]
          },
          "colorway": [
           "#636efa",
           "#EF553B",
           "#00cc96",
           "#ab63fa",
           "#FFA15A",
           "#19d3f3",
           "#FF6692",
           "#B6E880",
           "#FF97FF",
           "#FECB52"
          ],
          "font": {
           "color": "#2a3f5f"
          },
          "geo": {
           "bgcolor": "white",
           "lakecolor": "white",
           "landcolor": "#E5ECF6",
           "showlakes": true,
           "showland": true,
           "subunitcolor": "white"
          },
          "hoverlabel": {
           "align": "left"
          },
          "hovermode": "closest",
          "mapbox": {
           "style": "light"
          },
          "paper_bgcolor": "white",
          "plot_bgcolor": "#E5ECF6",
          "polar": {
           "angularaxis": {
            "gridcolor": "white",
            "linecolor": "white",
            "ticks": ""
           },
           "bgcolor": "#E5ECF6",
           "radialaxis": {
            "gridcolor": "white",
            "linecolor": "white",
            "ticks": ""
           }
          },
          "scene": {
           "xaxis": {
            "backgroundcolor": "#E5ECF6",
            "gridcolor": "white",
            "gridwidth": 2,
            "linecolor": "white",
            "showbackground": true,
            "ticks": "",
            "zerolinecolor": "white"
           },
           "yaxis": {
            "backgroundcolor": "#E5ECF6",
            "gridcolor": "white",
            "gridwidth": 2,
            "linecolor": "white",
            "showbackground": true,
            "ticks": "",
            "zerolinecolor": "white"
           },
           "zaxis": {
            "backgroundcolor": "#E5ECF6",
            "gridcolor": "white",
            "gridwidth": 2,
            "linecolor": "white",
            "showbackground": true,
            "ticks": "",
            "zerolinecolor": "white"
           }
          },
          "shapedefaults": {
           "line": {
            "color": "#2a3f5f"
           }
          },
          "ternary": {
           "aaxis": {
            "gridcolor": "white",
            "linecolor": "white",
            "ticks": ""
           },
           "baxis": {
            "gridcolor": "white",
            "linecolor": "white",
            "ticks": ""
           },
           "bgcolor": "#E5ECF6",
           "caxis": {
            "gridcolor": "white",
            "linecolor": "white",
            "ticks": ""
           }
          },
          "title": {
           "x": 0.05
          },
          "xaxis": {
           "automargin": true,
           "gridcolor": "white",
           "linecolor": "white",
           "ticks": "",
           "title": {
            "standoff": 15
           },
           "zerolinecolor": "white",
           "zerolinewidth": 2
          },
          "yaxis": {
           "automargin": true,
           "gridcolor": "white",
           "linecolor": "white",
           "ticks": "",
           "title": {
            "standoff": 15
           },
           "zerolinecolor": "white",
           "zerolinewidth": 2
          }
         }
        },
        "title": {
         "text": "Gender Wise Distribution of Poeple Vaccinated",
         "x": 0.45
        }
       }
      },
      "text/html": [
       "<div>                            <div id=\"a266911b-5bac-4f75-9412-96daf4b404f4\" class=\"plotly-graph-div\" style=\"height:525px; width:100%;\"></div>            <script type=\"text/javascript\">                require([\"plotly\"], function(Plotly) {                    window.PLOTLYENV=window.PLOTLYENV || {};                                    if (document.getElementById(\"a266911b-5bac-4f75-9412-96daf4b404f4\")) {                    Plotly.newPlot(                        \"a266911b-5bac-4f75-9412-96daf4b404f4\",                        [{\"domain\":{\"x\":[0.0,1.0],\"y\":[0.0,1.0]},\"hovertemplate\":\"<b>%{hovertext}</b><br><br>label=%{label}<br>value=%{value}<extra></extra>\",\"hovertext\":[\"Total Men Vaccinated\",\"Total Women Vaccinated\",\"Total Transgenders Vaccinated\"],\"labels\":[\"Total Men Vaccinated\",\"Total Women Vaccinated\",\"Total Transgenders Vaccinated\"],\"legendgroup\":\"\",\"name\":\"\",\"showlegend\":true,\"type\":\"pie\",\"values\":[7138698858.0,6321628736.0,1979287.0]}],                        {\"legend\":{\"tracegroupgap\":0},\"margin\":{\"t\":60},\"template\":{\"data\":{\"bar\":[{\"error_x\":{\"color\":\"#2a3f5f\"},\"error_y\":{\"color\":\"#2a3f5f\"},\"marker\":{\"line\":{\"color\":\"#E5ECF6\",\"width\":0.5},\"pattern\":{\"fillmode\":\"overlay\",\"size\":10,\"solidity\":0.2}},\"type\":\"bar\"}],\"barpolar\":[{\"marker\":{\"line\":{\"color\":\"#E5ECF6\",\"width\":0.5},\"pattern\":{\"fillmode\":\"overlay\",\"size\":10,\"solidity\":0.2}},\"type\":\"barpolar\"}],\"carpet\":[{\"aaxis\":{\"endlinecolor\":\"#2a3f5f\",\"gridcolor\":\"white\",\"linecolor\":\"white\",\"minorgridcolor\":\"white\",\"startlinecolor\":\"#2a3f5f\"},\"baxis\":{\"endlinecolor\":\"#2a3f5f\",\"gridcolor\":\"white\",\"linecolor\":\"white\",\"minorgridcolor\":\"white\",\"startlinecolor\":\"#2a3f5f\"},\"type\":\"carpet\"}],\"choropleth\":[{\"colorbar\":{\"outlinewidth\":0,\"ticks\":\"\"},\"type\":\"choropleth\"}],\"contour\":[{\"colorbar\":{\"outlinewidth\":0,\"ticks\":\"\"},\"colorscale\":[[0.0,\"#0d0887\"],[0.1111111111111111,\"#46039f\"],[0.2222222222222222,\"#7201a8\"],[0.3333333333333333,\"#9c179e\"],[0.4444444444444444,\"#bd3786\"],[0.5555555555555556,\"#d8576b\"],[0.6666666666666666,\"#ed7953\"],[0.7777777777777778,\"#fb9f3a\"],[0.8888888888888888,\"#fdca26\"],[1.0,\"#f0f921\"]],\"type\":\"contour\"}],\"contourcarpet\":[{\"colorbar\":{\"outlinewidth\":0,\"ticks\":\"\"},\"type\":\"contourcarpet\"}],\"heatmap\":[{\"colorbar\":{\"outlinewidth\":0,\"ticks\":\"\"},\"colorscale\":[[0.0,\"#0d0887\"],[0.1111111111111111,\"#46039f\"],[0.2222222222222222,\"#7201a8\"],[0.3333333333333333,\"#9c179e\"],[0.4444444444444444,\"#bd3786\"],[0.5555555555555556,\"#d8576b\"],[0.6666666666666666,\"#ed7953\"],[0.7777777777777778,\"#fb9f3a\"],[0.8888888888888888,\"#fdca26\"],[1.0,\"#f0f921\"]],\"type\":\"heatmap\"}],\"heatmapgl\":[{\"colorbar\":{\"outlinewidth\":0,\"ticks\":\"\"},\"colorscale\":[[0.0,\"#0d0887\"],[0.1111111111111111,\"#46039f\"],[0.2222222222222222,\"#7201a8\"],[0.3333333333333333,\"#9c179e\"],[0.4444444444444444,\"#bd3786\"],[0.5555555555555556,\"#d8576b\"],[0.6666666666666666,\"#ed7953\"],[0.7777777777777778,\"#fb9f3a\"],[0.8888888888888888,\"#fdca26\"],[1.0,\"#f0f921\"]],\"type\":\"heatmapgl\"}],\"histogram\":[{\"marker\":{\"pattern\":{\"fillmode\":\"overlay\",\"size\":10,\"solidity\":0.2}},\"type\":\"histogram\"}],\"histogram2d\":[{\"colorbar\":{\"outlinewidth\":0,\"ticks\":\"\"},\"colorscale\":[[0.0,\"#0d0887\"],[0.1111111111111111,\"#46039f\"],[0.2222222222222222,\"#7201a8\"],[0.3333333333333333,\"#9c179e\"],[0.4444444444444444,\"#bd3786\"],[0.5555555555555556,\"#d8576b\"],[0.6666666666666666,\"#ed7953\"],[0.7777777777777778,\"#fb9f3a\"],[0.8888888888888888,\"#fdca26\"],[1.0,\"#f0f921\"]],\"type\":\"histogram2d\"}],\"histogram2dcontour\":[{\"colorbar\":{\"outlinewidth\":0,\"ticks\":\"\"},\"colorscale\":[[0.0,\"#0d0887\"],[0.1111111111111111,\"#46039f\"],[0.2222222222222222,\"#7201a8\"],[0.3333333333333333,\"#9c179e\"],[0.4444444444444444,\"#bd3786\"],[0.5555555555555556,\"#d8576b\"],[0.6666666666666666,\"#ed7953\"],[0.7777777777777778,\"#fb9f3a\"],[0.8888888888888888,\"#fdca26\"],[1.0,\"#f0f921\"]],\"type\":\"histogram2dcontour\"}],\"mesh3d\":[{\"colorbar\":{\"outlinewidth\":0,\"ticks\":\"\"},\"type\":\"mesh3d\"}],\"parcoords\":[{\"line\":{\"colorbar\":{\"outlinewidth\":0,\"ticks\":\"\"}},\"type\":\"parcoords\"}],\"pie\":[{\"automargin\":true,\"type\":\"pie\"}],\"scatter\":[{\"marker\":{\"colorbar\":{\"outlinewidth\":0,\"ticks\":\"\"}},\"type\":\"scatter\"}],\"scatter3d\":[{\"line\":{\"colorbar\":{\"outlinewidth\":0,\"ticks\":\"\"}},\"marker\":{\"colorbar\":{\"outlinewidth\":0,\"ticks\":\"\"}},\"type\":\"scatter3d\"}],\"scattercarpet\":[{\"marker\":{\"colorbar\":{\"outlinewidth\":0,\"ticks\":\"\"}},\"type\":\"scattercarpet\"}],\"scattergeo\":[{\"marker\":{\"colorbar\":{\"outlinewidth\":0,\"ticks\":\"\"}},\"type\":\"scattergeo\"}],\"scattergl\":[{\"marker\":{\"colorbar\":{\"outlinewidth\":0,\"ticks\":\"\"}},\"type\":\"scattergl\"}],\"scattermapbox\":[{\"marker\":{\"colorbar\":{\"outlinewidth\":0,\"ticks\":\"\"}},\"type\":\"scattermapbox\"}],\"scatterpolar\":[{\"marker\":{\"colorbar\":{\"outlinewidth\":0,\"ticks\":\"\"}},\"type\":\"scatterpolar\"}],\"scatterpolargl\":[{\"marker\":{\"colorbar\":{\"outlinewidth\":0,\"ticks\":\"\"}},\"type\":\"scatterpolargl\"}],\"scatterternary\":[{\"marker\":{\"colorbar\":{\"outlinewidth\":0,\"ticks\":\"\"}},\"type\":\"scatterternary\"}],\"surface\":[{\"colorbar\":{\"outlinewidth\":0,\"ticks\":\"\"},\"colorscale\":[[0.0,\"#0d0887\"],[0.1111111111111111,\"#46039f\"],[0.2222222222222222,\"#7201a8\"],[0.3333333333333333,\"#9c179e\"],[0.4444444444444444,\"#bd3786\"],[0.5555555555555556,\"#d8576b\"],[0.6666666666666666,\"#ed7953\"],[0.7777777777777778,\"#fb9f3a\"],[0.8888888888888888,\"#fdca26\"],[1.0,\"#f0f921\"]],\"type\":\"surface\"}],\"table\":[{\"cells\":{\"fill\":{\"color\":\"#EBF0F8\"},\"line\":{\"color\":\"white\"}},\"header\":{\"fill\":{\"color\":\"#C8D4E3\"},\"line\":{\"color\":\"white\"}},\"type\":\"table\"}]},\"layout\":{\"annotationdefaults\":{\"arrowcolor\":\"#2a3f5f\",\"arrowhead\":0,\"arrowwidth\":1},\"autotypenumbers\":\"strict\",\"coloraxis\":{\"colorbar\":{\"outlinewidth\":0,\"ticks\":\"\"}},\"colorscale\":{\"diverging\":[[0,\"#8e0152\"],[0.1,\"#c51b7d\"],[0.2,\"#de77ae\"],[0.3,\"#f1b6da\"],[0.4,\"#fde0ef\"],[0.5,\"#f7f7f7\"],[0.6,\"#e6f5d0\"],[0.7,\"#b8e186\"],[0.8,\"#7fbc41\"],[0.9,\"#4d9221\"],[1,\"#276419\"]],\"sequential\":[[0.0,\"#0d0887\"],[0.1111111111111111,\"#46039f\"],[0.2222222222222222,\"#7201a8\"],[0.3333333333333333,\"#9c179e\"],[0.4444444444444444,\"#bd3786\"],[0.5555555555555556,\"#d8576b\"],[0.6666666666666666,\"#ed7953\"],[0.7777777777777778,\"#fb9f3a\"],[0.8888888888888888,\"#fdca26\"],[1.0,\"#f0f921\"]],\"sequentialminus\":[[0.0,\"#0d0887\"],[0.1111111111111111,\"#46039f\"],[0.2222222222222222,\"#7201a8\"],[0.3333333333333333,\"#9c179e\"],[0.4444444444444444,\"#bd3786\"],[0.5555555555555556,\"#d8576b\"],[0.6666666666666666,\"#ed7953\"],[0.7777777777777778,\"#fb9f3a\"],[0.8888888888888888,\"#fdca26\"],[1.0,\"#f0f921\"]]},\"colorway\":[\"#636efa\",\"#EF553B\",\"#00cc96\",\"#ab63fa\",\"#FFA15A\",\"#19d3f3\",\"#FF6692\",\"#B6E880\",\"#FF97FF\",\"#FECB52\"],\"font\":{\"color\":\"#2a3f5f\"},\"geo\":{\"bgcolor\":\"white\",\"lakecolor\":\"white\",\"landcolor\":\"#E5ECF6\",\"showlakes\":true,\"showland\":true,\"subunitcolor\":\"white\"},\"hoverlabel\":{\"align\":\"left\"},\"hovermode\":\"closest\",\"mapbox\":{\"style\":\"light\"},\"paper_bgcolor\":\"white\",\"plot_bgcolor\":\"#E5ECF6\",\"polar\":{\"angularaxis\":{\"gridcolor\":\"white\",\"linecolor\":\"white\",\"ticks\":\"\"},\"bgcolor\":\"#E5ECF6\",\"radialaxis\":{\"gridcolor\":\"white\",\"linecolor\":\"white\",\"ticks\":\"\"}},\"scene\":{\"xaxis\":{\"backgroundcolor\":\"#E5ECF6\",\"gridcolor\":\"white\",\"gridwidth\":2,\"linecolor\":\"white\",\"showbackground\":true,\"ticks\":\"\",\"zerolinecolor\":\"white\"},\"yaxis\":{\"backgroundcolor\":\"#E5ECF6\",\"gridcolor\":\"white\",\"gridwidth\":2,\"linecolor\":\"white\",\"showbackground\":true,\"ticks\":\"\",\"zerolinecolor\":\"white\"},\"zaxis\":{\"backgroundcolor\":\"#E5ECF6\",\"gridcolor\":\"white\",\"gridwidth\":2,\"linecolor\":\"white\",\"showbackground\":true,\"ticks\":\"\",\"zerolinecolor\":\"white\"}},\"shapedefaults\":{\"line\":{\"color\":\"#2a3f5f\"}},\"ternary\":{\"aaxis\":{\"gridcolor\":\"white\",\"linecolor\":\"white\",\"ticks\":\"\"},\"baxis\":{\"gridcolor\":\"white\",\"linecolor\":\"white\",\"ticks\":\"\"},\"bgcolor\":\"#E5ECF6\",\"caxis\":{\"gridcolor\":\"white\",\"linecolor\":\"white\",\"ticks\":\"\"}},\"title\":{\"x\":0.05},\"xaxis\":{\"automargin\":true,\"gridcolor\":\"white\",\"linecolor\":\"white\",\"ticks\":\"\",\"title\":{\"standoff\":15},\"zerolinecolor\":\"white\",\"zerolinewidth\":2},\"yaxis\":{\"automargin\":true,\"gridcolor\":\"white\",\"linecolor\":\"white\",\"ticks\":\"\",\"title\":{\"standoff\":15},\"zerolinecolor\":\"white\",\"zerolinewidth\":2}}},\"title\":{\"text\":\"Gender Wise Distribution of Poeple Vaccinated\",\"x\":0.45}},                        {\"responsive\": true}                    ).then(function(){\n",
       "                            \n",
       "var gd = document.getElementById('a266911b-5bac-4f75-9412-96daf4b404f4');\n",
       "var x = new MutationObserver(function (mutations, observer) {{\n",
       "        var display = window.getComputedStyle(gd).display;\n",
       "        if (!display || display === 'none') {{\n",
       "            console.log([gd, 'removed!']);\n",
       "            Plotly.purge(gd);\n",
       "            observer.disconnect();\n",
       "        }}\n",
       "}});\n",
       "\n",
       "// Listen for the removal of the full notebook cells\n",
       "var notebookContainer = gd.closest('#notebook-container');\n",
       "if (notebookContainer) {{\n",
       "    x.observe(notebookContainer, {childList: true});\n",
       "}}\n",
       "\n",
       "// Listen for the clearing of the current output cell\n",
       "var outputEl = gd.closest('.output');\n",
       "if (outputEl) {{\n",
       "    x.observe(outputEl, {childList: true});\n",
       "}}\n",
       "\n",
       "                        })                };                });            </script>        </div>"
      ]
     },
     "metadata": {},
     "output_type": "display_data"
    }
   ],
   "source": [
    "fig=px.pie(data_frame=data_list,values=data_list,names=labels,hover_name=labels)\n",
    "fig.update_layout(title_text=\"Gender Wise Distribution of Poeple Vaccinated\",title_x=0.45)\n",
    "fig.show()"
   ]
  },
  {
   "cell_type": "code",
   "execution_count": 99,
   "id": "3298d522",
   "metadata": {},
   "outputs": [],
   "source": [
    "# Men took 53% doses\n",
    "# Women took 47% doses\n",
    "# Transgenders took 0.0147% doses"
   ]
  },
  {
   "cell_type": "code",
   "execution_count": null,
   "id": "bb707e0d",
   "metadata": {},
   "outputs": [],
   "source": [
    "    "
   ]
  },
  {
   "cell_type": "code",
   "execution_count": 123,
   "id": "37932713",
   "metadata": {},
   "outputs": [
    {
     "name": "stdout",
     "output_type": "stream",
     "text": [
      "Imported\n"
     ]
    }
   ],
   "source": [
    "#geospatial analysis\n",
    "\n",
    "from geopy import geocoders,Nominatim\n",
    "print(\"Imported\")"
   ]
  },
  {
   "cell_type": "code",
   "execution_count": 124,
   "id": "5835735f",
   "metadata": {},
   "outputs": [],
   "source": [
    "geolocator=Nominatim(user_agent='app')"
   ]
  },
  {
   "cell_type": "code",
   "execution_count": 125,
   "id": "e4294e19",
   "metadata": {},
   "outputs": [
    {
     "data": {
      "text/plain": [
       "37"
      ]
     },
     "execution_count": 125,
     "metadata": {},
     "output_type": "execute_result"
    }
   ],
   "source": [
    "df['State'].nunique()"
   ]
  },
  {
   "cell_type": "code",
   "execution_count": 128,
   "id": "e9659c50",
   "metadata": {},
   "outputs": [
    {
     "name": "stdout",
     "output_type": "stream",
     "text": [
      "                                        Name\n",
      "0                                      India\n",
      "1                Andaman and Nicobar Islands\n",
      "2                             Andhra Pradesh\n",
      "3                          Arunachal Pradesh\n",
      "4                                      Assam\n",
      "5                                      Bihar\n",
      "6                                 Chandigarh\n",
      "7                               Chhattisgarh\n",
      "8   Dadra and Nagar Haveli and Daman and Diu\n",
      "9                                      Delhi\n",
      "10                                       Goa\n",
      "11                                   Gujarat\n",
      "12                                   Haryana\n",
      "13                          Himachal Pradesh\n",
      "14                         Jammu and Kashmir\n",
      "15                                 Jharkhand\n",
      "16                                 Karnataka\n",
      "17                                    Kerala\n",
      "18                                    Ladakh\n",
      "19                               Lakshadweep\n",
      "20                            Madhya Pradesh\n",
      "21                               Maharashtra\n",
      "22                                   Manipur\n",
      "23                                 Meghalaya\n",
      "24                                   Mizoram\n",
      "25                                  Nagaland\n",
      "26                                    Odisha\n",
      "27                                Puducherry\n",
      "28                                    Punjab\n",
      "29                                 Rajasthan\n",
      "30                                    Sikkim\n",
      "31                                Tamil Nadu\n",
      "32                                 Telangana\n",
      "33                                   Tripura\n",
      "34                             Uttar Pradesh\n",
      "35                               Uttarakhand\n",
      "36                               West Bengal\n"
     ]
    }
   ],
   "source": [
    "locations=pd.DataFrame({'Name':df['State'].unique()})\n",
    "print(locations)"
   ]
  },
  {
   "cell_type": "code",
   "execution_count": 145,
   "id": "1eb52548",
   "metadata": {},
   "outputs": [],
   "source": [
    "locations.drop([0],axis=0,inplace=True)"
   ]
  },
  {
   "cell_type": "code",
   "execution_count": 146,
   "id": "6d50fef3",
   "metadata": {},
   "outputs": [
    {
     "name": "stdout",
     "output_type": "stream",
     "text": [
      "done\n"
     ]
    }
   ],
   "source": [
    "lat,lon=[],[]\n",
    "\n",
    "for location in locations['Name']:\n",
    "    location=geolocator.geocode(location)\n",
    "    if location is None:\n",
    "        lat.append(np.nan)\n",
    "        lon.append(np.nan)\n",
    "    else:\n",
    "        lat.append(location.latitude)\n",
    "        lon.append(location.longitude)\n",
    "print(\"done\")        "
   ]
  },
  {
   "cell_type": "code",
   "execution_count": 147,
   "id": "a9e2822b",
   "metadata": {},
   "outputs": [],
   "source": [
    "locations['latitude']=lat\n",
    "locations['longitude']=lon"
   ]
  },
  {
   "cell_type": "code",
   "execution_count": 148,
   "id": "40f48253",
   "metadata": {},
   "outputs": [
    {
     "data": {
      "text/html": [
       "<div>\n",
       "<style scoped>\n",
       "    .dataframe tbody tr th:only-of-type {\n",
       "        vertical-align: middle;\n",
       "    }\n",
       "\n",
       "    .dataframe tbody tr th {\n",
       "        vertical-align: top;\n",
       "    }\n",
       "\n",
       "    .dataframe thead th {\n",
       "        text-align: right;\n",
       "    }\n",
       "</style>\n",
       "<table border=\"1\" class=\"dataframe\">\n",
       "  <thead>\n",
       "    <tr style=\"text-align: right;\">\n",
       "      <th></th>\n",
       "      <th>Name</th>\n",
       "      <th>latitude</th>\n",
       "      <th>longitude</th>\n",
       "    </tr>\n",
       "  </thead>\n",
       "  <tbody>\n",
       "    <tr>\n",
       "      <th>1</th>\n",
       "      <td>Andaman and Nicobar Islands</td>\n",
       "      <td>12.611239</td>\n",
       "      <td>92.831654</td>\n",
       "    </tr>\n",
       "    <tr>\n",
       "      <th>2</th>\n",
       "      <td>Andhra Pradesh</td>\n",
       "      <td>15.924091</td>\n",
       "      <td>80.186381</td>\n",
       "    </tr>\n",
       "    <tr>\n",
       "      <th>3</th>\n",
       "      <td>Arunachal Pradesh</td>\n",
       "      <td>28.093770</td>\n",
       "      <td>94.592133</td>\n",
       "    </tr>\n",
       "    <tr>\n",
       "      <th>4</th>\n",
       "      <td>Assam</td>\n",
       "      <td>26.407384</td>\n",
       "      <td>93.255130</td>\n",
       "    </tr>\n",
       "    <tr>\n",
       "      <th>5</th>\n",
       "      <td>Bihar</td>\n",
       "      <td>25.644085</td>\n",
       "      <td>85.906508</td>\n",
       "    </tr>\n",
       "  </tbody>\n",
       "</table>\n",
       "</div>"
      ],
      "text/plain": [
       "                          Name   latitude  longitude\n",
       "1  Andaman and Nicobar Islands  12.611239  92.831654\n",
       "2               Andhra Pradesh  15.924091  80.186381\n",
       "3            Arunachal Pradesh  28.093770  94.592133\n",
       "4                        Assam  26.407384  93.255130\n",
       "5                        Bihar  25.644085  85.906508"
      ]
     },
     "execution_count": 148,
     "metadata": {},
     "output_type": "execute_result"
    }
   ],
   "source": [
    "locations.head()"
   ]
  },
  {
   "cell_type": "code",
   "execution_count": 132,
   "id": "eb4ebb89",
   "metadata": {},
   "outputs": [
    {
     "data": {
      "text/plain": [
       "['Andaman and Nicobar Islands',\n",
       " 'Andhra Pradesh',\n",
       " 'Arunachal Pradesh',\n",
       " 'Assam',\n",
       " 'Bihar',\n",
       " 'Chandigarh',\n",
       " 'Chhattisgarh',\n",
       " 'Dadra and Nagar Haveli and Daman and Diu',\n",
       " 'Delhi',\n",
       " 'Goa',\n",
       " 'Gujarat',\n",
       " 'Haryana',\n",
       " 'Himachal Pradesh',\n",
       " 'Jammu and Kashmir',\n",
       " 'Jharkhand',\n",
       " 'Karnataka',\n",
       " 'Kerala',\n",
       " 'Ladakh',\n",
       " 'Lakshadweep',\n",
       " 'Madhya Pradesh',\n",
       " 'Maharashtra',\n",
       " 'Manipur',\n",
       " 'Meghalaya',\n",
       " 'Mizoram',\n",
       " 'Nagaland',\n",
       " 'Odisha',\n",
       " 'Puducherry',\n",
       " 'Punjab',\n",
       " 'Rajasthan',\n",
       " 'Sikkim',\n",
       " 'Tamil Nadu',\n",
       " 'Telangana',\n",
       " 'Tripura',\n",
       " 'Uttar Pradesh',\n",
       " 'Uttarakhand',\n",
       " 'West Bengal']"
      ]
     },
     "execution_count": 132,
     "metadata": {},
     "output_type": "execute_result"
    }
   ],
   "source": [
    "states"
   ]
  },
  {
   "cell_type": "code",
   "execution_count": 153,
   "id": "4a5742f7",
   "metadata": {},
   "outputs": [
    {
     "name": "stdout",
     "output_type": "stream",
     "text": [
      "[8102125.0, 564591113.0, 21081557.0, 239769091.0, 660847900.0, 19731496.0, 435309241.0, 11358600.0, 305737211.0, 32114784.0, 1078260544.0, 363754675.0, 150491616.0, 203759781.0, 289150670.0, 868523530.0, 620825191.0, 9466289.0, 2124715.0, 771864046.0, 1403075494.0, 26654265.0, 27205271.0, 20572453.0, 17624495.0, 510519813.0, 17760652.0, 287544360.0, 1141162807.0, 16136752.0, 543746113.0, 393371822.0, 93792442.0, 1200575482.0, 174738181.0, 925022706.0]\n"
     ]
    }
   ],
   "source": [
    "doses_map=[]\n",
    "\n",
    "for i in states:\n",
    "    ans=df['Total Individuals Vaccinated'].where(df['State']==i).sum()\n",
    "    doses_map.append(ans)\n",
    "print(doses_map)    "
   ]
  },
  {
   "cell_type": "code",
   "execution_count": 154,
   "id": "569cfb1c",
   "metadata": {},
   "outputs": [],
   "source": [
    "locations['Total_doses']=doses_map"
   ]
  },
  {
   "cell_type": "code",
   "execution_count": 155,
   "id": "441c0fa8",
   "metadata": {},
   "outputs": [
    {
     "data": {
      "text/html": [
       "<div>\n",
       "<style scoped>\n",
       "    .dataframe tbody tr th:only-of-type {\n",
       "        vertical-align: middle;\n",
       "    }\n",
       "\n",
       "    .dataframe tbody tr th {\n",
       "        vertical-align: top;\n",
       "    }\n",
       "\n",
       "    .dataframe thead th {\n",
       "        text-align: right;\n",
       "    }\n",
       "</style>\n",
       "<table border=\"1\" class=\"dataframe\">\n",
       "  <thead>\n",
       "    <tr style=\"text-align: right;\">\n",
       "      <th></th>\n",
       "      <th>Name</th>\n",
       "      <th>latitude</th>\n",
       "      <th>longitude</th>\n",
       "      <th>Total_doses</th>\n",
       "    </tr>\n",
       "  </thead>\n",
       "  <tbody>\n",
       "    <tr>\n",
       "      <th>1</th>\n",
       "      <td>Andaman and Nicobar Islands</td>\n",
       "      <td>12.611239</td>\n",
       "      <td>92.831654</td>\n",
       "      <td>8102125.0</td>\n",
       "    </tr>\n",
       "    <tr>\n",
       "      <th>2</th>\n",
       "      <td>Andhra Pradesh</td>\n",
       "      <td>15.924091</td>\n",
       "      <td>80.186381</td>\n",
       "      <td>564591113.0</td>\n",
       "    </tr>\n",
       "    <tr>\n",
       "      <th>3</th>\n",
       "      <td>Arunachal Pradesh</td>\n",
       "      <td>28.093770</td>\n",
       "      <td>94.592133</td>\n",
       "      <td>21081557.0</td>\n",
       "    </tr>\n",
       "    <tr>\n",
       "      <th>4</th>\n",
       "      <td>Assam</td>\n",
       "      <td>26.407384</td>\n",
       "      <td>93.255130</td>\n",
       "      <td>239769091.0</td>\n",
       "    </tr>\n",
       "    <tr>\n",
       "      <th>5</th>\n",
       "      <td>Bihar</td>\n",
       "      <td>25.644085</td>\n",
       "      <td>85.906508</td>\n",
       "      <td>660847900.0</td>\n",
       "    </tr>\n",
       "    <tr>\n",
       "      <th>6</th>\n",
       "      <td>Chandigarh</td>\n",
       "      <td>30.733442</td>\n",
       "      <td>76.779714</td>\n",
       "      <td>19731496.0</td>\n",
       "    </tr>\n",
       "    <tr>\n",
       "      <th>7</th>\n",
       "      <td>Chhattisgarh</td>\n",
       "      <td>21.663736</td>\n",
       "      <td>81.840635</td>\n",
       "      <td>435309241.0</td>\n",
       "    </tr>\n",
       "    <tr>\n",
       "      <th>8</th>\n",
       "      <td>Dadra and Nagar Haveli and Daman and Diu</td>\n",
       "      <td>20.718175</td>\n",
       "      <td>70.932383</td>\n",
       "      <td>11358600.0</td>\n",
       "    </tr>\n",
       "    <tr>\n",
       "      <th>9</th>\n",
       "      <td>Delhi</td>\n",
       "      <td>28.651718</td>\n",
       "      <td>77.221939</td>\n",
       "      <td>305737211.0</td>\n",
       "    </tr>\n",
       "    <tr>\n",
       "      <th>10</th>\n",
       "      <td>Goa</td>\n",
       "      <td>15.300454</td>\n",
       "      <td>74.085513</td>\n",
       "      <td>32114784.0</td>\n",
       "    </tr>\n",
       "  </tbody>\n",
       "</table>\n",
       "</div>"
      ],
      "text/plain": [
       "                                        Name   latitude  longitude  \\\n",
       "1                Andaman and Nicobar Islands  12.611239  92.831654   \n",
       "2                             Andhra Pradesh  15.924091  80.186381   \n",
       "3                          Arunachal Pradesh  28.093770  94.592133   \n",
       "4                                      Assam  26.407384  93.255130   \n",
       "5                                      Bihar  25.644085  85.906508   \n",
       "6                                 Chandigarh  30.733442  76.779714   \n",
       "7                               Chhattisgarh  21.663736  81.840635   \n",
       "8   Dadra and Nagar Haveli and Daman and Diu  20.718175  70.932383   \n",
       "9                                      Delhi  28.651718  77.221939   \n",
       "10                                       Goa  15.300454  74.085513   \n",
       "\n",
       "    Total_doses  \n",
       "1     8102125.0  \n",
       "2   564591113.0  \n",
       "3    21081557.0  \n",
       "4   239769091.0  \n",
       "5   660847900.0  \n",
       "6    19731496.0  \n",
       "7   435309241.0  \n",
       "8    11358600.0  \n",
       "9   305737211.0  \n",
       "10   32114784.0  "
      ]
     },
     "execution_count": 155,
     "metadata": {},
     "output_type": "execute_result"
    }
   ],
   "source": [
    "locations.head(10)"
   ]
  },
  {
   "cell_type": "code",
   "execution_count": 156,
   "id": "875c0602",
   "metadata": {},
   "outputs": [],
   "source": [
    "import folium\n",
    "from folium.plugins import HeatMap"
   ]
  },
  {
   "cell_type": "code",
   "execution_count": 157,
   "id": "82459a0c",
   "metadata": {},
   "outputs": [
    {
     "data": {
      "text/html": [
       "<div style=\"width:100%;\"><div style=\"position:relative;width:100%;height:0;padding-bottom:60%;\"><span style=\"color:#565656\">Make this Notebook Trusted to load map: File -> Trust Notebook</span><iframe src=\"about:blank\" style=\"position:absolute;width:100%;height:100%;left:0;top:0;border:none !important;\" data-html=%3C%21DOCTYPE%20html%3E%0A%3Chead%3E%20%20%20%20%0A%20%20%20%20%3Cmeta%20http-equiv%3D%22content-type%22%20content%3D%22text/html%3B%20charset%3DUTF-8%22%20/%3E%0A%20%20%20%20%0A%20%20%20%20%20%20%20%20%3Cscript%3E%0A%20%20%20%20%20%20%20%20%20%20%20%20L_NO_TOUCH%20%3D%20false%3B%0A%20%20%20%20%20%20%20%20%20%20%20%20L_DISABLE_3D%20%3D%20false%3B%0A%20%20%20%20%20%20%20%20%3C/script%3E%0A%20%20%20%20%0A%20%20%20%20%3Cstyle%3Ehtml%2C%20body%20%7Bwidth%3A%20100%25%3Bheight%3A%20100%25%3Bmargin%3A%200%3Bpadding%3A%200%3B%7D%3C/style%3E%0A%20%20%20%20%3Cstyle%3E%23map%20%7Bposition%3Aabsolute%3Btop%3A0%3Bbottom%3A0%3Bright%3A0%3Bleft%3A0%3B%7D%3C/style%3E%0A%20%20%20%20%3Cscript%20src%3D%22https%3A//cdn.jsdelivr.net/npm/leaflet%401.6.0/dist/leaflet.js%22%3E%3C/script%3E%0A%20%20%20%20%3Cscript%20src%3D%22https%3A//code.jquery.com/jquery-1.12.4.min.js%22%3E%3C/script%3E%0A%20%20%20%20%3Cscript%20src%3D%22https%3A//maxcdn.bootstrapcdn.com/bootstrap/3.2.0/js/bootstrap.min.js%22%3E%3C/script%3E%0A%20%20%20%20%3Cscript%20src%3D%22https%3A//cdnjs.cloudflare.com/ajax/libs/Leaflet.awesome-markers/2.0.2/leaflet.awesome-markers.js%22%3E%3C/script%3E%0A%20%20%20%20%3Clink%20rel%3D%22stylesheet%22%20href%3D%22https%3A//cdn.jsdelivr.net/npm/leaflet%401.6.0/dist/leaflet.css%22/%3E%0A%20%20%20%20%3Clink%20rel%3D%22stylesheet%22%20href%3D%22https%3A//maxcdn.bootstrapcdn.com/bootstrap/3.2.0/css/bootstrap.min.css%22/%3E%0A%20%20%20%20%3Clink%20rel%3D%22stylesheet%22%20href%3D%22https%3A//maxcdn.bootstrapcdn.com/bootstrap/3.2.0/css/bootstrap-theme.min.css%22/%3E%0A%20%20%20%20%3Clink%20rel%3D%22stylesheet%22%20href%3D%22https%3A//maxcdn.bootstrapcdn.com/font-awesome/4.6.3/css/font-awesome.min.css%22/%3E%0A%20%20%20%20%3Clink%20rel%3D%22stylesheet%22%20href%3D%22https%3A//cdnjs.cloudflare.com/ajax/libs/Leaflet.awesome-markers/2.0.2/leaflet.awesome-markers.css%22/%3E%0A%20%20%20%20%3Clink%20rel%3D%22stylesheet%22%20href%3D%22https%3A//cdn.jsdelivr.net/gh/python-visualization/folium/folium/templates/leaflet.awesome.rotate.min.css%22/%3E%0A%20%20%20%20%0A%20%20%20%20%20%20%20%20%20%20%20%20%3Cmeta%20name%3D%22viewport%22%20content%3D%22width%3Ddevice-width%2C%0A%20%20%20%20%20%20%20%20%20%20%20%20%20%20%20%20initial-scale%3D1.0%2C%20maximum-scale%3D1.0%2C%20user-scalable%3Dno%22%20/%3E%0A%20%20%20%20%20%20%20%20%20%20%20%20%3Cstyle%3E%0A%20%20%20%20%20%20%20%20%20%20%20%20%20%20%20%20%23map_82263fcf29c6452f9a4db20d5b283637%20%7B%0A%20%20%20%20%20%20%20%20%20%20%20%20%20%20%20%20%20%20%20%20position%3A%20relative%3B%0A%20%20%20%20%20%20%20%20%20%20%20%20%20%20%20%20%20%20%20%20width%3A%20100.0%25%3B%0A%20%20%20%20%20%20%20%20%20%20%20%20%20%20%20%20%20%20%20%20height%3A%20100.0%25%3B%0A%20%20%20%20%20%20%20%20%20%20%20%20%20%20%20%20%20%20%20%20left%3A%200.0%25%3B%0A%20%20%20%20%20%20%20%20%20%20%20%20%20%20%20%20%20%20%20%20top%3A%200.0%25%3B%0A%20%20%20%20%20%20%20%20%20%20%20%20%20%20%20%20%7D%0A%20%20%20%20%20%20%20%20%20%20%20%20%3C/style%3E%0A%20%20%20%20%20%20%20%20%0A%3C/head%3E%0A%3Cbody%3E%20%20%20%20%0A%20%20%20%20%0A%20%20%20%20%20%20%20%20%20%20%20%20%3Cdiv%20class%3D%22folium-map%22%20id%3D%22map_82263fcf29c6452f9a4db20d5b283637%22%20%3E%3C/div%3E%0A%20%20%20%20%20%20%20%20%0A%3C/body%3E%0A%3Cscript%3E%20%20%20%20%0A%20%20%20%20%0A%20%20%20%20%20%20%20%20%20%20%20%20var%20map_82263fcf29c6452f9a4db20d5b283637%20%3D%20L.map%28%0A%20%20%20%20%20%20%20%20%20%20%20%20%20%20%20%20%22map_82263fcf29c6452f9a4db20d5b283637%22%2C%0A%20%20%20%20%20%20%20%20%20%20%20%20%20%20%20%20%7B%0A%20%20%20%20%20%20%20%20%20%20%20%20%20%20%20%20%20%20%20%20center%3A%20%5B12.97%2C%2077.59%5D%2C%0A%20%20%20%20%20%20%20%20%20%20%20%20%20%20%20%20%20%20%20%20crs%3A%20L.CRS.EPSG3857%2C%0A%20%20%20%20%20%20%20%20%20%20%20%20%20%20%20%20%20%20%20%20zoom%3A%2010%2C%0A%20%20%20%20%20%20%20%20%20%20%20%20%20%20%20%20%20%20%20%20zoomControl%3A%20true%2C%0A%20%20%20%20%20%20%20%20%20%20%20%20%20%20%20%20%20%20%20%20preferCanvas%3A%20false%2C%0A%20%20%20%20%20%20%20%20%20%20%20%20%20%20%20%20%7D%0A%20%20%20%20%20%20%20%20%20%20%20%20%29%3B%0A%0A%20%20%20%20%20%20%20%20%20%20%20%20%0A%0A%20%20%20%20%20%20%20%20%0A%20%20%20%20%0A%20%20%20%20%20%20%20%20%20%20%20%20var%20tile_layer_36cb9babe05e4ec581cde7371ca0ab28%20%3D%20L.tileLayer%28%0A%20%20%20%20%20%20%20%20%20%20%20%20%20%20%20%20%22https%3A//%7Bs%7D.tile.openstreetmap.org/%7Bz%7D/%7Bx%7D/%7By%7D.png%22%2C%0A%20%20%20%20%20%20%20%20%20%20%20%20%20%20%20%20%7B%22attribution%22%3A%20%22Data%20by%20%5Cu0026copy%3B%20%5Cu003ca%20href%3D%5C%22http%3A//openstreetmap.org%5C%22%5Cu003eOpenStreetMap%5Cu003c/a%5Cu003e%2C%20under%20%5Cu003ca%20href%3D%5C%22http%3A//www.openstreetmap.org/copyright%5C%22%5Cu003eODbL%5Cu003c/a%5Cu003e.%22%2C%20%22detectRetina%22%3A%20false%2C%20%22maxNativeZoom%22%3A%2018%2C%20%22maxZoom%22%3A%2018%2C%20%22minZoom%22%3A%200%2C%20%22noWrap%22%3A%20false%2C%20%22opacity%22%3A%201%2C%20%22subdomains%22%3A%20%22abc%22%2C%20%22tms%22%3A%20false%7D%0A%20%20%20%20%20%20%20%20%20%20%20%20%29.addTo%28map_82263fcf29c6452f9a4db20d5b283637%29%3B%0A%20%20%20%20%20%20%20%20%0A%3C/script%3E onload=\"this.contentDocument.open();this.contentDocument.write(    decodeURIComponent(this.getAttribute('data-html')));this.contentDocument.close();\" allowfullscreen webkitallowfullscreen mozallowfullscreen></iframe></div></div>"
      ],
      "text/plain": [
       "<folium.folium.Map at 0x263a5b404f0>"
      ]
     },
     "execution_count": 157,
     "metadata": {},
     "output_type": "execute_result"
    }
   ],
   "source": [
    "basemap=folium.Map(location=[12.97,77.59])\n",
    "basemap"
   ]
  },
  {
   "cell_type": "code",
   "execution_count": 158,
   "id": "ce5e5792",
   "metadata": {},
   "outputs": [
    {
     "data": {
      "text/plain": [
       "<folium.plugins.heat_map.HeatMap at 0x263a5b74340>"
      ]
     },
     "execution_count": 158,
     "metadata": {},
     "output_type": "execute_result"
    }
   ],
   "source": [
    "HeatMap(data=locations[['latitude','longitude','Total_doses']]).add_to(basemap)"
   ]
  },
  {
   "cell_type": "code",
   "execution_count": 159,
   "id": "42024a13",
   "metadata": {},
   "outputs": [
    {
     "data": {
      "text/html": [
       "<div style=\"width:100%;\"><div style=\"position:relative;width:100%;height:0;padding-bottom:60%;\"><span style=\"color:#565656\">Make this Notebook Trusted to load map: File -> Trust Notebook</span><iframe src=\"about:blank\" style=\"position:absolute;width:100%;height:100%;left:0;top:0;border:none !important;\" data-html=%3C%21DOCTYPE%20html%3E%0A%3Chead%3E%20%20%20%20%0A%20%20%20%20%3Cmeta%20http-equiv%3D%22content-type%22%20content%3D%22text/html%3B%20charset%3DUTF-8%22%20/%3E%0A%20%20%20%20%0A%20%20%20%20%20%20%20%20%3Cscript%3E%0A%20%20%20%20%20%20%20%20%20%20%20%20L_NO_TOUCH%20%3D%20false%3B%0A%20%20%20%20%20%20%20%20%20%20%20%20L_DISABLE_3D%20%3D%20false%3B%0A%20%20%20%20%20%20%20%20%3C/script%3E%0A%20%20%20%20%0A%20%20%20%20%3Cstyle%3Ehtml%2C%20body%20%7Bwidth%3A%20100%25%3Bheight%3A%20100%25%3Bmargin%3A%200%3Bpadding%3A%200%3B%7D%3C/style%3E%0A%20%20%20%20%3Cstyle%3E%23map%20%7Bposition%3Aabsolute%3Btop%3A0%3Bbottom%3A0%3Bright%3A0%3Bleft%3A0%3B%7D%3C/style%3E%0A%20%20%20%20%3Cscript%20src%3D%22https%3A//cdn.jsdelivr.net/npm/leaflet%401.6.0/dist/leaflet.js%22%3E%3C/script%3E%0A%20%20%20%20%3Cscript%20src%3D%22https%3A//code.jquery.com/jquery-1.12.4.min.js%22%3E%3C/script%3E%0A%20%20%20%20%3Cscript%20src%3D%22https%3A//maxcdn.bootstrapcdn.com/bootstrap/3.2.0/js/bootstrap.min.js%22%3E%3C/script%3E%0A%20%20%20%20%3Cscript%20src%3D%22https%3A//cdnjs.cloudflare.com/ajax/libs/Leaflet.awesome-markers/2.0.2/leaflet.awesome-markers.js%22%3E%3C/script%3E%0A%20%20%20%20%3Clink%20rel%3D%22stylesheet%22%20href%3D%22https%3A//cdn.jsdelivr.net/npm/leaflet%401.6.0/dist/leaflet.css%22/%3E%0A%20%20%20%20%3Clink%20rel%3D%22stylesheet%22%20href%3D%22https%3A//maxcdn.bootstrapcdn.com/bootstrap/3.2.0/css/bootstrap.min.css%22/%3E%0A%20%20%20%20%3Clink%20rel%3D%22stylesheet%22%20href%3D%22https%3A//maxcdn.bootstrapcdn.com/bootstrap/3.2.0/css/bootstrap-theme.min.css%22/%3E%0A%20%20%20%20%3Clink%20rel%3D%22stylesheet%22%20href%3D%22https%3A//maxcdn.bootstrapcdn.com/font-awesome/4.6.3/css/font-awesome.min.css%22/%3E%0A%20%20%20%20%3Clink%20rel%3D%22stylesheet%22%20href%3D%22https%3A//cdnjs.cloudflare.com/ajax/libs/Leaflet.awesome-markers/2.0.2/leaflet.awesome-markers.css%22/%3E%0A%20%20%20%20%3Clink%20rel%3D%22stylesheet%22%20href%3D%22https%3A//cdn.jsdelivr.net/gh/python-visualization/folium/folium/templates/leaflet.awesome.rotate.min.css%22/%3E%0A%20%20%20%20%0A%20%20%20%20%20%20%20%20%20%20%20%20%3Cmeta%20name%3D%22viewport%22%20content%3D%22width%3Ddevice-width%2C%0A%20%20%20%20%20%20%20%20%20%20%20%20%20%20%20%20initial-scale%3D1.0%2C%20maximum-scale%3D1.0%2C%20user-scalable%3Dno%22%20/%3E%0A%20%20%20%20%20%20%20%20%20%20%20%20%3Cstyle%3E%0A%20%20%20%20%20%20%20%20%20%20%20%20%20%20%20%20%23map_82263fcf29c6452f9a4db20d5b283637%20%7B%0A%20%20%20%20%20%20%20%20%20%20%20%20%20%20%20%20%20%20%20%20position%3A%20relative%3B%0A%20%20%20%20%20%20%20%20%20%20%20%20%20%20%20%20%20%20%20%20width%3A%20100.0%25%3B%0A%20%20%20%20%20%20%20%20%20%20%20%20%20%20%20%20%20%20%20%20height%3A%20100.0%25%3B%0A%20%20%20%20%20%20%20%20%20%20%20%20%20%20%20%20%20%20%20%20left%3A%200.0%25%3B%0A%20%20%20%20%20%20%20%20%20%20%20%20%20%20%20%20%20%20%20%20top%3A%200.0%25%3B%0A%20%20%20%20%20%20%20%20%20%20%20%20%20%20%20%20%7D%0A%20%20%20%20%20%20%20%20%20%20%20%20%3C/style%3E%0A%20%20%20%20%20%20%20%20%0A%20%20%20%20%3Cscript%20src%3D%22https%3A//cdn.jsdelivr.net/gh/python-visualization/folium%40master/folium/templates/leaflet_heat.min.js%22%3E%3C/script%3E%0A%3C/head%3E%0A%3Cbody%3E%20%20%20%20%0A%20%20%20%20%0A%20%20%20%20%20%20%20%20%20%20%20%20%3Cdiv%20class%3D%22folium-map%22%20id%3D%22map_82263fcf29c6452f9a4db20d5b283637%22%20%3E%3C/div%3E%0A%20%20%20%20%20%20%20%20%0A%3C/body%3E%0A%3Cscript%3E%20%20%20%20%0A%20%20%20%20%0A%20%20%20%20%20%20%20%20%20%20%20%20var%20map_82263fcf29c6452f9a4db20d5b283637%20%3D%20L.map%28%0A%20%20%20%20%20%20%20%20%20%20%20%20%20%20%20%20%22map_82263fcf29c6452f9a4db20d5b283637%22%2C%0A%20%20%20%20%20%20%20%20%20%20%20%20%20%20%20%20%7B%0A%20%20%20%20%20%20%20%20%20%20%20%20%20%20%20%20%20%20%20%20center%3A%20%5B12.97%2C%2077.59%5D%2C%0A%20%20%20%20%20%20%20%20%20%20%20%20%20%20%20%20%20%20%20%20crs%3A%20L.CRS.EPSG3857%2C%0A%20%20%20%20%20%20%20%20%20%20%20%20%20%20%20%20%20%20%20%20zoom%3A%2010%2C%0A%20%20%20%20%20%20%20%20%20%20%20%20%20%20%20%20%20%20%20%20zoomControl%3A%20true%2C%0A%20%20%20%20%20%20%20%20%20%20%20%20%20%20%20%20%20%20%20%20preferCanvas%3A%20false%2C%0A%20%20%20%20%20%20%20%20%20%20%20%20%20%20%20%20%7D%0A%20%20%20%20%20%20%20%20%20%20%20%20%29%3B%0A%0A%20%20%20%20%20%20%20%20%20%20%20%20%0A%0A%20%20%20%20%20%20%20%20%0A%20%20%20%20%0A%20%20%20%20%20%20%20%20%20%20%20%20var%20tile_layer_36cb9babe05e4ec581cde7371ca0ab28%20%3D%20L.tileLayer%28%0A%20%20%20%20%20%20%20%20%20%20%20%20%20%20%20%20%22https%3A//%7Bs%7D.tile.openstreetmap.org/%7Bz%7D/%7Bx%7D/%7By%7D.png%22%2C%0A%20%20%20%20%20%20%20%20%20%20%20%20%20%20%20%20%7B%22attribution%22%3A%20%22Data%20by%20%5Cu0026copy%3B%20%5Cu003ca%20href%3D%5C%22http%3A//openstreetmap.org%5C%22%5Cu003eOpenStreetMap%5Cu003c/a%5Cu003e%2C%20under%20%5Cu003ca%20href%3D%5C%22http%3A//www.openstreetmap.org/copyright%5C%22%5Cu003eODbL%5Cu003c/a%5Cu003e.%22%2C%20%22detectRetina%22%3A%20false%2C%20%22maxNativeZoom%22%3A%2018%2C%20%22maxZoom%22%3A%2018%2C%20%22minZoom%22%3A%200%2C%20%22noWrap%22%3A%20false%2C%20%22opacity%22%3A%201%2C%20%22subdomains%22%3A%20%22abc%22%2C%20%22tms%22%3A%20false%7D%0A%20%20%20%20%20%20%20%20%20%20%20%20%29.addTo%28map_82263fcf29c6452f9a4db20d5b283637%29%3B%0A%20%20%20%20%20%20%20%20%0A%20%20%20%20%0A%20%20%20%20%20%20%20%20%20%20%20%20var%20heat_map_fb2f77797dc44c158af104425d46629b%20%3D%20L.heatLayer%28%0A%20%20%20%20%20%20%20%20%20%20%20%20%20%20%20%20%5B%5B12.61123865%2C%2092.83165406414926%2C%208102125.0%5D%2C%20%5B15.9240905%2C%2080.1863809%2C%20564591113.0%5D%2C%20%5B28.0937702%2C%2094.5921326%2C%2021081557.0%5D%2C%20%5B26.4073841%2C%2093.2551303%2C%20239769091.0%5D%2C%20%5B25.6440845%2C%2085.906508%2C%20660847900.0%5D%2C%20%5B30.7334421%2C%2076.7797143%2C%2019731496.0%5D%2C%20%5B21.6637359%2C%2081.8406351%2C%20435309241.0%5D%2C%20%5B20.718174949999998%2C%2070.93238341010638%2C%2011358600.0%5D%2C%20%5B28.6517178%2C%2077.2219388%2C%20305737211.0%5D%2C%20%5B15.3004543%2C%2074.0855134%2C%2032114784.0%5D%2C%20%5B22.3850051%2C%2071.745261%2C%201078260544.0%5D%2C%20%5B29.0%2C%2076.0%2C%20363754675.0%5D%2C%20%5B31.81676015%2C%2077.34932051968858%2C%20150491616.0%5D%2C%20%5B33.6649297%2C%2075.1629584%2C%20203759781.0%5D%2C%20%5B23.4559809%2C%2085.2557301%2C%20289150670.0%5D%2C%20%5B14.5203896%2C%2075.7223521%2C%20868523530.0%5D%2C%20%5B10.3528744%2C%2076.5120396%2C%20620825191.0%5D%2C%20%5B33.9456407%2C%2077.6568576%2C%209466289.0%5D%2C%20%5B10.8132489%2C%2073.6804620941119%2C%202124715.0%5D%2C%20%5B23.8143419%2C%2077.5340719%2C%20771864046.0%5D%2C%20%5B18.9068356%2C%2075.6741579%2C%201403075494.0%5D%2C%20%5B24.7208818%2C%2093.9229386%2C%2026654265.0%5D%2C%20%5B25.5379432%2C%2091.2999102%2C%2027205271.0%5D%2C%20%5B23.2146169%2C%2092.8687612%2C%2020572453.0%5D%2C%20%5B26.1630556%2C%2094.5884911%2C%2017624495.0%5D%2C%20%5B20.5431241%2C%2084.6897321%2C%20510519813.0%5D%2C%20%5B11.9340568%2C%2079.8306447%2C%2017760652.0%5D%2C%20%5B30.9293211%2C%2075.5004841%2C%20287544360.0%5D%2C%20%5B26.8105777%2C%2073.7684549%2C%201141162807.0%5D%2C%20%5B27.601029%2C%2088.45413638680145%2C%2016136752.0%5D%2C%20%5B10.9094334%2C%2078.3665347%2C%20543746113.0%5D%2C%20%5B17.8495919%2C%2079.1151663%2C%20393371822.0%5D%2C%20%5B23.7750823%2C%2091.7025091%2C%2093792442.0%5D%2C%20%5B27.1303344%2C%2080.859666%2C%201200575482.0%5D%2C%20%5B30.0417376%2C%2079.089691%2C%20174738181.0%5D%2C%20%5B22.9964948%2C%2087.6855882%2C%20925022706.0%5D%5D%2C%0A%20%20%20%20%20%20%20%20%20%20%20%20%20%20%20%20%7B%22blur%22%3A%2015%2C%20%22maxZoom%22%3A%2018%2C%20%22minOpacity%22%3A%200.5%2C%20%22radius%22%3A%2025%7D%0A%20%20%20%20%20%20%20%20%20%20%20%20%29.addTo%28map_82263fcf29c6452f9a4db20d5b283637%29%3B%0A%20%20%20%20%20%20%20%20%0A%3C/script%3E onload=\"this.contentDocument.open();this.contentDocument.write(    decodeURIComponent(this.getAttribute('data-html')));this.contentDocument.close();\" allowfullscreen webkitallowfullscreen mozallowfullscreen></iframe></div></div>"
      ],
      "text/plain": [
       "<folium.folium.Map at 0x263a5b404f0>"
      ]
     },
     "execution_count": 159,
     "metadata": {},
     "output_type": "execute_result"
    }
   ],
   "source": [
    "basemap"
   ]
  },
  {
   "cell_type": "code",
   "execution_count": 161,
   "id": "306dff28",
   "metadata": {},
   "outputs": [
    {
     "data": {
      "text/html": [
       "<div>\n",
       "<style scoped>\n",
       "    .dataframe tbody tr th:only-of-type {\n",
       "        vertical-align: middle;\n",
       "    }\n",
       "\n",
       "    .dataframe tbody tr th {\n",
       "        vertical-align: top;\n",
       "    }\n",
       "\n",
       "    .dataframe thead th {\n",
       "        text-align: right;\n",
       "    }\n",
       "</style>\n",
       "<table border=\"1\" class=\"dataframe\">\n",
       "  <thead>\n",
       "    <tr style=\"text-align: right;\">\n",
       "      <th></th>\n",
       "      <th>Name</th>\n",
       "      <th>latitude</th>\n",
       "      <th>longitude</th>\n",
       "      <th>Total_doses</th>\n",
       "    </tr>\n",
       "  </thead>\n",
       "  <tbody>\n",
       "    <tr>\n",
       "      <th>21</th>\n",
       "      <td>Maharashtra</td>\n",
       "      <td>18.906836</td>\n",
       "      <td>75.674158</td>\n",
       "      <td>1.403075e+09</td>\n",
       "    </tr>\n",
       "    <tr>\n",
       "      <th>34</th>\n",
       "      <td>Uttar Pradesh</td>\n",
       "      <td>27.130334</td>\n",
       "      <td>80.859666</td>\n",
       "      <td>1.200575e+09</td>\n",
       "    </tr>\n",
       "    <tr>\n",
       "      <th>29</th>\n",
       "      <td>Rajasthan</td>\n",
       "      <td>26.810578</td>\n",
       "      <td>73.768455</td>\n",
       "      <td>1.141163e+09</td>\n",
       "    </tr>\n",
       "    <tr>\n",
       "      <th>11</th>\n",
       "      <td>Gujarat</td>\n",
       "      <td>22.385005</td>\n",
       "      <td>71.745261</td>\n",
       "      <td>1.078261e+09</td>\n",
       "    </tr>\n",
       "    <tr>\n",
       "      <th>36</th>\n",
       "      <td>West Bengal</td>\n",
       "      <td>22.996495</td>\n",
       "      <td>87.685588</td>\n",
       "      <td>9.250227e+08</td>\n",
       "    </tr>\n",
       "  </tbody>\n",
       "</table>\n",
       "</div>"
      ],
      "text/plain": [
       "             Name   latitude  longitude   Total_doses\n",
       "21    Maharashtra  18.906836  75.674158  1.403075e+09\n",
       "34  Uttar Pradesh  27.130334  80.859666  1.200575e+09\n",
       "29      Rajasthan  26.810578  73.768455  1.141163e+09\n",
       "11        Gujarat  22.385005  71.745261  1.078261e+09\n",
       "36    West Bengal  22.996495  87.685588  9.250227e+08"
      ]
     },
     "execution_count": 161,
     "metadata": {},
     "output_type": "execute_result"
    }
   ],
   "source": [
    "locations.sort_values(by='Total_doses',ascending=0).head(5)"
   ]
  },
  {
   "cell_type": "code",
   "execution_count": 162,
   "id": "ec836396",
   "metadata": {},
   "outputs": [],
   "source": [
    "#The heatmap clearly corressponds with the numerical data\n",
    "# Intense heat spots at Maharahstra , Uttar Pradesh , Rajasthan , Gujarat , West Bengal"
   ]
  },
  {
   "cell_type": "code",
   "execution_count": null,
   "id": "a49fc193",
   "metadata": {},
   "outputs": [],
   "source": []
  },
  {
   "cell_type": "code",
   "execution_count": 163,
   "id": "9e76d1af",
   "metadata": {},
   "outputs": [
    {
     "data": {
      "text/html": [
       "<div style=\"width:100%;\"><div style=\"position:relative;width:100%;height:0;padding-bottom:60%;\"><span style=\"color:#565656\">Make this Notebook Trusted to load map: File -> Trust Notebook</span><iframe src=\"about:blank\" style=\"position:absolute;width:100%;height:100%;left:0;top:0;border:none !important;\" data-html=%3C%21DOCTYPE%20html%3E%0A%3Chead%3E%20%20%20%20%0A%20%20%20%20%3Cmeta%20http-equiv%3D%22content-type%22%20content%3D%22text/html%3B%20charset%3DUTF-8%22%20/%3E%0A%20%20%20%20%0A%20%20%20%20%20%20%20%20%3Cscript%3E%0A%20%20%20%20%20%20%20%20%20%20%20%20L_NO_TOUCH%20%3D%20false%3B%0A%20%20%20%20%20%20%20%20%20%20%20%20L_DISABLE_3D%20%3D%20false%3B%0A%20%20%20%20%20%20%20%20%3C/script%3E%0A%20%20%20%20%0A%20%20%20%20%3Cstyle%3Ehtml%2C%20body%20%7Bwidth%3A%20100%25%3Bheight%3A%20100%25%3Bmargin%3A%200%3Bpadding%3A%200%3B%7D%3C/style%3E%0A%20%20%20%20%3Cstyle%3E%23map%20%7Bposition%3Aabsolute%3Btop%3A0%3Bbottom%3A0%3Bright%3A0%3Bleft%3A0%3B%7D%3C/style%3E%0A%20%20%20%20%3Cscript%20src%3D%22https%3A//cdn.jsdelivr.net/npm/leaflet%401.6.0/dist/leaflet.js%22%3E%3C/script%3E%0A%20%20%20%20%3Cscript%20src%3D%22https%3A//code.jquery.com/jquery-1.12.4.min.js%22%3E%3C/script%3E%0A%20%20%20%20%3Cscript%20src%3D%22https%3A//maxcdn.bootstrapcdn.com/bootstrap/3.2.0/js/bootstrap.min.js%22%3E%3C/script%3E%0A%20%20%20%20%3Cscript%20src%3D%22https%3A//cdnjs.cloudflare.com/ajax/libs/Leaflet.awesome-markers/2.0.2/leaflet.awesome-markers.js%22%3E%3C/script%3E%0A%20%20%20%20%3Clink%20rel%3D%22stylesheet%22%20href%3D%22https%3A//cdn.jsdelivr.net/npm/leaflet%401.6.0/dist/leaflet.css%22/%3E%0A%20%20%20%20%3Clink%20rel%3D%22stylesheet%22%20href%3D%22https%3A//maxcdn.bootstrapcdn.com/bootstrap/3.2.0/css/bootstrap.min.css%22/%3E%0A%20%20%20%20%3Clink%20rel%3D%22stylesheet%22%20href%3D%22https%3A//maxcdn.bootstrapcdn.com/bootstrap/3.2.0/css/bootstrap-theme.min.css%22/%3E%0A%20%20%20%20%3Clink%20rel%3D%22stylesheet%22%20href%3D%22https%3A//maxcdn.bootstrapcdn.com/font-awesome/4.6.3/css/font-awesome.min.css%22/%3E%0A%20%20%20%20%3Clink%20rel%3D%22stylesheet%22%20href%3D%22https%3A//cdnjs.cloudflare.com/ajax/libs/Leaflet.awesome-markers/2.0.2/leaflet.awesome-markers.css%22/%3E%0A%20%20%20%20%3Clink%20rel%3D%22stylesheet%22%20href%3D%22https%3A//cdn.jsdelivr.net/gh/python-visualization/folium/folium/templates/leaflet.awesome.rotate.min.css%22/%3E%0A%20%20%20%20%0A%20%20%20%20%20%20%20%20%20%20%20%20%3Cmeta%20name%3D%22viewport%22%20content%3D%22width%3Ddevice-width%2C%0A%20%20%20%20%20%20%20%20%20%20%20%20%20%20%20%20initial-scale%3D1.0%2C%20maximum-scale%3D1.0%2C%20user-scalable%3Dno%22%20/%3E%0A%20%20%20%20%20%20%20%20%20%20%20%20%3Cstyle%3E%0A%20%20%20%20%20%20%20%20%20%20%20%20%20%20%20%20%23map_bdc76d71cfc54b668ee3aae8289390bb%20%7B%0A%20%20%20%20%20%20%20%20%20%20%20%20%20%20%20%20%20%20%20%20position%3A%20relative%3B%0A%20%20%20%20%20%20%20%20%20%20%20%20%20%20%20%20%20%20%20%20width%3A%20100.0%25%3B%0A%20%20%20%20%20%20%20%20%20%20%20%20%20%20%20%20%20%20%20%20height%3A%20100.0%25%3B%0A%20%20%20%20%20%20%20%20%20%20%20%20%20%20%20%20%20%20%20%20left%3A%200.0%25%3B%0A%20%20%20%20%20%20%20%20%20%20%20%20%20%20%20%20%20%20%20%20top%3A%200.0%25%3B%0A%20%20%20%20%20%20%20%20%20%20%20%20%20%20%20%20%7D%0A%20%20%20%20%20%20%20%20%20%20%20%20%3C/style%3E%0A%20%20%20%20%20%20%20%20%0A%3C/head%3E%0A%3Cbody%3E%20%20%20%20%0A%20%20%20%20%0A%20%20%20%20%20%20%20%20%20%20%20%20%3Cdiv%20class%3D%22folium-map%22%20id%3D%22map_bdc76d71cfc54b668ee3aae8289390bb%22%20%3E%3C/div%3E%0A%20%20%20%20%20%20%20%20%0A%3C/body%3E%0A%3Cscript%3E%20%20%20%20%0A%20%20%20%20%0A%20%20%20%20%20%20%20%20%20%20%20%20var%20map_bdc76d71cfc54b668ee3aae8289390bb%20%3D%20L.map%28%0A%20%20%20%20%20%20%20%20%20%20%20%20%20%20%20%20%22map_bdc76d71cfc54b668ee3aae8289390bb%22%2C%0A%20%20%20%20%20%20%20%20%20%20%20%20%20%20%20%20%7B%0A%20%20%20%20%20%20%20%20%20%20%20%20%20%20%20%20%20%20%20%20center%3A%20%5B12.97%2C%2077.59%5D%2C%0A%20%20%20%20%20%20%20%20%20%20%20%20%20%20%20%20%20%20%20%20crs%3A%20L.CRS.EPSG3857%2C%0A%20%20%20%20%20%20%20%20%20%20%20%20%20%20%20%20%20%20%20%20zoom%3A%2010%2C%0A%20%20%20%20%20%20%20%20%20%20%20%20%20%20%20%20%20%20%20%20zoomControl%3A%20true%2C%0A%20%20%20%20%20%20%20%20%20%20%20%20%20%20%20%20%20%20%20%20preferCanvas%3A%20false%2C%0A%20%20%20%20%20%20%20%20%20%20%20%20%20%20%20%20%7D%0A%20%20%20%20%20%20%20%20%20%20%20%20%29%3B%0A%0A%20%20%20%20%20%20%20%20%20%20%20%20%0A%0A%20%20%20%20%20%20%20%20%0A%20%20%20%20%0A%20%20%20%20%20%20%20%20%20%20%20%20var%20tile_layer_0c6dee40815545d688ea363be8da18e1%20%3D%20L.tileLayer%28%0A%20%20%20%20%20%20%20%20%20%20%20%20%20%20%20%20%22https%3A//%7Bs%7D.tile.openstreetmap.org/%7Bz%7D/%7Bx%7D/%7By%7D.png%22%2C%0A%20%20%20%20%20%20%20%20%20%20%20%20%20%20%20%20%7B%22attribution%22%3A%20%22Data%20by%20%5Cu0026copy%3B%20%5Cu003ca%20href%3D%5C%22http%3A//openstreetmap.org%5C%22%5Cu003eOpenStreetMap%5Cu003c/a%5Cu003e%2C%20under%20%5Cu003ca%20href%3D%5C%22http%3A//www.openstreetmap.org/copyright%5C%22%5Cu003eODbL%5Cu003c/a%5Cu003e.%22%2C%20%22detectRetina%22%3A%20false%2C%20%22maxNativeZoom%22%3A%2018%2C%20%22maxZoom%22%3A%2018%2C%20%22minZoom%22%3A%200%2C%20%22noWrap%22%3A%20false%2C%20%22opacity%22%3A%201%2C%20%22subdomains%22%3A%20%22abc%22%2C%20%22tms%22%3A%20false%7D%0A%20%20%20%20%20%20%20%20%20%20%20%20%29.addTo%28map_bdc76d71cfc54b668ee3aae8289390bb%29%3B%0A%20%20%20%20%20%20%20%20%0A%3C/script%3E onload=\"this.contentDocument.open();this.contentDocument.write(    decodeURIComponent(this.getAttribute('data-html')));this.contentDocument.close();\" allowfullscreen webkitallowfullscreen mozallowfullscreen></iframe></div></div>"
      ],
      "text/plain": [
       "<folium.folium.Map at 0x263a5ba4b20>"
      ]
     },
     "execution_count": 163,
     "metadata": {},
     "output_type": "execute_result"
    }
   ],
   "source": [
    "basemap=folium.Map(location=[12.97,77.59])\n",
    "basemap"
   ]
  },
  {
   "cell_type": "code",
   "execution_count": 168,
   "id": "7e3a3209",
   "metadata": {},
   "outputs": [
    {
     "name": "stdout",
     "output_type": "stream",
     "text": [
      "[48.0, 5022.0, 213.0, 2395.0, 5104.0, 80.0, 4580.0, 94.0, 1359.0, 184.0, 7218.0, 2345.0, 1015.0, 1738.0, 2839.0, 8289.0, 1987.0, 88.0, 19.0, 8152.0, 6287.0, 215.0, 509.0, 279.0, 204.0, 1696.0, 66.0, 3783.0, 5807.0, 89.0, 5384.0, 2992.0, 1045.0, 12350.0, 982.0, 4350.0]\n"
     ]
    }
   ],
   "source": [
    "sites_map=[]\n",
    "\n",
    "for i in states:\n",
    "    ans=df[' Sites '].where(df['State']==i).max()\n",
    "    sites_map.append(ans)\n",
    "print(sites_map)   "
   ]
  },
  {
   "cell_type": "code",
   "execution_count": 169,
   "id": "4454daac",
   "metadata": {},
   "outputs": [],
   "source": [
    "locations['Total_sites']=sites_map"
   ]
  },
  {
   "cell_type": "code",
   "execution_count": 170,
   "id": "470790d7",
   "metadata": {},
   "outputs": [
    {
     "data": {
      "text/html": [
       "<div>\n",
       "<style scoped>\n",
       "    .dataframe tbody tr th:only-of-type {\n",
       "        vertical-align: middle;\n",
       "    }\n",
       "\n",
       "    .dataframe tbody tr th {\n",
       "        vertical-align: top;\n",
       "    }\n",
       "\n",
       "    .dataframe thead th {\n",
       "        text-align: right;\n",
       "    }\n",
       "</style>\n",
       "<table border=\"1\" class=\"dataframe\">\n",
       "  <thead>\n",
       "    <tr style=\"text-align: right;\">\n",
       "      <th></th>\n",
       "      <th>Name</th>\n",
       "      <th>latitude</th>\n",
       "      <th>longitude</th>\n",
       "      <th>Total_doses</th>\n",
       "      <th>Total_sites</th>\n",
       "    </tr>\n",
       "  </thead>\n",
       "  <tbody>\n",
       "    <tr>\n",
       "      <th>1</th>\n",
       "      <td>Andaman and Nicobar Islands</td>\n",
       "      <td>12.611239</td>\n",
       "      <td>92.831654</td>\n",
       "      <td>8102125.0</td>\n",
       "      <td>48.0</td>\n",
       "    </tr>\n",
       "    <tr>\n",
       "      <th>2</th>\n",
       "      <td>Andhra Pradesh</td>\n",
       "      <td>15.924091</td>\n",
       "      <td>80.186381</td>\n",
       "      <td>564591113.0</td>\n",
       "      <td>5022.0</td>\n",
       "    </tr>\n",
       "    <tr>\n",
       "      <th>3</th>\n",
       "      <td>Arunachal Pradesh</td>\n",
       "      <td>28.093770</td>\n",
       "      <td>94.592133</td>\n",
       "      <td>21081557.0</td>\n",
       "      <td>213.0</td>\n",
       "    </tr>\n",
       "    <tr>\n",
       "      <th>4</th>\n",
       "      <td>Assam</td>\n",
       "      <td>26.407384</td>\n",
       "      <td>93.255130</td>\n",
       "      <td>239769091.0</td>\n",
       "      <td>2395.0</td>\n",
       "    </tr>\n",
       "    <tr>\n",
       "      <th>5</th>\n",
       "      <td>Bihar</td>\n",
       "      <td>25.644085</td>\n",
       "      <td>85.906508</td>\n",
       "      <td>660847900.0</td>\n",
       "      <td>5104.0</td>\n",
       "    </tr>\n",
       "    <tr>\n",
       "      <th>6</th>\n",
       "      <td>Chandigarh</td>\n",
       "      <td>30.733442</td>\n",
       "      <td>76.779714</td>\n",
       "      <td>19731496.0</td>\n",
       "      <td>80.0</td>\n",
       "    </tr>\n",
       "    <tr>\n",
       "      <th>7</th>\n",
       "      <td>Chhattisgarh</td>\n",
       "      <td>21.663736</td>\n",
       "      <td>81.840635</td>\n",
       "      <td>435309241.0</td>\n",
       "      <td>4580.0</td>\n",
       "    </tr>\n",
       "    <tr>\n",
       "      <th>8</th>\n",
       "      <td>Dadra and Nagar Haveli and Daman and Diu</td>\n",
       "      <td>20.718175</td>\n",
       "      <td>70.932383</td>\n",
       "      <td>11358600.0</td>\n",
       "      <td>94.0</td>\n",
       "    </tr>\n",
       "    <tr>\n",
       "      <th>9</th>\n",
       "      <td>Delhi</td>\n",
       "      <td>28.651718</td>\n",
       "      <td>77.221939</td>\n",
       "      <td>305737211.0</td>\n",
       "      <td>1359.0</td>\n",
       "    </tr>\n",
       "    <tr>\n",
       "      <th>10</th>\n",
       "      <td>Goa</td>\n",
       "      <td>15.300454</td>\n",
       "      <td>74.085513</td>\n",
       "      <td>32114784.0</td>\n",
       "      <td>184.0</td>\n",
       "    </tr>\n",
       "  </tbody>\n",
       "</table>\n",
       "</div>"
      ],
      "text/plain": [
       "                                        Name   latitude  longitude  \\\n",
       "1                Andaman and Nicobar Islands  12.611239  92.831654   \n",
       "2                             Andhra Pradesh  15.924091  80.186381   \n",
       "3                          Arunachal Pradesh  28.093770  94.592133   \n",
       "4                                      Assam  26.407384  93.255130   \n",
       "5                                      Bihar  25.644085  85.906508   \n",
       "6                                 Chandigarh  30.733442  76.779714   \n",
       "7                               Chhattisgarh  21.663736  81.840635   \n",
       "8   Dadra and Nagar Haveli and Daman and Diu  20.718175  70.932383   \n",
       "9                                      Delhi  28.651718  77.221939   \n",
       "10                                       Goa  15.300454  74.085513   \n",
       "\n",
       "    Total_doses  Total_sites  \n",
       "1     8102125.0         48.0  \n",
       "2   564591113.0       5022.0  \n",
       "3    21081557.0        213.0  \n",
       "4   239769091.0       2395.0  \n",
       "5   660847900.0       5104.0  \n",
       "6    19731496.0         80.0  \n",
       "7   435309241.0       4580.0  \n",
       "8    11358600.0         94.0  \n",
       "9   305737211.0       1359.0  \n",
       "10   32114784.0        184.0  "
      ]
     },
     "execution_count": 170,
     "metadata": {},
     "output_type": "execute_result"
    }
   ],
   "source": [
    "locations.head(10)"
   ]
  },
  {
   "cell_type": "code",
   "execution_count": 171,
   "id": "df604c46",
   "metadata": {},
   "outputs": [
    {
     "data": {
      "text/plain": [
       "<folium.plugins.heat_map.HeatMap at 0x263a6435370>"
      ]
     },
     "execution_count": 171,
     "metadata": {},
     "output_type": "execute_result"
    }
   ],
   "source": [
    "HeatMap(data=locations[['latitude','longitude','Total_sites']]).add_to(basemap)"
   ]
  },
  {
   "cell_type": "code",
   "execution_count": 172,
   "id": "57c2e277",
   "metadata": {},
   "outputs": [
    {
     "data": {
      "text/html": [
       "<div style=\"width:100%;\"><div style=\"position:relative;width:100%;height:0;padding-bottom:60%;\"><span style=\"color:#565656\">Make this Notebook Trusted to load map: File -> Trust Notebook</span><iframe src=\"about:blank\" style=\"position:absolute;width:100%;height:100%;left:0;top:0;border:none !important;\" data-html=%3C%21DOCTYPE%20html%3E%0A%3Chead%3E%20%20%20%20%0A%20%20%20%20%3Cmeta%20http-equiv%3D%22content-type%22%20content%3D%22text/html%3B%20charset%3DUTF-8%22%20/%3E%0A%20%20%20%20%0A%20%20%20%20%20%20%20%20%3Cscript%3E%0A%20%20%20%20%20%20%20%20%20%20%20%20L_NO_TOUCH%20%3D%20false%3B%0A%20%20%20%20%20%20%20%20%20%20%20%20L_DISABLE_3D%20%3D%20false%3B%0A%20%20%20%20%20%20%20%20%3C/script%3E%0A%20%20%20%20%0A%20%20%20%20%3Cstyle%3Ehtml%2C%20body%20%7Bwidth%3A%20100%25%3Bheight%3A%20100%25%3Bmargin%3A%200%3Bpadding%3A%200%3B%7D%3C/style%3E%0A%20%20%20%20%3Cstyle%3E%23map%20%7Bposition%3Aabsolute%3Btop%3A0%3Bbottom%3A0%3Bright%3A0%3Bleft%3A0%3B%7D%3C/style%3E%0A%20%20%20%20%3Cscript%20src%3D%22https%3A//cdn.jsdelivr.net/npm/leaflet%401.6.0/dist/leaflet.js%22%3E%3C/script%3E%0A%20%20%20%20%3Cscript%20src%3D%22https%3A//code.jquery.com/jquery-1.12.4.min.js%22%3E%3C/script%3E%0A%20%20%20%20%3Cscript%20src%3D%22https%3A//maxcdn.bootstrapcdn.com/bootstrap/3.2.0/js/bootstrap.min.js%22%3E%3C/script%3E%0A%20%20%20%20%3Cscript%20src%3D%22https%3A//cdnjs.cloudflare.com/ajax/libs/Leaflet.awesome-markers/2.0.2/leaflet.awesome-markers.js%22%3E%3C/script%3E%0A%20%20%20%20%3Clink%20rel%3D%22stylesheet%22%20href%3D%22https%3A//cdn.jsdelivr.net/npm/leaflet%401.6.0/dist/leaflet.css%22/%3E%0A%20%20%20%20%3Clink%20rel%3D%22stylesheet%22%20href%3D%22https%3A//maxcdn.bootstrapcdn.com/bootstrap/3.2.0/css/bootstrap.min.css%22/%3E%0A%20%20%20%20%3Clink%20rel%3D%22stylesheet%22%20href%3D%22https%3A//maxcdn.bootstrapcdn.com/bootstrap/3.2.0/css/bootstrap-theme.min.css%22/%3E%0A%20%20%20%20%3Clink%20rel%3D%22stylesheet%22%20href%3D%22https%3A//maxcdn.bootstrapcdn.com/font-awesome/4.6.3/css/font-awesome.min.css%22/%3E%0A%20%20%20%20%3Clink%20rel%3D%22stylesheet%22%20href%3D%22https%3A//cdnjs.cloudflare.com/ajax/libs/Leaflet.awesome-markers/2.0.2/leaflet.awesome-markers.css%22/%3E%0A%20%20%20%20%3Clink%20rel%3D%22stylesheet%22%20href%3D%22https%3A//cdn.jsdelivr.net/gh/python-visualization/folium/folium/templates/leaflet.awesome.rotate.min.css%22/%3E%0A%20%20%20%20%0A%20%20%20%20%20%20%20%20%20%20%20%20%3Cmeta%20name%3D%22viewport%22%20content%3D%22width%3Ddevice-width%2C%0A%20%20%20%20%20%20%20%20%20%20%20%20%20%20%20%20initial-scale%3D1.0%2C%20maximum-scale%3D1.0%2C%20user-scalable%3Dno%22%20/%3E%0A%20%20%20%20%20%20%20%20%20%20%20%20%3Cstyle%3E%0A%20%20%20%20%20%20%20%20%20%20%20%20%20%20%20%20%23map_bdc76d71cfc54b668ee3aae8289390bb%20%7B%0A%20%20%20%20%20%20%20%20%20%20%20%20%20%20%20%20%20%20%20%20position%3A%20relative%3B%0A%20%20%20%20%20%20%20%20%20%20%20%20%20%20%20%20%20%20%20%20width%3A%20100.0%25%3B%0A%20%20%20%20%20%20%20%20%20%20%20%20%20%20%20%20%20%20%20%20height%3A%20100.0%25%3B%0A%20%20%20%20%20%20%20%20%20%20%20%20%20%20%20%20%20%20%20%20left%3A%200.0%25%3B%0A%20%20%20%20%20%20%20%20%20%20%20%20%20%20%20%20%20%20%20%20top%3A%200.0%25%3B%0A%20%20%20%20%20%20%20%20%20%20%20%20%20%20%20%20%7D%0A%20%20%20%20%20%20%20%20%20%20%20%20%3C/style%3E%0A%20%20%20%20%20%20%20%20%0A%20%20%20%20%3Cscript%20src%3D%22https%3A//cdn.jsdelivr.net/gh/python-visualization/folium%40master/folium/templates/leaflet_heat.min.js%22%3E%3C/script%3E%0A%3C/head%3E%0A%3Cbody%3E%20%20%20%20%0A%20%20%20%20%0A%20%20%20%20%20%20%20%20%20%20%20%20%3Cdiv%20class%3D%22folium-map%22%20id%3D%22map_bdc76d71cfc54b668ee3aae8289390bb%22%20%3E%3C/div%3E%0A%20%20%20%20%20%20%20%20%0A%3C/body%3E%0A%3Cscript%3E%20%20%20%20%0A%20%20%20%20%0A%20%20%20%20%20%20%20%20%20%20%20%20var%20map_bdc76d71cfc54b668ee3aae8289390bb%20%3D%20L.map%28%0A%20%20%20%20%20%20%20%20%20%20%20%20%20%20%20%20%22map_bdc76d71cfc54b668ee3aae8289390bb%22%2C%0A%20%20%20%20%20%20%20%20%20%20%20%20%20%20%20%20%7B%0A%20%20%20%20%20%20%20%20%20%20%20%20%20%20%20%20%20%20%20%20center%3A%20%5B12.97%2C%2077.59%5D%2C%0A%20%20%20%20%20%20%20%20%20%20%20%20%20%20%20%20%20%20%20%20crs%3A%20L.CRS.EPSG3857%2C%0A%20%20%20%20%20%20%20%20%20%20%20%20%20%20%20%20%20%20%20%20zoom%3A%2010%2C%0A%20%20%20%20%20%20%20%20%20%20%20%20%20%20%20%20%20%20%20%20zoomControl%3A%20true%2C%0A%20%20%20%20%20%20%20%20%20%20%20%20%20%20%20%20%20%20%20%20preferCanvas%3A%20false%2C%0A%20%20%20%20%20%20%20%20%20%20%20%20%20%20%20%20%7D%0A%20%20%20%20%20%20%20%20%20%20%20%20%29%3B%0A%0A%20%20%20%20%20%20%20%20%20%20%20%20%0A%0A%20%20%20%20%20%20%20%20%0A%20%20%20%20%0A%20%20%20%20%20%20%20%20%20%20%20%20var%20tile_layer_0c6dee40815545d688ea363be8da18e1%20%3D%20L.tileLayer%28%0A%20%20%20%20%20%20%20%20%20%20%20%20%20%20%20%20%22https%3A//%7Bs%7D.tile.openstreetmap.org/%7Bz%7D/%7Bx%7D/%7By%7D.png%22%2C%0A%20%20%20%20%20%20%20%20%20%20%20%20%20%20%20%20%7B%22attribution%22%3A%20%22Data%20by%20%5Cu0026copy%3B%20%5Cu003ca%20href%3D%5C%22http%3A//openstreetmap.org%5C%22%5Cu003eOpenStreetMap%5Cu003c/a%5Cu003e%2C%20under%20%5Cu003ca%20href%3D%5C%22http%3A//www.openstreetmap.org/copyright%5C%22%5Cu003eODbL%5Cu003c/a%5Cu003e.%22%2C%20%22detectRetina%22%3A%20false%2C%20%22maxNativeZoom%22%3A%2018%2C%20%22maxZoom%22%3A%2018%2C%20%22minZoom%22%3A%200%2C%20%22noWrap%22%3A%20false%2C%20%22opacity%22%3A%201%2C%20%22subdomains%22%3A%20%22abc%22%2C%20%22tms%22%3A%20false%7D%0A%20%20%20%20%20%20%20%20%20%20%20%20%29.addTo%28map_bdc76d71cfc54b668ee3aae8289390bb%29%3B%0A%20%20%20%20%20%20%20%20%0A%20%20%20%20%0A%20%20%20%20%20%20%20%20%20%20%20%20var%20heat_map_ae0ed8bd35e649f3a4f003b7c803283b%20%3D%20L.heatLayer%28%0A%20%20%20%20%20%20%20%20%20%20%20%20%20%20%20%20%5B%5B12.61123865%2C%2092.83165406414926%2C%2048.0%5D%2C%20%5B15.9240905%2C%2080.1863809%2C%205022.0%5D%2C%20%5B28.0937702%2C%2094.5921326%2C%20213.0%5D%2C%20%5B26.4073841%2C%2093.2551303%2C%202395.0%5D%2C%20%5B25.6440845%2C%2085.906508%2C%205104.0%5D%2C%20%5B30.7334421%2C%2076.7797143%2C%2080.0%5D%2C%20%5B21.6637359%2C%2081.8406351%2C%204580.0%5D%2C%20%5B20.718174949999998%2C%2070.93238341010638%2C%2094.0%5D%2C%20%5B28.6517178%2C%2077.2219388%2C%201359.0%5D%2C%20%5B15.3004543%2C%2074.0855134%2C%20184.0%5D%2C%20%5B22.3850051%2C%2071.745261%2C%207218.0%5D%2C%20%5B29.0%2C%2076.0%2C%202345.0%5D%2C%20%5B31.81676015%2C%2077.34932051968858%2C%201015.0%5D%2C%20%5B33.6649297%2C%2075.1629584%2C%201738.0%5D%2C%20%5B23.4559809%2C%2085.2557301%2C%202839.0%5D%2C%20%5B14.5203896%2C%2075.7223521%2C%208289.0%5D%2C%20%5B10.3528744%2C%2076.5120396%2C%201987.0%5D%2C%20%5B33.9456407%2C%2077.6568576%2C%2088.0%5D%2C%20%5B10.8132489%2C%2073.6804620941119%2C%2019.0%5D%2C%20%5B23.8143419%2C%2077.5340719%2C%208152.0%5D%2C%20%5B18.9068356%2C%2075.6741579%2C%206287.0%5D%2C%20%5B24.7208818%2C%2093.9229386%2C%20215.0%5D%2C%20%5B25.5379432%2C%2091.2999102%2C%20509.0%5D%2C%20%5B23.2146169%2C%2092.8687612%2C%20279.0%5D%2C%20%5B26.1630556%2C%2094.5884911%2C%20204.0%5D%2C%20%5B20.5431241%2C%2084.6897321%2C%201696.0%5D%2C%20%5B11.9340568%2C%2079.8306447%2C%2066.0%5D%2C%20%5B30.9293211%2C%2075.5004841%2C%203783.0%5D%2C%20%5B26.8105777%2C%2073.7684549%2C%205807.0%5D%2C%20%5B27.601029%2C%2088.45413638680145%2C%2089.0%5D%2C%20%5B10.9094334%2C%2078.3665347%2C%205384.0%5D%2C%20%5B17.8495919%2C%2079.1151663%2C%202992.0%5D%2C%20%5B23.7750823%2C%2091.7025091%2C%201045.0%5D%2C%20%5B27.1303344%2C%2080.859666%2C%2012350.0%5D%2C%20%5B30.0417376%2C%2079.089691%2C%20982.0%5D%2C%20%5B22.9964948%2C%2087.6855882%2C%204350.0%5D%5D%2C%0A%20%20%20%20%20%20%20%20%20%20%20%20%20%20%20%20%7B%22blur%22%3A%2015%2C%20%22maxZoom%22%3A%2018%2C%20%22minOpacity%22%3A%200.5%2C%20%22radius%22%3A%2025%7D%0A%20%20%20%20%20%20%20%20%20%20%20%20%29.addTo%28map_bdc76d71cfc54b668ee3aae8289390bb%29%3B%0A%20%20%20%20%20%20%20%20%0A%3C/script%3E onload=\"this.contentDocument.open();this.contentDocument.write(    decodeURIComponent(this.getAttribute('data-html')));this.contentDocument.close();\" allowfullscreen webkitallowfullscreen mozallowfullscreen></iframe></div></div>"
      ],
      "text/plain": [
       "<folium.folium.Map at 0x263a5ba4b20>"
      ]
     },
     "execution_count": 172,
     "metadata": {},
     "output_type": "execute_result"
    }
   ],
   "source": [
    "basemap"
   ]
  },
  {
   "cell_type": "code",
   "execution_count": 174,
   "id": "7745de87",
   "metadata": {},
   "outputs": [
    {
     "data": {
      "text/html": [
       "<div>\n",
       "<style scoped>\n",
       "    .dataframe tbody tr th:only-of-type {\n",
       "        vertical-align: middle;\n",
       "    }\n",
       "\n",
       "    .dataframe tbody tr th {\n",
       "        vertical-align: top;\n",
       "    }\n",
       "\n",
       "    .dataframe thead th {\n",
       "        text-align: right;\n",
       "    }\n",
       "</style>\n",
       "<table border=\"1\" class=\"dataframe\">\n",
       "  <thead>\n",
       "    <tr style=\"text-align: right;\">\n",
       "      <th></th>\n",
       "      <th>Name</th>\n",
       "      <th>latitude</th>\n",
       "      <th>longitude</th>\n",
       "      <th>Total_doses</th>\n",
       "      <th>Total_sites</th>\n",
       "    </tr>\n",
       "  </thead>\n",
       "  <tbody>\n",
       "    <tr>\n",
       "      <th>34</th>\n",
       "      <td>Uttar Pradesh</td>\n",
       "      <td>27.130334</td>\n",
       "      <td>80.859666</td>\n",
       "      <td>1.200575e+09</td>\n",
       "      <td>12350.0</td>\n",
       "    </tr>\n",
       "    <tr>\n",
       "      <th>16</th>\n",
       "      <td>Karnataka</td>\n",
       "      <td>14.520390</td>\n",
       "      <td>75.722352</td>\n",
       "      <td>8.685235e+08</td>\n",
       "      <td>8289.0</td>\n",
       "    </tr>\n",
       "    <tr>\n",
       "      <th>20</th>\n",
       "      <td>Madhya Pradesh</td>\n",
       "      <td>23.814342</td>\n",
       "      <td>77.534072</td>\n",
       "      <td>7.718640e+08</td>\n",
       "      <td>8152.0</td>\n",
       "    </tr>\n",
       "    <tr>\n",
       "      <th>11</th>\n",
       "      <td>Gujarat</td>\n",
       "      <td>22.385005</td>\n",
       "      <td>71.745261</td>\n",
       "      <td>1.078261e+09</td>\n",
       "      <td>7218.0</td>\n",
       "    </tr>\n",
       "    <tr>\n",
       "      <th>21</th>\n",
       "      <td>Maharashtra</td>\n",
       "      <td>18.906836</td>\n",
       "      <td>75.674158</td>\n",
       "      <td>1.403075e+09</td>\n",
       "      <td>6287.0</td>\n",
       "    </tr>\n",
       "  </tbody>\n",
       "</table>\n",
       "</div>"
      ],
      "text/plain": [
       "              Name   latitude  longitude   Total_doses  Total_sites\n",
       "34   Uttar Pradesh  27.130334  80.859666  1.200575e+09      12350.0\n",
       "16       Karnataka  14.520390  75.722352  8.685235e+08       8289.0\n",
       "20  Madhya Pradesh  23.814342  77.534072  7.718640e+08       8152.0\n",
       "11         Gujarat  22.385005  71.745261  1.078261e+09       7218.0\n",
       "21     Maharashtra  18.906836  75.674158  1.403075e+09       6287.0"
      ]
     },
     "execution_count": 174,
     "metadata": {},
     "output_type": "execute_result"
    }
   ],
   "source": [
    "locations.sort_values(by='Total_sites',ascending=0).head(5)"
   ]
  },
  {
   "cell_type": "code",
   "execution_count": 175,
   "id": "afcafcde",
   "metadata": {},
   "outputs": [],
   "source": [
    "#The heatmap clearly corressponds with the numerical data\n",
    "# Intense heat spots at Uttar Pradesh , Karnataka , Madhya Pradesh , Gujarat , Maharashtra"
   ]
  },
  {
   "cell_type": "code",
   "execution_count": null,
   "id": "a938012a",
   "metadata": {},
   "outputs": [],
   "source": [
    "#first dose vs second dose"
   ]
  },
  {
   "cell_type": "code",
   "execution_count": 181,
   "id": "13fcc90f",
   "metadata": {},
   "outputs": [
    {
     "name": "stdout",
     "output_type": "stream",
     "text": [
      "28262144791.0\n",
      "\n",
      "6759621451.0\n"
     ]
    }
   ],
   "source": [
    "first_dose=df['First Dose Administered'].where(df['State']=='India').sum()\n",
    "second_dose=df['Second Dose Administered'].where(df['State']=='India').sum()\n",
    "\n",
    "print(first_dose,second_dose,sep=\"\\n\\n\")"
   ]
  },
  {
   "cell_type": "code",
   "execution_count": 185,
   "id": "4f0a1421",
   "metadata": {},
   "outputs": [
    {
     "data": {
      "application/vnd.plotly.v1+json": {
       "config": {
        "plotlyServerURL": "https://plot.ly"
       },
       "data": [
        {
         "domain": {
          "x": [
           0,
           1
          ],
          "y": [
           0,
           1
          ]
         },
         "hovertemplate": "<b>%{hovertext}</b><br><br>label=%{label}<br>value=%{value}<extra></extra>",
         "hovertext": [
          "First Dose Administered",
          "Second Dose Administered"
         ],
         "labels": [
          "First Dose Administered",
          "Second Dose Administered"
         ],
         "legendgroup": "",
         "name": "",
         "showlegend": true,
         "type": "pie",
         "values": [
          28262144791,
          6759621451
         ]
        }
       ],
       "layout": {
        "legend": {
         "tracegroupgap": 0
        },
        "margin": {
         "t": 60
        },
        "template": {
         "data": {
          "bar": [
           {
            "error_x": {
             "color": "#2a3f5f"
            },
            "error_y": {
             "color": "#2a3f5f"
            },
            "marker": {
             "line": {
              "color": "#E5ECF6",
              "width": 0.5
             },
             "pattern": {
              "fillmode": "overlay",
              "size": 10,
              "solidity": 0.2
             }
            },
            "type": "bar"
           }
          ],
          "barpolar": [
           {
            "marker": {
             "line": {
              "color": "#E5ECF6",
              "width": 0.5
             },
             "pattern": {
              "fillmode": "overlay",
              "size": 10,
              "solidity": 0.2
             }
            },
            "type": "barpolar"
           }
          ],
          "carpet": [
           {
            "aaxis": {
             "endlinecolor": "#2a3f5f",
             "gridcolor": "white",
             "linecolor": "white",
             "minorgridcolor": "white",
             "startlinecolor": "#2a3f5f"
            },
            "baxis": {
             "endlinecolor": "#2a3f5f",
             "gridcolor": "white",
             "linecolor": "white",
             "minorgridcolor": "white",
             "startlinecolor": "#2a3f5f"
            },
            "type": "carpet"
           }
          ],
          "choropleth": [
           {
            "colorbar": {
             "outlinewidth": 0,
             "ticks": ""
            },
            "type": "choropleth"
           }
          ],
          "contour": [
           {
            "colorbar": {
             "outlinewidth": 0,
             "ticks": ""
            },
            "colorscale": [
             [
              0,
              "#0d0887"
             ],
             [
              0.1111111111111111,
              "#46039f"
             ],
             [
              0.2222222222222222,
              "#7201a8"
             ],
             [
              0.3333333333333333,
              "#9c179e"
             ],
             [
              0.4444444444444444,
              "#bd3786"
             ],
             [
              0.5555555555555556,
              "#d8576b"
             ],
             [
              0.6666666666666666,
              "#ed7953"
             ],
             [
              0.7777777777777778,
              "#fb9f3a"
             ],
             [
              0.8888888888888888,
              "#fdca26"
             ],
             [
              1,
              "#f0f921"
             ]
            ],
            "type": "contour"
           }
          ],
          "contourcarpet": [
           {
            "colorbar": {
             "outlinewidth": 0,
             "ticks": ""
            },
            "type": "contourcarpet"
           }
          ],
          "heatmap": [
           {
            "colorbar": {
             "outlinewidth": 0,
             "ticks": ""
            },
            "colorscale": [
             [
              0,
              "#0d0887"
             ],
             [
              0.1111111111111111,
              "#46039f"
             ],
             [
              0.2222222222222222,
              "#7201a8"
             ],
             [
              0.3333333333333333,
              "#9c179e"
             ],
             [
              0.4444444444444444,
              "#bd3786"
             ],
             [
              0.5555555555555556,
              "#d8576b"
             ],
             [
              0.6666666666666666,
              "#ed7953"
             ],
             [
              0.7777777777777778,
              "#fb9f3a"
             ],
             [
              0.8888888888888888,
              "#fdca26"
             ],
             [
              1,
              "#f0f921"
             ]
            ],
            "type": "heatmap"
           }
          ],
          "heatmapgl": [
           {
            "colorbar": {
             "outlinewidth": 0,
             "ticks": ""
            },
            "colorscale": [
             [
              0,
              "#0d0887"
             ],
             [
              0.1111111111111111,
              "#46039f"
             ],
             [
              0.2222222222222222,
              "#7201a8"
             ],
             [
              0.3333333333333333,
              "#9c179e"
             ],
             [
              0.4444444444444444,
              "#bd3786"
             ],
             [
              0.5555555555555556,
              "#d8576b"
             ],
             [
              0.6666666666666666,
              "#ed7953"
             ],
             [
              0.7777777777777778,
              "#fb9f3a"
             ],
             [
              0.8888888888888888,
              "#fdca26"
             ],
             [
              1,
              "#f0f921"
             ]
            ],
            "type": "heatmapgl"
           }
          ],
          "histogram": [
           {
            "marker": {
             "pattern": {
              "fillmode": "overlay",
              "size": 10,
              "solidity": 0.2
             }
            },
            "type": "histogram"
           }
          ],
          "histogram2d": [
           {
            "colorbar": {
             "outlinewidth": 0,
             "ticks": ""
            },
            "colorscale": [
             [
              0,
              "#0d0887"
             ],
             [
              0.1111111111111111,
              "#46039f"
             ],
             [
              0.2222222222222222,
              "#7201a8"
             ],
             [
              0.3333333333333333,
              "#9c179e"
             ],
             [
              0.4444444444444444,
              "#bd3786"
             ],
             [
              0.5555555555555556,
              "#d8576b"
             ],
             [
              0.6666666666666666,
              "#ed7953"
             ],
             [
              0.7777777777777778,
              "#fb9f3a"
             ],
             [
              0.8888888888888888,
              "#fdca26"
             ],
             [
              1,
              "#f0f921"
             ]
            ],
            "type": "histogram2d"
           }
          ],
          "histogram2dcontour": [
           {
            "colorbar": {
             "outlinewidth": 0,
             "ticks": ""
            },
            "colorscale": [
             [
              0,
              "#0d0887"
             ],
             [
              0.1111111111111111,
              "#46039f"
             ],
             [
              0.2222222222222222,
              "#7201a8"
             ],
             [
              0.3333333333333333,
              "#9c179e"
             ],
             [
              0.4444444444444444,
              "#bd3786"
             ],
             [
              0.5555555555555556,
              "#d8576b"
             ],
             [
              0.6666666666666666,
              "#ed7953"
             ],
             [
              0.7777777777777778,
              "#fb9f3a"
             ],
             [
              0.8888888888888888,
              "#fdca26"
             ],
             [
              1,
              "#f0f921"
             ]
            ],
            "type": "histogram2dcontour"
           }
          ],
          "mesh3d": [
           {
            "colorbar": {
             "outlinewidth": 0,
             "ticks": ""
            },
            "type": "mesh3d"
           }
          ],
          "parcoords": [
           {
            "line": {
             "colorbar": {
              "outlinewidth": 0,
              "ticks": ""
             }
            },
            "type": "parcoords"
           }
          ],
          "pie": [
           {
            "automargin": true,
            "type": "pie"
           }
          ],
          "scatter": [
           {
            "marker": {
             "colorbar": {
              "outlinewidth": 0,
              "ticks": ""
             }
            },
            "type": "scatter"
           }
          ],
          "scatter3d": [
           {
            "line": {
             "colorbar": {
              "outlinewidth": 0,
              "ticks": ""
             }
            },
            "marker": {
             "colorbar": {
              "outlinewidth": 0,
              "ticks": ""
             }
            },
            "type": "scatter3d"
           }
          ],
          "scattercarpet": [
           {
            "marker": {
             "colorbar": {
              "outlinewidth": 0,
              "ticks": ""
             }
            },
            "type": "scattercarpet"
           }
          ],
          "scattergeo": [
           {
            "marker": {
             "colorbar": {
              "outlinewidth": 0,
              "ticks": ""
             }
            },
            "type": "scattergeo"
           }
          ],
          "scattergl": [
           {
            "marker": {
             "colorbar": {
              "outlinewidth": 0,
              "ticks": ""
             }
            },
            "type": "scattergl"
           }
          ],
          "scattermapbox": [
           {
            "marker": {
             "colorbar": {
              "outlinewidth": 0,
              "ticks": ""
             }
            },
            "type": "scattermapbox"
           }
          ],
          "scatterpolar": [
           {
            "marker": {
             "colorbar": {
              "outlinewidth": 0,
              "ticks": ""
             }
            },
            "type": "scatterpolar"
           }
          ],
          "scatterpolargl": [
           {
            "marker": {
             "colorbar": {
              "outlinewidth": 0,
              "ticks": ""
             }
            },
            "type": "scatterpolargl"
           }
          ],
          "scatterternary": [
           {
            "marker": {
             "colorbar": {
              "outlinewidth": 0,
              "ticks": ""
             }
            },
            "type": "scatterternary"
           }
          ],
          "surface": [
           {
            "colorbar": {
             "outlinewidth": 0,
             "ticks": ""
            },
            "colorscale": [
             [
              0,
              "#0d0887"
             ],
             [
              0.1111111111111111,
              "#46039f"
             ],
             [
              0.2222222222222222,
              "#7201a8"
             ],
             [
              0.3333333333333333,
              "#9c179e"
             ],
             [
              0.4444444444444444,
              "#bd3786"
             ],
             [
              0.5555555555555556,
              "#d8576b"
             ],
             [
              0.6666666666666666,
              "#ed7953"
             ],
             [
              0.7777777777777778,
              "#fb9f3a"
             ],
             [
              0.8888888888888888,
              "#fdca26"
             ],
             [
              1,
              "#f0f921"
             ]
            ],
            "type": "surface"
           }
          ],
          "table": [
           {
            "cells": {
             "fill": {
              "color": "#EBF0F8"
             },
             "line": {
              "color": "white"
             }
            },
            "header": {
             "fill": {
              "color": "#C8D4E3"
             },
             "line": {
              "color": "white"
             }
            },
            "type": "table"
           }
          ]
         },
         "layout": {
          "annotationdefaults": {
           "arrowcolor": "#2a3f5f",
           "arrowhead": 0,
           "arrowwidth": 1
          },
          "autotypenumbers": "strict",
          "coloraxis": {
           "colorbar": {
            "outlinewidth": 0,
            "ticks": ""
           }
          },
          "colorscale": {
           "diverging": [
            [
             0,
             "#8e0152"
            ],
            [
             0.1,
             "#c51b7d"
            ],
            [
             0.2,
             "#de77ae"
            ],
            [
             0.3,
             "#f1b6da"
            ],
            [
             0.4,
             "#fde0ef"
            ],
            [
             0.5,
             "#f7f7f7"
            ],
            [
             0.6,
             "#e6f5d0"
            ],
            [
             0.7,
             "#b8e186"
            ],
            [
             0.8,
             "#7fbc41"
            ],
            [
             0.9,
             "#4d9221"
            ],
            [
             1,
             "#276419"
            ]
           ],
           "sequential": [
            [
             0,
             "#0d0887"
            ],
            [
             0.1111111111111111,
             "#46039f"
            ],
            [
             0.2222222222222222,
             "#7201a8"
            ],
            [
             0.3333333333333333,
             "#9c179e"
            ],
            [
             0.4444444444444444,
             "#bd3786"
            ],
            [
             0.5555555555555556,
             "#d8576b"
            ],
            [
             0.6666666666666666,
             "#ed7953"
            ],
            [
             0.7777777777777778,
             "#fb9f3a"
            ],
            [
             0.8888888888888888,
             "#fdca26"
            ],
            [
             1,
             "#f0f921"
            ]
           ],
           "sequentialminus": [
            [
             0,
             "#0d0887"
            ],
            [
             0.1111111111111111,
             "#46039f"
            ],
            [
             0.2222222222222222,
             "#7201a8"
            ],
            [
             0.3333333333333333,
             "#9c179e"
            ],
            [
             0.4444444444444444,
             "#bd3786"
            ],
            [
             0.5555555555555556,
             "#d8576b"
            ],
            [
             0.6666666666666666,
             "#ed7953"
            ],
            [
             0.7777777777777778,
             "#fb9f3a"
            ],
            [
             0.8888888888888888,
             "#fdca26"
            ],
            [
             1,
             "#f0f921"
            ]
           ]
          },
          "colorway": [
           "#636efa",
           "#EF553B",
           "#00cc96",
           "#ab63fa",
           "#FFA15A",
           "#19d3f3",
           "#FF6692",
           "#B6E880",
           "#FF97FF",
           "#FECB52"
          ],
          "font": {
           "color": "#2a3f5f"
          },
          "geo": {
           "bgcolor": "white",
           "lakecolor": "white",
           "landcolor": "#E5ECF6",
           "showlakes": true,
           "showland": true,
           "subunitcolor": "white"
          },
          "hoverlabel": {
           "align": "left"
          },
          "hovermode": "closest",
          "mapbox": {
           "style": "light"
          },
          "paper_bgcolor": "white",
          "plot_bgcolor": "#E5ECF6",
          "polar": {
           "angularaxis": {
            "gridcolor": "white",
            "linecolor": "white",
            "ticks": ""
           },
           "bgcolor": "#E5ECF6",
           "radialaxis": {
            "gridcolor": "white",
            "linecolor": "white",
            "ticks": ""
           }
          },
          "scene": {
           "xaxis": {
            "backgroundcolor": "#E5ECF6",
            "gridcolor": "white",
            "gridwidth": 2,
            "linecolor": "white",
            "showbackground": true,
            "ticks": "",
            "zerolinecolor": "white"
           },
           "yaxis": {
            "backgroundcolor": "#E5ECF6",
            "gridcolor": "white",
            "gridwidth": 2,
            "linecolor": "white",
            "showbackground": true,
            "ticks": "",
            "zerolinecolor": "white"
           },
           "zaxis": {
            "backgroundcolor": "#E5ECF6",
            "gridcolor": "white",
            "gridwidth": 2,
            "linecolor": "white",
            "showbackground": true,
            "ticks": "",
            "zerolinecolor": "white"
           }
          },
          "shapedefaults": {
           "line": {
            "color": "#2a3f5f"
           }
          },
          "ternary": {
           "aaxis": {
            "gridcolor": "white",
            "linecolor": "white",
            "ticks": ""
           },
           "baxis": {
            "gridcolor": "white",
            "linecolor": "white",
            "ticks": ""
           },
           "bgcolor": "#E5ECF6",
           "caxis": {
            "gridcolor": "white",
            "linecolor": "white",
            "ticks": ""
           }
          },
          "title": {
           "x": 0.05
          },
          "xaxis": {
           "automargin": true,
           "gridcolor": "white",
           "linecolor": "white",
           "ticks": "",
           "title": {
            "standoff": 15
           },
           "zerolinecolor": "white",
           "zerolinewidth": 2
          },
          "yaxis": {
           "automargin": true,
           "gridcolor": "white",
           "linecolor": "white",
           "ticks": "",
           "title": {
            "standoff": 15
           },
           "zerolinecolor": "white",
           "zerolinewidth": 2
          }
         }
        },
        "title": {
         "text": "First Dose vs Second Dose",
         "x": 0.45
        }
       }
      },
      "text/html": [
       "<div>                            <div id=\"77a64a45-d24e-457e-90b7-496b1f3ecfe1\" class=\"plotly-graph-div\" style=\"height:525px; width:100%;\"></div>            <script type=\"text/javascript\">                require([\"plotly\"], function(Plotly) {                    window.PLOTLYENV=window.PLOTLYENV || {};                                    if (document.getElementById(\"77a64a45-d24e-457e-90b7-496b1f3ecfe1\")) {                    Plotly.newPlot(                        \"77a64a45-d24e-457e-90b7-496b1f3ecfe1\",                        [{\"domain\":{\"x\":[0.0,1.0],\"y\":[0.0,1.0]},\"hovertemplate\":\"<b>%{hovertext}</b><br><br>label=%{label}<br>value=%{value}<extra></extra>\",\"hovertext\":[\"First Dose Administered\",\"Second Dose Administered\"],\"labels\":[\"First Dose Administered\",\"Second Dose Administered\"],\"legendgroup\":\"\",\"name\":\"\",\"showlegend\":true,\"type\":\"pie\",\"values\":[28262144791.0,6759621451.0]}],                        {\"legend\":{\"tracegroupgap\":0},\"margin\":{\"t\":60},\"template\":{\"data\":{\"bar\":[{\"error_x\":{\"color\":\"#2a3f5f\"},\"error_y\":{\"color\":\"#2a3f5f\"},\"marker\":{\"line\":{\"color\":\"#E5ECF6\",\"width\":0.5},\"pattern\":{\"fillmode\":\"overlay\",\"size\":10,\"solidity\":0.2}},\"type\":\"bar\"}],\"barpolar\":[{\"marker\":{\"line\":{\"color\":\"#E5ECF6\",\"width\":0.5},\"pattern\":{\"fillmode\":\"overlay\",\"size\":10,\"solidity\":0.2}},\"type\":\"barpolar\"}],\"carpet\":[{\"aaxis\":{\"endlinecolor\":\"#2a3f5f\",\"gridcolor\":\"white\",\"linecolor\":\"white\",\"minorgridcolor\":\"white\",\"startlinecolor\":\"#2a3f5f\"},\"baxis\":{\"endlinecolor\":\"#2a3f5f\",\"gridcolor\":\"white\",\"linecolor\":\"white\",\"minorgridcolor\":\"white\",\"startlinecolor\":\"#2a3f5f\"},\"type\":\"carpet\"}],\"choropleth\":[{\"colorbar\":{\"outlinewidth\":0,\"ticks\":\"\"},\"type\":\"choropleth\"}],\"contour\":[{\"colorbar\":{\"outlinewidth\":0,\"ticks\":\"\"},\"colorscale\":[[0.0,\"#0d0887\"],[0.1111111111111111,\"#46039f\"],[0.2222222222222222,\"#7201a8\"],[0.3333333333333333,\"#9c179e\"],[0.4444444444444444,\"#bd3786\"],[0.5555555555555556,\"#d8576b\"],[0.6666666666666666,\"#ed7953\"],[0.7777777777777778,\"#fb9f3a\"],[0.8888888888888888,\"#fdca26\"],[1.0,\"#f0f921\"]],\"type\":\"contour\"}],\"contourcarpet\":[{\"colorbar\":{\"outlinewidth\":0,\"ticks\":\"\"},\"type\":\"contourcarpet\"}],\"heatmap\":[{\"colorbar\":{\"outlinewidth\":0,\"ticks\":\"\"},\"colorscale\":[[0.0,\"#0d0887\"],[0.1111111111111111,\"#46039f\"],[0.2222222222222222,\"#7201a8\"],[0.3333333333333333,\"#9c179e\"],[0.4444444444444444,\"#bd3786\"],[0.5555555555555556,\"#d8576b\"],[0.6666666666666666,\"#ed7953\"],[0.7777777777777778,\"#fb9f3a\"],[0.8888888888888888,\"#fdca26\"],[1.0,\"#f0f921\"]],\"type\":\"heatmap\"}],\"heatmapgl\":[{\"colorbar\":{\"outlinewidth\":0,\"ticks\":\"\"},\"colorscale\":[[0.0,\"#0d0887\"],[0.1111111111111111,\"#46039f\"],[0.2222222222222222,\"#7201a8\"],[0.3333333333333333,\"#9c179e\"],[0.4444444444444444,\"#bd3786\"],[0.5555555555555556,\"#d8576b\"],[0.6666666666666666,\"#ed7953\"],[0.7777777777777778,\"#fb9f3a\"],[0.8888888888888888,\"#fdca26\"],[1.0,\"#f0f921\"]],\"type\":\"heatmapgl\"}],\"histogram\":[{\"marker\":{\"pattern\":{\"fillmode\":\"overlay\",\"size\":10,\"solidity\":0.2}},\"type\":\"histogram\"}],\"histogram2d\":[{\"colorbar\":{\"outlinewidth\":0,\"ticks\":\"\"},\"colorscale\":[[0.0,\"#0d0887\"],[0.1111111111111111,\"#46039f\"],[0.2222222222222222,\"#7201a8\"],[0.3333333333333333,\"#9c179e\"],[0.4444444444444444,\"#bd3786\"],[0.5555555555555556,\"#d8576b\"],[0.6666666666666666,\"#ed7953\"],[0.7777777777777778,\"#fb9f3a\"],[0.8888888888888888,\"#fdca26\"],[1.0,\"#f0f921\"]],\"type\":\"histogram2d\"}],\"histogram2dcontour\":[{\"colorbar\":{\"outlinewidth\":0,\"ticks\":\"\"},\"colorscale\":[[0.0,\"#0d0887\"],[0.1111111111111111,\"#46039f\"],[0.2222222222222222,\"#7201a8\"],[0.3333333333333333,\"#9c179e\"],[0.4444444444444444,\"#bd3786\"],[0.5555555555555556,\"#d8576b\"],[0.6666666666666666,\"#ed7953\"],[0.7777777777777778,\"#fb9f3a\"],[0.8888888888888888,\"#fdca26\"],[1.0,\"#f0f921\"]],\"type\":\"histogram2dcontour\"}],\"mesh3d\":[{\"colorbar\":{\"outlinewidth\":0,\"ticks\":\"\"},\"type\":\"mesh3d\"}],\"parcoords\":[{\"line\":{\"colorbar\":{\"outlinewidth\":0,\"ticks\":\"\"}},\"type\":\"parcoords\"}],\"pie\":[{\"automargin\":true,\"type\":\"pie\"}],\"scatter\":[{\"marker\":{\"colorbar\":{\"outlinewidth\":0,\"ticks\":\"\"}},\"type\":\"scatter\"}],\"scatter3d\":[{\"line\":{\"colorbar\":{\"outlinewidth\":0,\"ticks\":\"\"}},\"marker\":{\"colorbar\":{\"outlinewidth\":0,\"ticks\":\"\"}},\"type\":\"scatter3d\"}],\"scattercarpet\":[{\"marker\":{\"colorbar\":{\"outlinewidth\":0,\"ticks\":\"\"}},\"type\":\"scattercarpet\"}],\"scattergeo\":[{\"marker\":{\"colorbar\":{\"outlinewidth\":0,\"ticks\":\"\"}},\"type\":\"scattergeo\"}],\"scattergl\":[{\"marker\":{\"colorbar\":{\"outlinewidth\":0,\"ticks\":\"\"}},\"type\":\"scattergl\"}],\"scattermapbox\":[{\"marker\":{\"colorbar\":{\"outlinewidth\":0,\"ticks\":\"\"}},\"type\":\"scattermapbox\"}],\"scatterpolar\":[{\"marker\":{\"colorbar\":{\"outlinewidth\":0,\"ticks\":\"\"}},\"type\":\"scatterpolar\"}],\"scatterpolargl\":[{\"marker\":{\"colorbar\":{\"outlinewidth\":0,\"ticks\":\"\"}},\"type\":\"scatterpolargl\"}],\"scatterternary\":[{\"marker\":{\"colorbar\":{\"outlinewidth\":0,\"ticks\":\"\"}},\"type\":\"scatterternary\"}],\"surface\":[{\"colorbar\":{\"outlinewidth\":0,\"ticks\":\"\"},\"colorscale\":[[0.0,\"#0d0887\"],[0.1111111111111111,\"#46039f\"],[0.2222222222222222,\"#7201a8\"],[0.3333333333333333,\"#9c179e\"],[0.4444444444444444,\"#bd3786\"],[0.5555555555555556,\"#d8576b\"],[0.6666666666666666,\"#ed7953\"],[0.7777777777777778,\"#fb9f3a\"],[0.8888888888888888,\"#fdca26\"],[1.0,\"#f0f921\"]],\"type\":\"surface\"}],\"table\":[{\"cells\":{\"fill\":{\"color\":\"#EBF0F8\"},\"line\":{\"color\":\"white\"}},\"header\":{\"fill\":{\"color\":\"#C8D4E3\"},\"line\":{\"color\":\"white\"}},\"type\":\"table\"}]},\"layout\":{\"annotationdefaults\":{\"arrowcolor\":\"#2a3f5f\",\"arrowhead\":0,\"arrowwidth\":1},\"autotypenumbers\":\"strict\",\"coloraxis\":{\"colorbar\":{\"outlinewidth\":0,\"ticks\":\"\"}},\"colorscale\":{\"diverging\":[[0,\"#8e0152\"],[0.1,\"#c51b7d\"],[0.2,\"#de77ae\"],[0.3,\"#f1b6da\"],[0.4,\"#fde0ef\"],[0.5,\"#f7f7f7\"],[0.6,\"#e6f5d0\"],[0.7,\"#b8e186\"],[0.8,\"#7fbc41\"],[0.9,\"#4d9221\"],[1,\"#276419\"]],\"sequential\":[[0.0,\"#0d0887\"],[0.1111111111111111,\"#46039f\"],[0.2222222222222222,\"#7201a8\"],[0.3333333333333333,\"#9c179e\"],[0.4444444444444444,\"#bd3786\"],[0.5555555555555556,\"#d8576b\"],[0.6666666666666666,\"#ed7953\"],[0.7777777777777778,\"#fb9f3a\"],[0.8888888888888888,\"#fdca26\"],[1.0,\"#f0f921\"]],\"sequentialminus\":[[0.0,\"#0d0887\"],[0.1111111111111111,\"#46039f\"],[0.2222222222222222,\"#7201a8\"],[0.3333333333333333,\"#9c179e\"],[0.4444444444444444,\"#bd3786\"],[0.5555555555555556,\"#d8576b\"],[0.6666666666666666,\"#ed7953\"],[0.7777777777777778,\"#fb9f3a\"],[0.8888888888888888,\"#fdca26\"],[1.0,\"#f0f921\"]]},\"colorway\":[\"#636efa\",\"#EF553B\",\"#00cc96\",\"#ab63fa\",\"#FFA15A\",\"#19d3f3\",\"#FF6692\",\"#B6E880\",\"#FF97FF\",\"#FECB52\"],\"font\":{\"color\":\"#2a3f5f\"},\"geo\":{\"bgcolor\":\"white\",\"lakecolor\":\"white\",\"landcolor\":\"#E5ECF6\",\"showlakes\":true,\"showland\":true,\"subunitcolor\":\"white\"},\"hoverlabel\":{\"align\":\"left\"},\"hovermode\":\"closest\",\"mapbox\":{\"style\":\"light\"},\"paper_bgcolor\":\"white\",\"plot_bgcolor\":\"#E5ECF6\",\"polar\":{\"angularaxis\":{\"gridcolor\":\"white\",\"linecolor\":\"white\",\"ticks\":\"\"},\"bgcolor\":\"#E5ECF6\",\"radialaxis\":{\"gridcolor\":\"white\",\"linecolor\":\"white\",\"ticks\":\"\"}},\"scene\":{\"xaxis\":{\"backgroundcolor\":\"#E5ECF6\",\"gridcolor\":\"white\",\"gridwidth\":2,\"linecolor\":\"white\",\"showbackground\":true,\"ticks\":\"\",\"zerolinecolor\":\"white\"},\"yaxis\":{\"backgroundcolor\":\"#E5ECF6\",\"gridcolor\":\"white\",\"gridwidth\":2,\"linecolor\":\"white\",\"showbackground\":true,\"ticks\":\"\",\"zerolinecolor\":\"white\"},\"zaxis\":{\"backgroundcolor\":\"#E5ECF6\",\"gridcolor\":\"white\",\"gridwidth\":2,\"linecolor\":\"white\",\"showbackground\":true,\"ticks\":\"\",\"zerolinecolor\":\"white\"}},\"shapedefaults\":{\"line\":{\"color\":\"#2a3f5f\"}},\"ternary\":{\"aaxis\":{\"gridcolor\":\"white\",\"linecolor\":\"white\",\"ticks\":\"\"},\"baxis\":{\"gridcolor\":\"white\",\"linecolor\":\"white\",\"ticks\":\"\"},\"bgcolor\":\"#E5ECF6\",\"caxis\":{\"gridcolor\":\"white\",\"linecolor\":\"white\",\"ticks\":\"\"}},\"title\":{\"x\":0.05},\"xaxis\":{\"automargin\":true,\"gridcolor\":\"white\",\"linecolor\":\"white\",\"ticks\":\"\",\"title\":{\"standoff\":15},\"zerolinecolor\":\"white\",\"zerolinewidth\":2},\"yaxis\":{\"automargin\":true,\"gridcolor\":\"white\",\"linecolor\":\"white\",\"ticks\":\"\",\"title\":{\"standoff\":15},\"zerolinecolor\":\"white\",\"zerolinewidth\":2}}},\"title\":{\"text\":\"First Dose vs Second Dose\",\"x\":0.45}},                        {\"responsive\": true}                    ).then(function(){\n",
       "                            \n",
       "var gd = document.getElementById('77a64a45-d24e-457e-90b7-496b1f3ecfe1');\n",
       "var x = new MutationObserver(function (mutations, observer) {{\n",
       "        var display = window.getComputedStyle(gd).display;\n",
       "        if (!display || display === 'none') {{\n",
       "            console.log([gd, 'removed!']);\n",
       "            Plotly.purge(gd);\n",
       "            observer.disconnect();\n",
       "        }}\n",
       "}});\n",
       "\n",
       "// Listen for the removal of the full notebook cells\n",
       "var notebookContainer = gd.closest('#notebook-container');\n",
       "if (notebookContainer) {{\n",
       "    x.observe(notebookContainer, {childList: true});\n",
       "}}\n",
       "\n",
       "// Listen for the clearing of the current output cell\n",
       "var outputEl = gd.closest('.output');\n",
       "if (outputEl) {{\n",
       "    x.observe(outputEl, {childList: true});\n",
       "}}\n",
       "\n",
       "                        })                };                });            </script>        </div>"
      ]
     },
     "metadata": {},
     "output_type": "display_data"
    }
   ],
   "source": [
    "data_list=[first_dose,second_dose]\n",
    "labels=['First Dose Administered','Second Dose Administered']\n",
    "fig=px.pie(data_frame=data_list,values=data_list,names=labels,hover_name=labels)\n",
    "fig.update_layout(title_text=\"First Dose vs Second Dose\",title_x=0.45)\n",
    "\n"
   ]
  },
  {
   "cell_type": "code",
   "execution_count": 217,
   "id": "6d493a0c",
   "metadata": {},
   "outputs": [
    {
     "name": "stdout",
     "output_type": "stream",
     "text": [
      "done\n",
      "['16/01/2021', '17/01/2021', '18/01/2021', '19/01/2021', '20/01/2021', '21/01/2021', '22/01/2021', '23/01/2021', '24/01/2021', '25/01/2021', '26/01/2021', '27/01/2021', '28/01/2021', '29/01/2021', '30/01/2021', '31/01/2021', '01/02/2021', '02/02/2021', '03/02/2021', '04/02/2021', '05/02/2021', '06/02/2021', '07/02/2021', '08/02/2021', '09/02/2021', '10/02/2021', '11/02/2021', '12/02/2021', '13/02/2021', '14/02/2021', '15/02/2021', '16/02/2021', '17/02/2021', '18/02/2021', '19/02/2021', '20/02/2021', '21/02/2021', '22/02/2021', '23/02/2021', '24/02/2021', '25/02/2021', '26/02/2021', '27/02/2021', '28/02/2021', '01/03/2021', '02/03/2021', '03/03/2021', '04/03/2021', '05/03/2021', '06/03/2021', '07/03/2021', '08/03/2021', '09/03/2021', '10/03/2021', '11/03/2021', '12/03/2021', '13/03/2021', '14/03/2021', '15/03/2021', '16/03/2021', '17/03/2021', '18/03/2021', '19/03/2021', '20/03/2021', '21/03/2021', '22/03/2021', '23/03/2021', '24/03/2021', '25/03/2021', '26/03/2021', '27/03/2021', '28/03/2021', '29/03/2021', '30/03/2021', '31/03/2021', '01/04/2021', '02/04/2021', '03/04/2021', '04/04/2021', '05/04/2021', '06/04/2021', '07/04/2021', '08/04/2021', '09/04/2021', '10/04/2021', '11/04/2021', '12/04/2021', '13/04/2021', '14/04/2021', '15/04/2021', '16/04/2021', '17/04/2021', '18/04/2021', '19/04/2021', '20/04/2021', '21/04/2021', '22/04/2021', '23/04/2021', '24/04/2021', '25/04/2021', '26/04/2021', '27/04/2021', '28/04/2021', '29/04/2021', '30/04/2021', '01/05/2021', '02/05/2021', '03/05/2021', '04/05/2021', '05/05/2021', '06/05/2021', '07/05/2021', '08/05/2021', '09/05/2021', '10/05/2021', '11/05/2021', '12/05/2021', '13/05/2021', '14/05/2021', '15/05/2021', '16/05/2021', '17/05/2021', '18/05/2021', '19/05/2021', '20/05/2021', '21/05/2021', '22/05/2021', '23/05/2021', '24/05/2021', '25/05/2021', '26/05/2021', '27/05/2021', '28/05/2021', '29/05/2021', '30/05/2021', '31/05/2021', '01/06/2021', '02/06/2021', '03/06/2021', '04/06/2021', '05/06/2021', '06/06/2021', '07/06/2021', '08/06/2021', '09/06/2021', '10/06/2021', '11/06/2021', '12/06/2021', '13/06/2021', '14/06/2021', '15/06/2021', '16/06/2021', '17/06/2021', '18/06/2021', '19/06/2021', '20/06/2021', '21/06/2021', '22/06/2021', '23/06/2021', '24/06/2021', '25/06/2021', '26/06/2021', '27/06/2021', '28/06/2021', '29/06/2021', '30/06/2021', '01/07/2021', '02/07/2021', '03/07/2021', '04/07/2021', '05/07/2021', '06/07/2021', '07/07/2021', '08/07/2021', '09/07/2021', '10/07/2021', '11/07/2021', '12/07/2021', '13/07/2021', '14/07/2021', '15/07/2021', '16/07/2021', '17/07/2021', '18/07/2021', '19/07/2021', '20/07/2021', '21/07/2021', '22/07/2021', '23/07/2021', '24/07/2021', '25/07/2021', '26/07/2021', '27/07/2021', '28/07/2021', '29/07/2021', '30/07/2021', '31/07/2021', '01/08/2021', '02/08/2021', '03/08/2021', '04/08/2021', '05/08/2021', '06/08/2021', '07/08/2021', '08/08/2021', '09/08/2021', '10/08/2021', '11/08/2021', '12/08/2021', '13/08/2021', '14/08/2021', '15/08/2021']\n",
      "\n",
      "[48276.0, 58604.0, 99449.0, 195525.0, 251280.0, 365965.0, 549381.0, 759008.0, 835058.0, 1277104.0, 1293784.0, 1726490.0, 2295491.0, 2814803.0, 3067736.0, 3127107.0, 3350265.0, 3527971.0, 3825835.0, 4314304.0, 4765924.0, 5111827.0, 5168099.0, 5615499.0, 6002474.0, 6462270.0, 6958553.0, 7423817.0, 7687352.0, 7710367.0, 8111162.0, 8337600.0, 8704698.0, 8862491.0, 9523567.0, 9734505.0, 9757217.0, 10069263.0, 10288293.0, 10517568.0, 10846192.0, 11141375.0, 11141426.0, 11141651.0, 11141651.0, 11886320.0, 12553326.0, 13393538.0, 14415912.0, 15438495.0, 15541529.0, 16976138.0, 14003206.0, 14872785.0, 15204375.0, 16612019.0, 17698742.0, 17837716.0, 19766466.0, 25709257.0, 30011328.0, 31952935.0, 34228371.0, 36568988.0, 37303458.0, 39612614.0, 42148875.0, 44250191.0, 46454700.0, 48749313.0, 50865316.0, 51179587.0, 51774289.0, 53429356.0, 55188803.0, 57443466.0, 60936753.0, 63743700.0, 66838504.0, 69620234.0, 72035640.0, 76671812.0, 80998099.0, 84296847.0, 87411872.0, 90111528.0, 93559587.0, 95823614.0, 98703696.0, 100853671.0, 102927296.0, 104950409.0, 105896430.0, 108178574.0, 110165234.0, 111673361.0, 113584269.0, 115461202.0, 117105343.0, 117795008.0, 119886252.0, 121263287.0, 122538179.0, 123811908.0, 125376952.0, 126328970.0, 126704151.0, 127696675.0, 128627919.0, 129730641.0, 131058890.0, 132294827.0, 133366482.0, 133854676.0, 135192013.0, 136557345.0, 137805245.0, 139087590.0, 139861462.0, 141132112.0, 141764335.0, 143090218.0, 144270200.0, 145333606.0, 146624652.0, 147893976.0, 149302864.0, 150180408.0, 152439044.0, 154384464.0, 156189641.0, 159006359.0, 161951713.0, 164804095.0, 165823004.0, 168393525.0, 170640412.0, 172945950.0, 175677634.0, 179205337.0, 182451348.0, 183824958.0, 186933771.0, 189503126.0, 192669299.0, 195747476.0, 198977594.0, 202207183.0, 203705131.0, 207274441.0, 209816439.0, 212945352.0, 215944608.0, 218956863.0, 222316897.0, 225211708.0, 233288807.0, 238685516.0, 244944880.0, 250656880.0, 256135000.0, 261705883.0, 263289938.0, 267485789.0, 270392224.0, 272487181.0, 275842378.0, 279132514.0, 283527017.0, 284750483.0, 287588808.0, 290132865.0, 292326546.0, 295113298.0, 297184419.0, 299620148.0, 300474970.0, 303057816.0, 305477371.0, 310042014.0, 312624872.0, 315177274.0, 318403675.0, 319469878.0, 322905680.0, 325242678.0, 326792911.0, 330465663.0, 333352959.0, 336917806.0, 338346937.0, 343039824.0, 345867755.0, 349104325.0, 352679959.0, 356348903.0, 361264651.0, 365110984.0, 369654820.0, 375040194.0, 378269912.0, 382658786.0, 390344882.0, 394599261.0, 395961470.0, 400150406.0, nan, nan, nan, nan, nan, nan]\n",
      "\n",
      "[0.0, 0.0, 0.0, 0.0, 0.0, 0.0, 0.0, 0.0, 0.0, 0.0, 0.0, 0.0, 0.0, 0.0, 0.0, 0.0, 0.0, 0.0, 0.0, 0.0, 0.0, 0.0, 0.0, 0.0, 0.0, 0.0, 0.0, 0.0, 20859.0, 21911.0, 142489.0, 239626.0, 318541.0, 475776.0, 717941.0, 884608.0, 893795.0, 1174416.0, 1309475.0, 1525390.0, 1972882.0, 2419557.0, 2419557.0, 2419557.0, 2419557.0, 2647634.0, 2830557.0, 3142165.0, 3455761.0, 3732333.0, 3747137.0, 4062362.0, 4357037.0, 4665762.0, 4749612.0, 5160140.0, 5460862.0, 5480034.0, 5851784.0, 6161488.0, 6484692.0, 6817469.0, 7080848.0, 7308880.0, 7341914.0, 7592019.0, 7824277.0, 7966046.0, 8134520.0, 8271851.0, 8370120.0, 8377533.0, 8408775.0, 8560886.0, 8746787.0, 8918256.0, 9154083.0, 9368419.0, 9567193.0, 9819655.0, 10029697.0, 10428815.0, 10883431.0, 11286572.0, 11657482.0, 11888873.0, 12410952.0, 12774675.0, 13209592.0, 13744355.0, 14378048.0, 15020960.0, 15310668.0, 16278588.0, 17263653.0, 17972744.0, 19170339.0, 20197122.0, 21080613.0, 21390165.0, 22638695.0, 23615946.0, 24515213.0, 25456864.0, 26621155.0, 27297355.0, 27507360.0, 28385461.0, 29122833.0, 30200597.0, 31544713.0, 32895173.0, 34127375.0, 34450192.0, 35906905.0, 37305298.0, 38240332.0, 39274256.0, 39784951.0, 40412424.0, 40486671.0, 40726986.0, 40921402.0, 41076994.0, 41262233.0, 41450129.0, 41633995.0, 41697052.0, 41874876.0, 42079031.0, 42235974.0, 42431761.0, 42665859.0, 42992369.0, 43084719.0, 43384966.0, 43674110.0, 43912247.0, 44153937.0, 44436944.0, 44711155.0, 44799620.0, 45129717.0, 45449492.0, 45770830.0, 46099387.0, 46434361.0, 46825911.0, 46951231.0, 47378599.0, 47789089.0, 48173116.0, 48592637.0, 48994708.0, 49516745.0, 49806985.0, 50602957.0, 51276230.0, 51947641.0, 52769970.0, 53667519.0, 54829892.0, 55183554.0, 56350540.0, 57293198.0, 58066442.0, 59070842.0, 60314554.0, 62527005.0, 63015764.0, 64823481.0, 66060084.0, 67401699.0, 68752879.0, 69894633.0, 71301249.0, 71774807.0, 73292746.0, 74735268.0, 76246127.0, 77662058.0, 79464430.0, 81469973.0, 81972091.0, 83884453.0, 85188148.0, 86024123.0, 87901175.0, 89492339.0, 91192124.0, 91823594.0, 93821656.0, 95260919.0, 96592255.0, 98317933.0, 100122347.0, 101848788.0, 102658881.0, 104322336.0, 105603734.0, 106641361.0, 108102152.0, 109742188.0, 111187777.0, 111766433.0, 113077994.0, nan, nan, nan, nan, nan, nan]\n",
      "212\n"
     ]
    }
   ],
   "source": [
    "dates=[]\n",
    "first_doses=[]\n",
    "second_doses=[]\n",
    "\n",
    "for index,rows in df.iterrows():\n",
    "    if rows['State']=='India':\n",
    "         \n",
    "        date=rows['Updated On']\n",
    "        first_dose=rows['First Dose Administered']\n",
    "        second_dose=rows['Second Dose Administered']\n",
    "        dates.append(date)\n",
    "        first_doses.append(first_dose)\n",
    "        second_doses.append(second_dose)\n",
    "\n",
    "print(\"done\")    \n",
    "print(dates,first_doses,second_doses,sep=\"\\n\\n\")   \n",
    "print(len(dates))\n",
    "\n",
    "    "
   ]
  },
  {
   "cell_type": "code",
   "execution_count": 200,
   "id": "9814da01",
   "metadata": {},
   "outputs": [],
   "source": [
    "datewise_data=pd.DataFrame({'Dates':dates,\n",
    "                           'First_Doses':first_doses,\n",
    "                           'Second_Doses':second_doses})"
   ]
  },
  {
   "cell_type": "code",
   "execution_count": 201,
   "id": "51021aae",
   "metadata": {},
   "outputs": [
    {
     "data": {
      "text/html": [
       "<div>\n",
       "<style scoped>\n",
       "    .dataframe tbody tr th:only-of-type {\n",
       "        vertical-align: middle;\n",
       "    }\n",
       "\n",
       "    .dataframe tbody tr th {\n",
       "        vertical-align: top;\n",
       "    }\n",
       "\n",
       "    .dataframe thead th {\n",
       "        text-align: right;\n",
       "    }\n",
       "</style>\n",
       "<table border=\"1\" class=\"dataframe\">\n",
       "  <thead>\n",
       "    <tr style=\"text-align: right;\">\n",
       "      <th></th>\n",
       "      <th>Dates</th>\n",
       "      <th>First_Doses</th>\n",
       "      <th>Second_Doses</th>\n",
       "    </tr>\n",
       "  </thead>\n",
       "  <tbody>\n",
       "    <tr>\n",
       "      <th>0</th>\n",
       "      <td>16/01/2021</td>\n",
       "      <td>48276.0</td>\n",
       "      <td>0.0</td>\n",
       "    </tr>\n",
       "    <tr>\n",
       "      <th>1</th>\n",
       "      <td>17/01/2021</td>\n",
       "      <td>58604.0</td>\n",
       "      <td>0.0</td>\n",
       "    </tr>\n",
       "    <tr>\n",
       "      <th>2</th>\n",
       "      <td>18/01/2021</td>\n",
       "      <td>99449.0</td>\n",
       "      <td>0.0</td>\n",
       "    </tr>\n",
       "    <tr>\n",
       "      <th>3</th>\n",
       "      <td>19/01/2021</td>\n",
       "      <td>195525.0</td>\n",
       "      <td>0.0</td>\n",
       "    </tr>\n",
       "    <tr>\n",
       "      <th>4</th>\n",
       "      <td>20/01/2021</td>\n",
       "      <td>251280.0</td>\n",
       "      <td>0.0</td>\n",
       "    </tr>\n",
       "  </tbody>\n",
       "</table>\n",
       "</div>"
      ],
      "text/plain": [
       "        Dates  First_Doses  Second_Doses\n",
       "0  16/01/2021      48276.0           0.0\n",
       "1  17/01/2021      58604.0           0.0\n",
       "2  18/01/2021      99449.0           0.0\n",
       "3  19/01/2021     195525.0           0.0\n",
       "4  20/01/2021     251280.0           0.0"
      ]
     },
     "execution_count": 201,
     "metadata": {},
     "output_type": "execute_result"
    }
   ],
   "source": [
    "datewise_data.head()"
   ]
  },
  {
   "cell_type": "code",
   "execution_count": 215,
   "id": "463e455a",
   "metadata": {},
   "outputs": [
    {
     "data": {
      "image/png": "[encoded data removed]",
      "text/plain": [
       "<Figure size 1152x648 with 1 Axes>"
      ]
     },
     "metadata": {},
     "output_type": "display_data"
    }
   ],
   "source": [
    "plt.figure(figsize = (16,9))\n",
    "sns.set(style='darkgrid',)\n",
    " \n",
    "\n",
    "fig=sns.lineplot(data=datewise_data, x=\"Dates\", y=\"First_Doses\")\n",
    "fig=sns.lineplot(data=datewise_data, x=\"Dates\", y=\"Second_Doses\")\n",
    "\n",
    "plt.title('First Dose vs Second Dose')\n",
    "plt.xlabel('Dates')\n",
    "plt.ylabel('First Dose vs Second Dose')\n",
    "plt.xticks(rotation=45)\n",
    "\n",
    "plt.show(fig)"
   ]
  },
  {
   "cell_type": "code",
   "execution_count": null,
   "id": "9f802339",
   "metadata": {},
   "outputs": [],
   "source": [
    "#there are too many x labels\n",
    "#trying to get data monthwise rather than date wise"
   ]
  },
  {
   "cell_type": "code",
   "execution_count": 232,
   "id": "f9609f6b",
   "metadata": {},
   "outputs": [],
   "source": [
    "months,first_doses,second_doses=[],[],[]\n"
   ]
  },
  {
   "cell_type": "code",
   "execution_count": 233,
   "id": "6c4c132c",
   "metadata": {},
   "outputs": [
    {
     "data": {
      "text/html": [
       "<div>\n",
       "<style scoped>\n",
       "    .dataframe tbody tr th:only-of-type {\n",
       "        vertical-align: middle;\n",
       "    }\n",
       "\n",
       "    .dataframe tbody tr th {\n",
       "        vertical-align: top;\n",
       "    }\n",
       "\n",
       "    .dataframe thead th {\n",
       "        text-align: right;\n",
       "    }\n",
       "</style>\n",
       "<table border=\"1\" class=\"dataframe\">\n",
       "  <thead>\n",
       "    <tr style=\"text-align: right;\">\n",
       "      <th></th>\n",
       "      <th>Updated On</th>\n",
       "      <th>State</th>\n",
       "      <th>Total Doses Administered</th>\n",
       "      <th>Sessions</th>\n",
       "      <th>Sites</th>\n",
       "      <th>First Dose Administered</th>\n",
       "      <th>Second Dose Administered</th>\n",
       "      <th>Male (Doses Administered)</th>\n",
       "      <th>Female (Doses Administered)</th>\n",
       "      <th>Transgender (Doses Administered)</th>\n",
       "      <th>...</th>\n",
       "      <th>18-44 Years (Doses Administered)</th>\n",
       "      <th>45-60 Years (Doses Administered)</th>\n",
       "      <th>60+ Years (Doses Administered)</th>\n",
       "      <th>18-44 Years(Individuals Vaccinated)</th>\n",
       "      <th>45-60 Years(Individuals Vaccinated)</th>\n",
       "      <th>60+ Years(Individuals Vaccinated)</th>\n",
       "      <th>Male(Individuals Vaccinated)</th>\n",
       "      <th>Female(Individuals Vaccinated)</th>\n",
       "      <th>Transgender(Individuals Vaccinated)</th>\n",
       "      <th>Total Individuals Vaccinated</th>\n",
       "    </tr>\n",
       "  </thead>\n",
       "  <tbody>\n",
       "    <tr>\n",
       "      <th>0</th>\n",
       "      <td>16/01/2021</td>\n",
       "      <td>India</td>\n",
       "      <td>48276.0</td>\n",
       "      <td>3455.0</td>\n",
       "      <td>2957.0</td>\n",
       "      <td>48276.0</td>\n",
       "      <td>0.0</td>\n",
       "      <td>NaN</td>\n",
       "      <td>NaN</td>\n",
       "      <td>NaN</td>\n",
       "      <td>...</td>\n",
       "      <td>NaN</td>\n",
       "      <td>NaN</td>\n",
       "      <td>NaN</td>\n",
       "      <td>NaN</td>\n",
       "      <td>NaN</td>\n",
       "      <td>NaN</td>\n",
       "      <td>23757.0</td>\n",
       "      <td>24517.0</td>\n",
       "      <td>2.0</td>\n",
       "      <td>48276.0</td>\n",
       "    </tr>\n",
       "    <tr>\n",
       "      <th>1</th>\n",
       "      <td>17/01/2021</td>\n",
       "      <td>India</td>\n",
       "      <td>58604.0</td>\n",
       "      <td>8532.0</td>\n",
       "      <td>4954.0</td>\n",
       "      <td>58604.0</td>\n",
       "      <td>0.0</td>\n",
       "      <td>NaN</td>\n",
       "      <td>NaN</td>\n",
       "      <td>NaN</td>\n",
       "      <td>...</td>\n",
       "      <td>NaN</td>\n",
       "      <td>NaN</td>\n",
       "      <td>NaN</td>\n",
       "      <td>NaN</td>\n",
       "      <td>NaN</td>\n",
       "      <td>NaN</td>\n",
       "      <td>27348.0</td>\n",
       "      <td>31252.0</td>\n",
       "      <td>4.0</td>\n",
       "      <td>58604.0</td>\n",
       "    </tr>\n",
       "    <tr>\n",
       "      <th>2</th>\n",
       "      <td>18/01/2021</td>\n",
       "      <td>India</td>\n",
       "      <td>99449.0</td>\n",
       "      <td>13611.0</td>\n",
       "      <td>6583.0</td>\n",
       "      <td>99449.0</td>\n",
       "      <td>0.0</td>\n",
       "      <td>NaN</td>\n",
       "      <td>NaN</td>\n",
       "      <td>NaN</td>\n",
       "      <td>...</td>\n",
       "      <td>NaN</td>\n",
       "      <td>NaN</td>\n",
       "      <td>NaN</td>\n",
       "      <td>NaN</td>\n",
       "      <td>NaN</td>\n",
       "      <td>NaN</td>\n",
       "      <td>41361.0</td>\n",
       "      <td>58083.0</td>\n",
       "      <td>5.0</td>\n",
       "      <td>99449.0</td>\n",
       "    </tr>\n",
       "    <tr>\n",
       "      <th>3</th>\n",
       "      <td>19/01/2021</td>\n",
       "      <td>India</td>\n",
       "      <td>195525.0</td>\n",
       "      <td>17855.0</td>\n",
       "      <td>7951.0</td>\n",
       "      <td>195525.0</td>\n",
       "      <td>0.0</td>\n",
       "      <td>NaN</td>\n",
       "      <td>NaN</td>\n",
       "      <td>NaN</td>\n",
       "      <td>...</td>\n",
       "      <td>NaN</td>\n",
       "      <td>NaN</td>\n",
       "      <td>NaN</td>\n",
       "      <td>NaN</td>\n",
       "      <td>NaN</td>\n",
       "      <td>NaN</td>\n",
       "      <td>81901.0</td>\n",
       "      <td>113613.0</td>\n",
       "      <td>11.0</td>\n",
       "      <td>195525.0</td>\n",
       "    </tr>\n",
       "    <tr>\n",
       "      <th>4</th>\n",
       "      <td>20/01/2021</td>\n",
       "      <td>India</td>\n",
       "      <td>251280.0</td>\n",
       "      <td>25472.0</td>\n",
       "      <td>10504.0</td>\n",
       "      <td>251280.0</td>\n",
       "      <td>0.0</td>\n",
       "      <td>NaN</td>\n",
       "      <td>NaN</td>\n",
       "      <td>NaN</td>\n",
       "      <td>...</td>\n",
       "      <td>NaN</td>\n",
       "      <td>NaN</td>\n",
       "      <td>NaN</td>\n",
       "      <td>NaN</td>\n",
       "      <td>NaN</td>\n",
       "      <td>NaN</td>\n",
       "      <td>98111.0</td>\n",
       "      <td>153145.0</td>\n",
       "      <td>24.0</td>\n",
       "      <td>251280.0</td>\n",
       "    </tr>\n",
       "  </tbody>\n",
       "</table>\n",
       "<p>5 rows × 24 columns</p>\n",
       "</div>"
      ],
      "text/plain": [
       "   Updated On  State  Total Doses Administered  Sessions   Sites   \\\n",
       "0  16/01/2021  India                   48276.0    3455.0   2957.0   \n",
       "1  17/01/2021  India                   58604.0    8532.0   4954.0   \n",
       "2  18/01/2021  India                   99449.0   13611.0   6583.0   \n",
       "3  19/01/2021  India                  195525.0   17855.0   7951.0   \n",
       "4  20/01/2021  India                  251280.0   25472.0  10504.0   \n",
       "\n",
       "   First Dose Administered  Second Dose Administered  \\\n",
       "0                  48276.0                       0.0   \n",
       "1                  58604.0                       0.0   \n",
       "2                  99449.0                       0.0   \n",
       "3                 195525.0                       0.0   \n",
       "4                 251280.0                       0.0   \n",
       "\n",
       "   Male (Doses Administered)  Female (Doses Administered)  \\\n",
       "0                        NaN                          NaN   \n",
       "1                        NaN                          NaN   \n",
       "2                        NaN                          NaN   \n",
       "3                        NaN                          NaN   \n",
       "4                        NaN                          NaN   \n",
       "\n",
       "   Transgender (Doses Administered)  ...  18-44 Years (Doses Administered)  \\\n",
       "0                               NaN  ...                               NaN   \n",
       "1                               NaN  ...                               NaN   \n",
       "2                               NaN  ...                               NaN   \n",
       "3                               NaN  ...                               NaN   \n",
       "4                               NaN  ...                               NaN   \n",
       "\n",
       "   45-60 Years (Doses Administered)  60+ Years (Doses Administered)  \\\n",
       "0                               NaN                             NaN   \n",
       "1                               NaN                             NaN   \n",
       "2                               NaN                             NaN   \n",
       "3                               NaN                             NaN   \n",
       "4                               NaN                             NaN   \n",
       "\n",
       "   18-44 Years(Individuals Vaccinated)  45-60 Years(Individuals Vaccinated)  \\\n",
       "0                                  NaN                                  NaN   \n",
       "1                                  NaN                                  NaN   \n",
       "2                                  NaN                                  NaN   \n",
       "3                                  NaN                                  NaN   \n",
       "4                                  NaN                                  NaN   \n",
       "\n",
       "   60+ Years(Individuals Vaccinated)  Male(Individuals Vaccinated)  \\\n",
       "0                                NaN                       23757.0   \n",
       "1                                NaN                       27348.0   \n",
       "2                                NaN                       41361.0   \n",
       "3                                NaN                       81901.0   \n",
       "4                                NaN                       98111.0   \n",
       "\n",
       "   Female(Individuals Vaccinated)  Transgender(Individuals Vaccinated)  \\\n",
       "0                         24517.0                                  2.0   \n",
       "1                         31252.0                                  4.0   \n",
       "2                         58083.0                                  5.0   \n",
       "3                        113613.0                                 11.0   \n",
       "4                        153145.0                                 24.0   \n",
       "\n",
       "   Total Individuals Vaccinated  \n",
       "0                       48276.0  \n",
       "1                       58604.0  \n",
       "2                       99449.0  \n",
       "3                      195525.0  \n",
       "4                      251280.0  \n",
       "\n",
       "[5 rows x 24 columns]"
      ]
     },
     "execution_count": 233,
     "metadata": {},
     "output_type": "execute_result"
    }
   ],
   "source": [
    "data=df.copy()\n",
    "data.head()"
   ]
  },
  {
   "cell_type": "code",
   "execution_count": 235,
   "id": "cf669101",
   "metadata": {},
   "outputs": [],
   "source": [
    "month_list=[]\n",
    "\n",
    "for index,rows in data.iterrows():\n",
    "    if rows['Updated On'][4]=='1':\n",
    "        month_list.append('Jan')\n",
    "    elif rows['Updated On'][4]=='2':\n",
    "        month_list.append('Feb')\n",
    "    elif rows['Updated On'][4]=='3':\n",
    "        month_list.append('March')\n",
    "    elif rows['Updated On'][4]=='4':\n",
    "        month_list.append('Apr')    \n",
    "    elif rows['Updated On'][4]=='5':\n",
    "        month_list.append('May')\n",
    "    elif rows['Updated On'][4]=='6':\n",
    "        month_list.append('June')\n",
    "    elif rows['Updated On'][4]=='7':\n",
    "        month_list.append('July')\n",
    "    elif rows['Updated On'][4]=='8':\n",
    "        month_list.append('Aug')\n",
    "    elif rows['Updated On'][4]=='9':\n",
    "        month_list.append('Sept')\n",
    "    elif rows['Updated On'][4]=='10':\n",
    "        month_list.append('Oct')\n",
    "    elif rows['Updated On'][4]=='11':\n",
    "        month_list.append('Nov')\n",
    "    elif rows['Updated On'][4]=='12':\n",
    "        month_list.append('Dec')    \n",
    "        "
   ]
  },
  {
   "cell_type": "code",
   "execution_count": 236,
   "id": "eb3f32ca",
   "metadata": {},
   "outputs": [
    {
     "data": {
      "text/plain": [
       "['Jan',\n",
       " 'Jan',\n",
       " 'Jan',\n",
       " 'Jan',\n",
       " 'Jan',\n",
       " 'Jan',\n",
       " 'Jan',\n",
       " 'Jan',\n",
       " 'Jan',\n",
       " 'Jan',\n",
       " 'Jan',\n",
       " 'Jan',\n",
       " 'Jan',\n",
       " 'Jan',\n",
       " 'Jan',\n",
       " 'Jan',\n",
       " 'Feb',\n",
       " 'Feb',\n",
       " 'Feb',\n",
       " 'Feb',\n",
       " 'Feb',\n",
       " 'Feb',\n",
       " 'Feb',\n",
       " 'Feb',\n",
       " 'Feb',\n",
       " 'Feb',\n",
       " 'Feb',\n",
       " 'Feb',\n",
       " 'Feb',\n",
       " 'Feb',\n",
       " 'Feb',\n",
       " 'Feb',\n",
       " 'Feb',\n",
       " 'Feb',\n",
       " 'Feb',\n",
       " 'Feb',\n",
       " 'Feb',\n",
       " 'Feb',\n",
       " 'Feb',\n",
       " 'Feb',\n",
       " 'Feb',\n",
       " 'Feb',\n",
       " 'Feb',\n",
       " 'Feb',\n",
       " 'March',\n",
       " 'March',\n",
       " 'March',\n",
       " 'March',\n",
       " 'March',\n",
       " 'March',\n",
       " 'March',\n",
       " 'March',\n",
       " 'March',\n",
       " 'March',\n",
       " 'March',\n",
       " 'March',\n",
       " 'March',\n",
       " 'March',\n",
       " 'March',\n",
       " 'March',\n",
       " 'March',\n",
       " 'March',\n",
       " 'March',\n",
       " 'March',\n",
       " 'March',\n",
       " 'March',\n",
       " 'March',\n",
       " 'March',\n",
       " 'March',\n",
       " 'March',\n",
       " 'March',\n",
       " 'March',\n",
       " 'March',\n",
       " 'March',\n",
       " 'March',\n",
       " 'Apr',\n",
       " 'Apr',\n",
       " 'Apr',\n",
       " 'Apr',\n",
       " 'Apr',\n",
       " 'Apr',\n",
       " 'Apr',\n",
       " 'Apr',\n",
       " 'Apr',\n",
       " 'Apr',\n",
       " 'Apr',\n",
       " 'Apr',\n",
       " 'Apr',\n",
       " 'Apr',\n",
       " 'Apr',\n",
       " 'Apr',\n",
       " 'Apr',\n",
       " 'Apr',\n",
       " 'Apr',\n",
       " 'Apr',\n",
       " 'Apr',\n",
       " 'Apr',\n",
       " 'Apr',\n",
       " 'Apr',\n",
       " 'Apr',\n",
       " 'Apr',\n",
       " 'Apr',\n",
       " 'Apr',\n",
       " 'Apr',\n",
       " 'Apr',\n",
       " 'May',\n",
       " 'May',\n",
       " 'May',\n",
       " 'May',\n",
       " 'May',\n",
       " 'May',\n",
       " 'May',\n",
       " 'May',\n",
       " 'May',\n",
       " 'May',\n",
       " 'May',\n",
       " 'May',\n",
       " 'May',\n",
       " 'May',\n",
       " 'May',\n",
       " 'May',\n",
       " 'May',\n",
       " 'May',\n",
       " 'May',\n",
       " 'May',\n",
       " 'May',\n",
       " 'May',\n",
       " 'May',\n",
       " 'May',\n",
       " 'May',\n",
       " 'May',\n",
       " 'May',\n",
       " 'May',\n",
       " 'May',\n",
       " 'May',\n",
       " 'May',\n",
       " 'June',\n",
       " 'June',\n",
       " 'June',\n",
       " 'June',\n",
       " 'June',\n",
       " 'June',\n",
       " 'June',\n",
       " 'June',\n",
       " 'June',\n",
       " 'June',\n",
       " 'June',\n",
       " 'June',\n",
       " 'June',\n",
       " 'June',\n",
       " 'June',\n",
       " 'June',\n",
       " 'June',\n",
       " 'June',\n",
       " 'June',\n",
       " 'June',\n",
       " 'June',\n",
       " 'June',\n",
       " 'June',\n",
       " 'June',\n",
       " 'June',\n",
       " 'June',\n",
       " 'June',\n",
       " 'June',\n",
       " 'June',\n",
       " 'June',\n",
       " 'July',\n",
       " 'July',\n",
       " 'July',\n",
       " 'July',\n",
       " 'July',\n",
       " 'July',\n",
       " 'July',\n",
       " 'July',\n",
       " 'July',\n",
       " 'July',\n",
       " 'July',\n",
       " 'July',\n",
       " 'July',\n",
       " 'July',\n",
       " 'July',\n",
       " 'July',\n",
       " 'July',\n",
       " 'July',\n",
       " 'July',\n",
       " 'July',\n",
       " 'July',\n",
       " 'July',\n",
       " 'July',\n",
       " 'July',\n",
       " 'July',\n",
       " 'July',\n",
       " 'July',\n",
       " 'July',\n",
       " 'July',\n",
       " 'July',\n",
       " 'July',\n",
       " 'Aug',\n",
       " 'Aug',\n",
       " 'Aug',\n",
       " 'Aug',\n",
       " 'Aug',\n",
       " 'Aug',\n",
       " 'Aug',\n",
       " 'Aug',\n",
       " 'Aug',\n",
       " 'Aug',\n",
       " 'Aug',\n",
       " 'Aug',\n",
       " 'Aug',\n",
       " 'Aug',\n",
       " 'Aug',\n",
       " 'Jan',\n",
       " 'Jan',\n",
       " 'Jan',\n",
       " 'Jan',\n",
       " 'Jan',\n",
       " 'Jan',\n",
       " 'Jan',\n",
       " 'Jan',\n",
       " 'Jan',\n",
       " 'Jan',\n",
       " 'Jan',\n",
       " 'Jan',\n",
       " 'Jan',\n",
       " 'Jan',\n",
       " 'Jan',\n",
       " 'Jan',\n",
       " 'Feb',\n",
       " 'Feb',\n",
       " 'Feb',\n",
       " 'Feb',\n",
       " 'Feb',\n",
       " 'Feb',\n",
       " 'Feb',\n",
       " 'Feb',\n",
       " 'Feb',\n",
       " 'Feb',\n",
       " 'Feb',\n",
       " 'Feb',\n",
       " 'Feb',\n",
       " 'Feb',\n",
       " 'Feb',\n",
       " 'Feb',\n",
       " 'Feb',\n",
       " 'Feb',\n",
       " 'Feb',\n",
       " 'Feb',\n",
       " 'Feb',\n",
       " 'Feb',\n",
       " 'Feb',\n",
       " 'Feb',\n",
       " 'Feb',\n",
       " 'Feb',\n",
       " 'Feb',\n",
       " 'Feb',\n",
       " 'March',\n",
       " 'March',\n",
       " 'March',\n",
       " 'March',\n",
       " 'March',\n",
       " 'March',\n",
       " 'March',\n",
       " 'March',\n",
       " 'March',\n",
       " 'March',\n",
       " 'March',\n",
       " 'March',\n",
       " 'March',\n",
       " 'March',\n",
       " 'March',\n",
       " 'March',\n",
       " 'March',\n",
       " 'March',\n",
       " 'March',\n",
       " 'March',\n",
       " 'March',\n",
       " 'March',\n",
       " 'March',\n",
       " 'March',\n",
       " 'March',\n",
       " 'March',\n",
       " 'March',\n",
       " 'March',\n",
       " 'March',\n",
       " 'March',\n",
       " 'March',\n",
       " 'Apr',\n",
       " 'Apr',\n",
       " 'Apr',\n",
       " 'Apr',\n",
       " 'Apr',\n",
       " 'Apr',\n",
       " 'Apr',\n",
       " 'Apr',\n",
       " 'Apr',\n",
       " 'Apr',\n",
       " 'Apr',\n",
       " 'Apr',\n",
       " 'Apr',\n",
       " 'Apr',\n",
       " 'Apr',\n",
       " 'Apr',\n",
       " 'Apr',\n",
       " 'Apr',\n",
       " 'Apr',\n",
       " 'Apr',\n",
       " 'Apr',\n",
       " 'Apr',\n",
       " 'Apr',\n",
       " 'Apr',\n",
       " 'Apr',\n",
       " 'Apr',\n",
       " 'Apr',\n",
       " 'Apr',\n",
       " 'Apr',\n",
       " 'Apr',\n",
       " 'May',\n",
       " 'May',\n",
       " 'May',\n",
       " 'May',\n",
       " 'May',\n",
       " 'May',\n",
       " 'May',\n",
       " 'May',\n",
       " 'May',\n",
       " 'May',\n",
       " 'May',\n",
       " 'May',\n",
       " 'May',\n",
       " 'May',\n",
       " 'May',\n",
       " 'May',\n",
       " 'May',\n",
       " 'May',\n",
       " 'May',\n",
       " 'May',\n",
       " 'May',\n",
       " 'May',\n",
       " 'May',\n",
       " 'May',\n",
       " 'May',\n",
       " 'May',\n",
       " 'May',\n",
       " 'May',\n",
       " 'May',\n",
       " 'May',\n",
       " 'May',\n",
       " 'June',\n",
       " 'June',\n",
       " 'June',\n",
       " 'June',\n",
       " 'June',\n",
       " 'June',\n",
       " 'June',\n",
       " 'June',\n",
       " 'June',\n",
       " 'June',\n",
       " 'June',\n",
       " 'June',\n",
       " 'June',\n",
       " 'June',\n",
       " 'June',\n",
       " 'June',\n",
       " 'June',\n",
       " 'June',\n",
       " 'June',\n",
       " 'June',\n",
       " 'June',\n",
       " 'June',\n",
       " 'June',\n",
       " 'June',\n",
       " 'June',\n",
       " 'June',\n",
       " 'June',\n",
       " 'June',\n",
       " 'June',\n",
       " 'June',\n",
       " 'July',\n",
       " 'July',\n",
       " 'July',\n",
       " 'July',\n",
       " 'July',\n",
       " 'July',\n",
       " 'July',\n",
       " 'July',\n",
       " 'July',\n",
       " 'July',\n",
       " 'July',\n",
       " 'July',\n",
       " 'July',\n",
       " 'July',\n",
       " 'July',\n",
       " 'July',\n",
       " 'July',\n",
       " 'July',\n",
       " 'July',\n",
       " 'July',\n",
       " 'July',\n",
       " 'July',\n",
       " 'July',\n",
       " 'July',\n",
       " 'July',\n",
       " 'July',\n",
       " 'July',\n",
       " 'July',\n",
       " 'July',\n",
       " 'July',\n",
       " 'July',\n",
       " 'Aug',\n",
       " 'Aug',\n",
       " 'Aug',\n",
       " 'Aug',\n",
       " 'Aug',\n",
       " 'Aug',\n",
       " 'Aug',\n",
       " 'Aug',\n",
       " 'Aug',\n",
       " 'Aug',\n",
       " 'Aug',\n",
       " 'Aug',\n",
       " 'Aug',\n",
       " 'Aug',\n",
       " 'Aug',\n",
       " 'Jan',\n",
       " 'Jan',\n",
       " 'Jan',\n",
       " 'Jan',\n",
       " 'Jan',\n",
       " 'Jan',\n",
       " 'Jan',\n",
       " 'Jan',\n",
       " 'Jan',\n",
       " 'Jan',\n",
       " 'Jan',\n",
       " 'Jan',\n",
       " 'Jan',\n",
       " 'Jan',\n",
       " 'Jan',\n",
       " 'Jan',\n",
       " 'Feb',\n",
       " 'Feb',\n",
       " 'Feb',\n",
       " 'Feb',\n",
       " 'Feb',\n",
       " 'Feb',\n",
       " 'Feb',\n",
       " 'Feb',\n",
       " 'Feb',\n",
       " 'Feb',\n",
       " 'Feb',\n",
       " 'Feb',\n",
       " 'Feb',\n",
       " 'Feb',\n",
       " 'Feb',\n",
       " 'Feb',\n",
       " 'Feb',\n",
       " 'Feb',\n",
       " 'Feb',\n",
       " 'Feb',\n",
       " 'Feb',\n",
       " 'Feb',\n",
       " 'Feb',\n",
       " 'Feb',\n",
       " 'Feb',\n",
       " 'Feb',\n",
       " 'Feb',\n",
       " 'Feb',\n",
       " 'March',\n",
       " 'March',\n",
       " 'March',\n",
       " 'March',\n",
       " 'March',\n",
       " 'March',\n",
       " 'March',\n",
       " 'March',\n",
       " 'March',\n",
       " 'March',\n",
       " 'March',\n",
       " 'March',\n",
       " 'March',\n",
       " 'March',\n",
       " 'March',\n",
       " 'March',\n",
       " 'March',\n",
       " 'March',\n",
       " 'March',\n",
       " 'March',\n",
       " 'March',\n",
       " 'March',\n",
       " 'March',\n",
       " 'March',\n",
       " 'March',\n",
       " 'March',\n",
       " 'March',\n",
       " 'March',\n",
       " 'March',\n",
       " 'March',\n",
       " 'March',\n",
       " 'Apr',\n",
       " 'Apr',\n",
       " 'Apr',\n",
       " 'Apr',\n",
       " 'Apr',\n",
       " 'Apr',\n",
       " 'Apr',\n",
       " 'Apr',\n",
       " 'Apr',\n",
       " 'Apr',\n",
       " 'Apr',\n",
       " 'Apr',\n",
       " 'Apr',\n",
       " 'Apr',\n",
       " 'Apr',\n",
       " 'Apr',\n",
       " 'Apr',\n",
       " 'Apr',\n",
       " 'Apr',\n",
       " 'Apr',\n",
       " 'Apr',\n",
       " 'Apr',\n",
       " 'Apr',\n",
       " 'Apr',\n",
       " 'Apr',\n",
       " 'Apr',\n",
       " 'Apr',\n",
       " 'Apr',\n",
       " 'Apr',\n",
       " 'Apr',\n",
       " 'May',\n",
       " 'May',\n",
       " 'May',\n",
       " 'May',\n",
       " 'May',\n",
       " 'May',\n",
       " 'May',\n",
       " 'May',\n",
       " 'May',\n",
       " 'May',\n",
       " 'May',\n",
       " 'May',\n",
       " 'May',\n",
       " 'May',\n",
       " 'May',\n",
       " 'May',\n",
       " 'May',\n",
       " 'May',\n",
       " 'May',\n",
       " 'May',\n",
       " 'May',\n",
       " 'May',\n",
       " 'May',\n",
       " 'May',\n",
       " 'May',\n",
       " 'May',\n",
       " 'May',\n",
       " 'May',\n",
       " 'May',\n",
       " 'May',\n",
       " 'May',\n",
       " 'June',\n",
       " 'June',\n",
       " 'June',\n",
       " 'June',\n",
       " 'June',\n",
       " 'June',\n",
       " 'June',\n",
       " 'June',\n",
       " 'June',\n",
       " 'June',\n",
       " 'June',\n",
       " 'June',\n",
       " 'June',\n",
       " 'June',\n",
       " 'June',\n",
       " 'June',\n",
       " 'June',\n",
       " 'June',\n",
       " 'June',\n",
       " 'June',\n",
       " 'June',\n",
       " 'June',\n",
       " 'June',\n",
       " 'June',\n",
       " 'June',\n",
       " 'June',\n",
       " 'June',\n",
       " 'June',\n",
       " 'June',\n",
       " 'June',\n",
       " 'July',\n",
       " 'July',\n",
       " 'July',\n",
       " 'July',\n",
       " 'July',\n",
       " 'July',\n",
       " 'July',\n",
       " 'July',\n",
       " 'July',\n",
       " 'July',\n",
       " 'July',\n",
       " 'July',\n",
       " 'July',\n",
       " 'July',\n",
       " 'July',\n",
       " 'July',\n",
       " 'July',\n",
       " 'July',\n",
       " 'July',\n",
       " 'July',\n",
       " 'July',\n",
       " 'July',\n",
       " 'July',\n",
       " 'July',\n",
       " 'July',\n",
       " 'July',\n",
       " 'July',\n",
       " 'July',\n",
       " 'July',\n",
       " 'July',\n",
       " 'July',\n",
       " 'Aug',\n",
       " 'Aug',\n",
       " 'Aug',\n",
       " 'Aug',\n",
       " 'Aug',\n",
       " 'Aug',\n",
       " 'Aug',\n",
       " 'Aug',\n",
       " 'Aug',\n",
       " 'Aug',\n",
       " 'Aug',\n",
       " 'Aug',\n",
       " 'Aug',\n",
       " 'Aug',\n",
       " 'Aug',\n",
       " 'Jan',\n",
       " 'Jan',\n",
       " 'Jan',\n",
       " 'Jan',\n",
       " 'Jan',\n",
       " 'Jan',\n",
       " 'Jan',\n",
       " 'Jan',\n",
       " 'Jan',\n",
       " 'Jan',\n",
       " 'Jan',\n",
       " 'Jan',\n",
       " 'Jan',\n",
       " 'Jan',\n",
       " 'Jan',\n",
       " 'Jan',\n",
       " 'Feb',\n",
       " 'Feb',\n",
       " 'Feb',\n",
       " 'Feb',\n",
       " 'Feb',\n",
       " 'Feb',\n",
       " 'Feb',\n",
       " 'Feb',\n",
       " 'Feb',\n",
       " 'Feb',\n",
       " 'Feb',\n",
       " 'Feb',\n",
       " 'Feb',\n",
       " 'Feb',\n",
       " 'Feb',\n",
       " 'Feb',\n",
       " 'Feb',\n",
       " 'Feb',\n",
       " 'Feb',\n",
       " 'Feb',\n",
       " 'Feb',\n",
       " 'Feb',\n",
       " 'Feb',\n",
       " 'Feb',\n",
       " 'Feb',\n",
       " 'Feb',\n",
       " 'Feb',\n",
       " 'Feb',\n",
       " 'March',\n",
       " 'March',\n",
       " 'March',\n",
       " 'March',\n",
       " 'March',\n",
       " 'March',\n",
       " 'March',\n",
       " 'March',\n",
       " 'March',\n",
       " 'March',\n",
       " 'March',\n",
       " 'March',\n",
       " 'March',\n",
       " 'March',\n",
       " 'March',\n",
       " 'March',\n",
       " 'March',\n",
       " 'March',\n",
       " 'March',\n",
       " 'March',\n",
       " 'March',\n",
       " 'March',\n",
       " 'March',\n",
       " 'March',\n",
       " 'March',\n",
       " 'March',\n",
       " 'March',\n",
       " 'March',\n",
       " 'March',\n",
       " 'March',\n",
       " 'March',\n",
       " 'Apr',\n",
       " 'Apr',\n",
       " 'Apr',\n",
       " 'Apr',\n",
       " 'Apr',\n",
       " 'Apr',\n",
       " 'Apr',\n",
       " 'Apr',\n",
       " 'Apr',\n",
       " 'Apr',\n",
       " 'Apr',\n",
       " 'Apr',\n",
       " 'Apr',\n",
       " 'Apr',\n",
       " 'Apr',\n",
       " 'Apr',\n",
       " 'Apr',\n",
       " 'Apr',\n",
       " 'Apr',\n",
       " 'Apr',\n",
       " 'Apr',\n",
       " 'Apr',\n",
       " 'Apr',\n",
       " 'Apr',\n",
       " 'Apr',\n",
       " 'Apr',\n",
       " 'Apr',\n",
       " 'Apr',\n",
       " 'Apr',\n",
       " 'Apr',\n",
       " 'May',\n",
       " 'May',\n",
       " 'May',\n",
       " 'May',\n",
       " 'May',\n",
       " 'May',\n",
       " 'May',\n",
       " 'May',\n",
       " 'May',\n",
       " 'May',\n",
       " 'May',\n",
       " 'May',\n",
       " 'May',\n",
       " 'May',\n",
       " 'May',\n",
       " 'May',\n",
       " 'May',\n",
       " 'May',\n",
       " 'May',\n",
       " 'May',\n",
       " 'May',\n",
       " 'May',\n",
       " 'May',\n",
       " 'May',\n",
       " 'May',\n",
       " 'May',\n",
       " 'May',\n",
       " 'May',\n",
       " 'May',\n",
       " 'May',\n",
       " 'May',\n",
       " 'June',\n",
       " 'June',\n",
       " 'June',\n",
       " 'June',\n",
       " 'June',\n",
       " 'June',\n",
       " 'June',\n",
       " 'June',\n",
       " 'June',\n",
       " 'June',\n",
       " 'June',\n",
       " 'June',\n",
       " 'June',\n",
       " 'June',\n",
       " 'June',\n",
       " 'June',\n",
       " 'June',\n",
       " 'June',\n",
       " 'June',\n",
       " 'June',\n",
       " 'June',\n",
       " 'June',\n",
       " 'June',\n",
       " 'June',\n",
       " 'June',\n",
       " 'June',\n",
       " 'June',\n",
       " 'June',\n",
       " 'June',\n",
       " 'June',\n",
       " 'July',\n",
       " 'July',\n",
       " 'July',\n",
       " 'July',\n",
       " 'July',\n",
       " 'July',\n",
       " 'July',\n",
       " 'July',\n",
       " 'July',\n",
       " 'July',\n",
       " 'July',\n",
       " 'July',\n",
       " 'July',\n",
       " 'July',\n",
       " 'July',\n",
       " 'July',\n",
       " 'July',\n",
       " 'July',\n",
       " 'July',\n",
       " 'July',\n",
       " 'July',\n",
       " 'July',\n",
       " 'July',\n",
       " 'July',\n",
       " 'July',\n",
       " 'July',\n",
       " 'July',\n",
       " 'July',\n",
       " 'July',\n",
       " 'July',\n",
       " 'July',\n",
       " 'Aug',\n",
       " 'Aug',\n",
       " 'Aug',\n",
       " 'Aug',\n",
       " 'Aug',\n",
       " 'Aug',\n",
       " 'Aug',\n",
       " 'Aug',\n",
       " 'Aug',\n",
       " 'Aug',\n",
       " 'Aug',\n",
       " 'Aug',\n",
       " 'Aug',\n",
       " 'Aug',\n",
       " 'Aug',\n",
       " 'Jan',\n",
       " 'Jan',\n",
       " 'Jan',\n",
       " 'Jan',\n",
       " 'Jan',\n",
       " 'Jan',\n",
       " 'Jan',\n",
       " 'Jan',\n",
       " 'Jan',\n",
       " 'Jan',\n",
       " 'Jan',\n",
       " 'Jan',\n",
       " 'Jan',\n",
       " 'Jan',\n",
       " 'Jan',\n",
       " 'Jan',\n",
       " 'Feb',\n",
       " 'Feb',\n",
       " 'Feb',\n",
       " 'Feb',\n",
       " 'Feb',\n",
       " 'Feb',\n",
       " 'Feb',\n",
       " 'Feb',\n",
       " 'Feb',\n",
       " 'Feb',\n",
       " 'Feb',\n",
       " 'Feb',\n",
       " 'Feb',\n",
       " 'Feb',\n",
       " 'Feb',\n",
       " 'Feb',\n",
       " 'Feb',\n",
       " 'Feb',\n",
       " 'Feb',\n",
       " 'Feb',\n",
       " 'Feb',\n",
       " 'Feb',\n",
       " 'Feb',\n",
       " 'Feb',\n",
       " 'Feb',\n",
       " 'Feb',\n",
       " 'Feb',\n",
       " 'Feb',\n",
       " 'March',\n",
       " 'March',\n",
       " 'March',\n",
       " 'March',\n",
       " 'March',\n",
       " 'March',\n",
       " 'March',\n",
       " 'March',\n",
       " 'March',\n",
       " 'March',\n",
       " 'March',\n",
       " 'March',\n",
       " 'March',\n",
       " 'March',\n",
       " 'March',\n",
       " 'March',\n",
       " 'March',\n",
       " 'March',\n",
       " 'March',\n",
       " 'March',\n",
       " 'March',\n",
       " 'March',\n",
       " 'March',\n",
       " 'March',\n",
       " 'March',\n",
       " 'March',\n",
       " 'March',\n",
       " 'March',\n",
       " 'March',\n",
       " 'March',\n",
       " 'March',\n",
       " 'Apr',\n",
       " 'Apr',\n",
       " 'Apr',\n",
       " 'Apr',\n",
       " 'Apr',\n",
       " 'Apr',\n",
       " 'Apr',\n",
       " 'Apr',\n",
       " 'Apr',\n",
       " 'Apr',\n",
       " 'Apr',\n",
       " 'Apr',\n",
       " 'Apr',\n",
       " 'Apr',\n",
       " 'Apr',\n",
       " 'Apr',\n",
       " 'Apr',\n",
       " 'Apr',\n",
       " 'Apr',\n",
       " 'Apr',\n",
       " 'Apr',\n",
       " 'Apr',\n",
       " 'Apr',\n",
       " 'Apr',\n",
       " 'Apr',\n",
       " 'Apr',\n",
       " 'Apr',\n",
       " 'Apr',\n",
       " 'Apr',\n",
       " 'Apr',\n",
       " 'May',\n",
       " 'May',\n",
       " 'May',\n",
       " 'May',\n",
       " 'May',\n",
       " 'May',\n",
       " 'May',\n",
       " 'May',\n",
       " 'May',\n",
       " 'May',\n",
       " 'May',\n",
       " 'May',\n",
       " 'May',\n",
       " 'May',\n",
       " 'May',\n",
       " 'May',\n",
       " 'May',\n",
       " 'May',\n",
       " 'May',\n",
       " 'May',\n",
       " 'May',\n",
       " 'May',\n",
       " 'May',\n",
       " 'May',\n",
       " 'May',\n",
       " 'May',\n",
       " 'May',\n",
       " 'May',\n",
       " 'May',\n",
       " 'May',\n",
       " 'May',\n",
       " 'June',\n",
       " 'June',\n",
       " 'June',\n",
       " 'June',\n",
       " 'June',\n",
       " 'June',\n",
       " 'June',\n",
       " 'June',\n",
       " 'June',\n",
       " 'June',\n",
       " 'June',\n",
       " 'June',\n",
       " 'June',\n",
       " 'June',\n",
       " 'June',\n",
       " 'June',\n",
       " ...]"
      ]
     },
     "execution_count": 236,
     "metadata": {},
     "output_type": "execute_result"
    }
   ],
   "source": [
    "month_list"
   ]
  },
  {
   "cell_type": "code",
   "execution_count": 237,
   "id": "da2bccdb",
   "metadata": {},
   "outputs": [],
   "source": [
    "data['Month']=month_list"
   ]
  },
  {
   "cell_type": "code",
   "execution_count": 238,
   "id": "57e73b6a",
   "metadata": {},
   "outputs": [
    {
     "data": {
      "text/html": [
       "<div>\n",
       "<style scoped>\n",
       "    .dataframe tbody tr th:only-of-type {\n",
       "        vertical-align: middle;\n",
       "    }\n",
       "\n",
       "    .dataframe tbody tr th {\n",
       "        vertical-align: top;\n",
       "    }\n",
       "\n",
       "    .dataframe thead th {\n",
       "        text-align: right;\n",
       "    }\n",
       "</style>\n",
       "<table border=\"1\" class=\"dataframe\">\n",
       "  <thead>\n",
       "    <tr style=\"text-align: right;\">\n",
       "      <th></th>\n",
       "      <th>Updated On</th>\n",
       "      <th>State</th>\n",
       "      <th>Total Doses Administered</th>\n",
       "      <th>Sessions</th>\n",
       "      <th>Sites</th>\n",
       "      <th>First Dose Administered</th>\n",
       "      <th>Second Dose Administered</th>\n",
       "      <th>Male (Doses Administered)</th>\n",
       "      <th>Female (Doses Administered)</th>\n",
       "      <th>Transgender (Doses Administered)</th>\n",
       "      <th>...</th>\n",
       "      <th>45-60 Years (Doses Administered)</th>\n",
       "      <th>60+ Years (Doses Administered)</th>\n",
       "      <th>18-44 Years(Individuals Vaccinated)</th>\n",
       "      <th>45-60 Years(Individuals Vaccinated)</th>\n",
       "      <th>60+ Years(Individuals Vaccinated)</th>\n",
       "      <th>Male(Individuals Vaccinated)</th>\n",
       "      <th>Female(Individuals Vaccinated)</th>\n",
       "      <th>Transgender(Individuals Vaccinated)</th>\n",
       "      <th>Total Individuals Vaccinated</th>\n",
       "      <th>Month</th>\n",
       "    </tr>\n",
       "  </thead>\n",
       "  <tbody>\n",
       "    <tr>\n",
       "      <th>0</th>\n",
       "      <td>16/01/2021</td>\n",
       "      <td>India</td>\n",
       "      <td>48276.0</td>\n",
       "      <td>3455.0</td>\n",
       "      <td>2957.0</td>\n",
       "      <td>48276.0</td>\n",
       "      <td>0.0</td>\n",
       "      <td>NaN</td>\n",
       "      <td>NaN</td>\n",
       "      <td>NaN</td>\n",
       "      <td>...</td>\n",
       "      <td>NaN</td>\n",
       "      <td>NaN</td>\n",
       "      <td>NaN</td>\n",
       "      <td>NaN</td>\n",
       "      <td>NaN</td>\n",
       "      <td>23757.0</td>\n",
       "      <td>24517.0</td>\n",
       "      <td>2.0</td>\n",
       "      <td>48276.0</td>\n",
       "      <td>Jan</td>\n",
       "    </tr>\n",
       "    <tr>\n",
       "      <th>1</th>\n",
       "      <td>17/01/2021</td>\n",
       "      <td>India</td>\n",
       "      <td>58604.0</td>\n",
       "      <td>8532.0</td>\n",
       "      <td>4954.0</td>\n",
       "      <td>58604.0</td>\n",
       "      <td>0.0</td>\n",
       "      <td>NaN</td>\n",
       "      <td>NaN</td>\n",
       "      <td>NaN</td>\n",
       "      <td>...</td>\n",
       "      <td>NaN</td>\n",
       "      <td>NaN</td>\n",
       "      <td>NaN</td>\n",
       "      <td>NaN</td>\n",
       "      <td>NaN</td>\n",
       "      <td>27348.0</td>\n",
       "      <td>31252.0</td>\n",
       "      <td>4.0</td>\n",
       "      <td>58604.0</td>\n",
       "      <td>Jan</td>\n",
       "    </tr>\n",
       "    <tr>\n",
       "      <th>2</th>\n",
       "      <td>18/01/2021</td>\n",
       "      <td>India</td>\n",
       "      <td>99449.0</td>\n",
       "      <td>13611.0</td>\n",
       "      <td>6583.0</td>\n",
       "      <td>99449.0</td>\n",
       "      <td>0.0</td>\n",
       "      <td>NaN</td>\n",
       "      <td>NaN</td>\n",
       "      <td>NaN</td>\n",
       "      <td>...</td>\n",
       "      <td>NaN</td>\n",
       "      <td>NaN</td>\n",
       "      <td>NaN</td>\n",
       "      <td>NaN</td>\n",
       "      <td>NaN</td>\n",
       "      <td>41361.0</td>\n",
       "      <td>58083.0</td>\n",
       "      <td>5.0</td>\n",
       "      <td>99449.0</td>\n",
       "      <td>Jan</td>\n",
       "    </tr>\n",
       "    <tr>\n",
       "      <th>3</th>\n",
       "      <td>19/01/2021</td>\n",
       "      <td>India</td>\n",
       "      <td>195525.0</td>\n",
       "      <td>17855.0</td>\n",
       "      <td>7951.0</td>\n",
       "      <td>195525.0</td>\n",
       "      <td>0.0</td>\n",
       "      <td>NaN</td>\n",
       "      <td>NaN</td>\n",
       "      <td>NaN</td>\n",
       "      <td>...</td>\n",
       "      <td>NaN</td>\n",
       "      <td>NaN</td>\n",
       "      <td>NaN</td>\n",
       "      <td>NaN</td>\n",
       "      <td>NaN</td>\n",
       "      <td>81901.0</td>\n",
       "      <td>113613.0</td>\n",
       "      <td>11.0</td>\n",
       "      <td>195525.0</td>\n",
       "      <td>Jan</td>\n",
       "    </tr>\n",
       "    <tr>\n",
       "      <th>4</th>\n",
       "      <td>20/01/2021</td>\n",
       "      <td>India</td>\n",
       "      <td>251280.0</td>\n",
       "      <td>25472.0</td>\n",
       "      <td>10504.0</td>\n",
       "      <td>251280.0</td>\n",
       "      <td>0.0</td>\n",
       "      <td>NaN</td>\n",
       "      <td>NaN</td>\n",
       "      <td>NaN</td>\n",
       "      <td>...</td>\n",
       "      <td>NaN</td>\n",
       "      <td>NaN</td>\n",
       "      <td>NaN</td>\n",
       "      <td>NaN</td>\n",
       "      <td>NaN</td>\n",
       "      <td>98111.0</td>\n",
       "      <td>153145.0</td>\n",
       "      <td>24.0</td>\n",
       "      <td>251280.0</td>\n",
       "      <td>Jan</td>\n",
       "    </tr>\n",
       "  </tbody>\n",
       "</table>\n",
       "<p>5 rows × 25 columns</p>\n",
       "</div>"
      ],
      "text/plain": [
       "   Updated On  State  Total Doses Administered  Sessions   Sites   \\\n",
       "0  16/01/2021  India                   48276.0    3455.0   2957.0   \n",
       "1  17/01/2021  India                   58604.0    8532.0   4954.0   \n",
       "2  18/01/2021  India                   99449.0   13611.0   6583.0   \n",
       "3  19/01/2021  India                  195525.0   17855.0   7951.0   \n",
       "4  20/01/2021  India                  251280.0   25472.0  10504.0   \n",
       "\n",
       "   First Dose Administered  Second Dose Administered  \\\n",
       "0                  48276.0                       0.0   \n",
       "1                  58604.0                       0.0   \n",
       "2                  99449.0                       0.0   \n",
       "3                 195525.0                       0.0   \n",
       "4                 251280.0                       0.0   \n",
       "\n",
       "   Male (Doses Administered)  Female (Doses Administered)  \\\n",
       "0                        NaN                          NaN   \n",
       "1                        NaN                          NaN   \n",
       "2                        NaN                          NaN   \n",
       "3                        NaN                          NaN   \n",
       "4                        NaN                          NaN   \n",
       "\n",
       "   Transgender (Doses Administered)  ...  45-60 Years (Doses Administered)  \\\n",
       "0                               NaN  ...                               NaN   \n",
       "1                               NaN  ...                               NaN   \n",
       "2                               NaN  ...                               NaN   \n",
       "3                               NaN  ...                               NaN   \n",
       "4                               NaN  ...                               NaN   \n",
       "\n",
       "   60+ Years (Doses Administered)  18-44 Years(Individuals Vaccinated)  \\\n",
       "0                             NaN                                  NaN   \n",
       "1                             NaN                                  NaN   \n",
       "2                             NaN                                  NaN   \n",
       "3                             NaN                                  NaN   \n",
       "4                             NaN                                  NaN   \n",
       "\n",
       "   45-60 Years(Individuals Vaccinated)  60+ Years(Individuals Vaccinated)  \\\n",
       "0                                  NaN                                NaN   \n",
       "1                                  NaN                                NaN   \n",
       "2                                  NaN                                NaN   \n",
       "3                                  NaN                                NaN   \n",
       "4                                  NaN                                NaN   \n",
       "\n",
       "   Male(Individuals Vaccinated)  Female(Individuals Vaccinated)  \\\n",
       "0                       23757.0                         24517.0   \n",
       "1                       27348.0                         31252.0   \n",
       "2                       41361.0                         58083.0   \n",
       "3                       81901.0                        113613.0   \n",
       "4                       98111.0                        153145.0   \n",
       "\n",
       "   Transgender(Individuals Vaccinated)  Total Individuals Vaccinated  Month  \n",
       "0                                  2.0                       48276.0    Jan  \n",
       "1                                  4.0                       58604.0    Jan  \n",
       "2                                  5.0                       99449.0    Jan  \n",
       "3                                 11.0                      195525.0    Jan  \n",
       "4                                 24.0                      251280.0    Jan  \n",
       "\n",
       "[5 rows x 25 columns]"
      ]
     },
     "execution_count": 238,
     "metadata": {},
     "output_type": "execute_result"
    }
   ],
   "source": [
    "data.head()"
   ]
  },
  {
   "cell_type": "code",
   "execution_count": 253,
   "id": "146d3904",
   "metadata": {},
   "outputs": [],
   "source": [
    "first_doses,second_doses=[],[]\n",
    "all_months=['Jan','Feb','March','Apr','May','June','July','Aug','Sep','Oct','Nov','Dec']\n",
    "\n",
    "for month in all_months:\n",
    "    first_doses.append(data['First Dose Administered'].where((data['State']=='India') & (data['Month']==month)).sum())\n",
    "    second_doses.append(data['Second Dose Administered'].where((data['State']=='India') & (data['Month']==month)).sum())\n"
   ]
  },
  {
   "cell_type": "code",
   "execution_count": 276,
   "id": "71548e8f",
   "metadata": {},
   "outputs": [
    {
     "name": "stdout",
     "output_type": "stream",
     "text": [
      "[18765061.0, 216101565.0, 906769599.0, 2919662727.0, 4450751102.0, 6506027625.0, 9792276397.0]\n",
      "\n",
      "[0.0, 16956380.0, 185210842.0, 466052823.0, 1176460242.0, 1470588764.0, 2471249544.0]\n"
     ]
    }
   ],
   "source": [
    "first_doses=first_doses[:7]\n",
    "second_doses=second_doses[:7]\n",
    "print(first_doses,second_doses,sep=\"\\n\\n\")"
   ]
  },
  {
   "cell_type": "code",
   "execution_count": 277,
   "id": "ffcc2766",
   "metadata": {},
   "outputs": [],
   "source": [
    "all_months=['Jan', 'Feb', 'March', 'Apr', 'May', 'June', 'July']\n"
   ]
  },
  {
   "cell_type": "code",
   "execution_count": 278,
   "id": "31835708",
   "metadata": {},
   "outputs": [],
   "source": [
    "monthwise_data=pd.DataFrame({'Months':all_months,\n",
    "                            'First_Doses':first_doses,\n",
    "                            'Second_Doses':second_doses})"
   ]
  },
  {
   "cell_type": "code",
   "execution_count": 279,
   "id": "9ff71eec",
   "metadata": {},
   "outputs": [
    {
     "data": {
      "text/html": [
       "<div>\n",
       "<style scoped>\n",
       "    .dataframe tbody tr th:only-of-type {\n",
       "        vertical-align: middle;\n",
       "    }\n",
       "\n",
       "    .dataframe tbody tr th {\n",
       "        vertical-align: top;\n",
       "    }\n",
       "\n",
       "    .dataframe thead th {\n",
       "        text-align: right;\n",
       "    }\n",
       "</style>\n",
       "<table border=\"1\" class=\"dataframe\">\n",
       "  <thead>\n",
       "    <tr style=\"text-align: right;\">\n",
       "      <th></th>\n",
       "      <th>Months</th>\n",
       "      <th>First_Doses</th>\n",
       "      <th>Second_Doses</th>\n",
       "    </tr>\n",
       "  </thead>\n",
       "  <tbody>\n",
       "    <tr>\n",
       "      <th>0</th>\n",
       "      <td>Jan</td>\n",
       "      <td>1.876506e+07</td>\n",
       "      <td>0.000000e+00</td>\n",
       "    </tr>\n",
       "    <tr>\n",
       "      <th>1</th>\n",
       "      <td>Feb</td>\n",
       "      <td>2.161016e+08</td>\n",
       "      <td>1.695638e+07</td>\n",
       "    </tr>\n",
       "    <tr>\n",
       "      <th>2</th>\n",
       "      <td>March</td>\n",
       "      <td>9.067696e+08</td>\n",
       "      <td>1.852108e+08</td>\n",
       "    </tr>\n",
       "    <tr>\n",
       "      <th>3</th>\n",
       "      <td>Apr</td>\n",
       "      <td>2.919663e+09</td>\n",
       "      <td>4.660528e+08</td>\n",
       "    </tr>\n",
       "    <tr>\n",
       "      <th>4</th>\n",
       "      <td>May</td>\n",
       "      <td>4.450751e+09</td>\n",
       "      <td>1.176460e+09</td>\n",
       "    </tr>\n",
       "  </tbody>\n",
       "</table>\n",
       "</div>"
      ],
      "text/plain": [
       "  Months   First_Doses  Second_Doses\n",
       "0    Jan  1.876506e+07  0.000000e+00\n",
       "1    Feb  2.161016e+08  1.695638e+07\n",
       "2  March  9.067696e+08  1.852108e+08\n",
       "3    Apr  2.919663e+09  4.660528e+08\n",
       "4    May  4.450751e+09  1.176460e+09"
      ]
     },
     "execution_count": 279,
     "metadata": {},
     "output_type": "execute_result"
    }
   ],
   "source": [
    "monthwise_data.head()"
   ]
  },
  {
   "cell_type": "code",
   "execution_count": 280,
   "id": "9095bfea",
   "metadata": {},
   "outputs": [
    {
     "data": {
      "image/png": "[encoded data removed]",
      "text/plain": [
       "<Figure size 1440x648 with 1 Axes>"
      ]
     },
     "metadata": {},
     "output_type": "display_data"
    }
   ],
   "source": [
    "plt.figure(figsize = (20,9))\n",
    "#sns.set(style='darkgrid',)\n",
    " \n",
    "\n",
    "fig=sns.lineplot(data=monthwise_data, x=\"Months\", y=\"First_Doses\")\n",
    "fig=sns.lineplot(data=monthwise_data, x=\"Months\", y=\"Second_Doses\")\n",
    "\n",
    "plt.title('First Dose vs Second Dose',fontdict= { 'fontsize': 35, 'fontweight':'bold'})\n",
    "plt.xlabel('Months',fontsize=20)\n",
    "plt.ylabel('First Dose vs Second Dose',fontsize=20)\n",
    "\n",
    "\n",
    "plt.show(fig)"
   ]
  },
  {
   "cell_type": "code",
   "execution_count": null,
   "id": "b7fba458",
   "metadata": {},
   "outputs": [],
   "source": []
  },
  {
   "cell_type": "code",
   "execution_count": null,
   "id": "218856d9",
   "metadata": {},
   "outputs": [],
   "source": []
  },
  {
   "cell_type": "code",
   "execution_count": null,
   "id": "49f0547f",
   "metadata": {},
   "outputs": [],
   "source": []
  },
  {
   "cell_type": "code",
   "execution_count": null,
   "id": "4a77f78d",
   "metadata": {},
   "outputs": [],
   "source": []
  }
 ],
 "metadata": {
  "kernelspec": {
   "display_name": "Python 3",
   "language": "python",
   "name": "python3"
  },
  "language_info": {
   "codemirror_mode": {
    "name": "ipython",
    "version": 3
   },
   "file_extension": ".py",
   "mimetype": "text/x-python",
   "name": "python",
   "nbconvert_exporter": "python",
   "pygments_lexer": "ipython3",
   "version": "3.8.8"
  }
 },
 "nbformat": 4,
 "nbformat_minor": 5
}
